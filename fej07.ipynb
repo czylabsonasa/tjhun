{
 "cells": [
  {
   "cell_type": "markdown",
   "metadata": {},
   "source": [
    "# Ismétlés-iteráció\n",
    "\n",
    "Ismétlés=Bizonyos utasítás-csoportok ismételt végrehajtása. \n",
    "\n",
    "## ```while```\n",
    "A faktoriális függvényt megvalósíthatjuk \n",
    "a következőképpen is, a ```while``` utasítással:"
   ]
  },
  {
   "cell_type": "code",
   "execution_count": 33,
   "metadata": {},
   "outputs": [
    {
     "data": {
      "text/plain": [
       "4-element Array{Int64,1}:\n",
       "  1\n",
       "  2\n",
       "  6\n",
       " 24"
      ]
     },
     "execution_count": 33,
     "metadata": {},
     "output_type": "execute_result"
    }
   ],
   "source": [
    "function fact(n)\n",
    "  res=1\n",
    "  i=2\n",
    "  while i<=n # true/false logikai feltétel\n",
    "    res*=i\n",
    "    i+=1\n",
    "  end\n",
    "  res\n",
    "end\n",
    "fact.(1:4)\n"
   ]
  },
  {
   "cell_type": "markdown",
   "metadata": {},
   "source": [
    "Itt most alulról, a lenti végétől építjük fel a faktoriálist. $1!=1$ már ki van számolva. <br>\n",
    "Ha ```while``` (fej) utáni logikai kifejezés értéke igaz, akkor a törzsben levő utasítások végrehajtódnak, <br>\n",
    "majd újra a fejben levő feltétel vizsgálata következik. Minden $i<=n$ vizsgálatkor a $res=(i-1)!$, ez a ciklusunk <br> invariánsa, ezért működik jól. <br>\n",
    "\n",
    "A ```visszaSzámol``` ismétléses változata:"
   ]
  },
  {
   "cell_type": "code",
   "execution_count": 34,
   "metadata": {},
   "outputs": [
    {
     "name": "stdout",
     "output_type": "stream",
     "text": [
      "5 4 3 2 1 Bumm!\n"
     ]
    }
   ],
   "source": [
    "function visszaSzámol(n)\n",
    "    while n>0\n",
    "      print(n, \" \")\n",
    "      n-=1\n",
    "    end\n",
    "    println(\"Bumm!\")\n",
    "end\n",
    "visszaSzámol(5)"
   ]
  },
  {
   "cell_type": "markdown",
   "metadata": {},
   "source": [
    "Összefoglalva:<br>\n",
    "```julia\n",
    "while kifejezés(feltétel)\n",
    "  törzs \n",
    "end\n",
    "```\n",
    "Amíg a kifejezés igaz, addig a törzs végrhajtódik (kiértékelődik).\n",
    "1. Ha a feltétel mindig hamis, a torzs egyszer sem hajtódik végre.\n",
    "1. Ha a törzs egyszer végrhajtódik és a feltétel értékére a törzs <br>\n",
    "   végrehajtása nincs hatással akkor (elvileg) végtelen ciklussal találkoztunk.\n",
    "\n",
    "Azt hogy a feltétel véges sok lépés (törzs kiértékelés) után hamis lesz vagy sem, <br>\n",
    "nem mindig könnyű eldönteni. Például a [Collatz](https://en.wikipedia.org/wiki/Collatz_conjecture)-féle \n",
    "probléma esetén, máig sem tudjuk hogy egy bizonyos ciklus megáll vagy sem minden inputra."
   ]
  },
  {
   "cell_type": "code",
   "execution_count": 35,
   "metadata": {},
   "outputs": [
    {
     "name": "stdout",
     "output_type": "stream",
     "text": [
      "6\n",
      "3\n",
      "10\n",
      "5\n",
      "16\n",
      "8\n",
      "4\n",
      "2\n"
     ]
    }
   ],
   "source": [
    "function Collatz(n)\n",
    "  while n != 1\n",
    "    println(n)\n",
    "    n= if mod(n,2)==0 div(n,2) else 3*n+1 end\n",
    "  end\n",
    "end\n",
    "Collatz(6)"
   ]
  },
  {
   "cell_type": "markdown",
   "metadata": {},
   "source": [
    "### ```break```\n",
    "\n",
    "Néha hamarabb abba akarjuk hagyni az ismétlést, mintsem hogy kivárnánk míg a feltétel hamissá válik.<br>\n",
    "Például egy $n$ szám prím mivoltát tesztelve, 2 és n-1 közötti $d$ számokat választunk és megnézzük osztja-e<br>\n",
    "$d$ az $n$-et. Ha osztja, akkor tudjuk hogy $n$ nem prím, így kiléphetünk a cikklusból:"
   ]
  },
  {
   "cell_type": "code",
   "execution_count": 39,
   "metadata": {},
   "outputs": [
    {
     "data": {
      "text/plain": [
       "7-element BitArray{1}:\n",
       " false\n",
       "  true\n",
       "  true\n",
       " false\n",
       "  true\n",
       " false\n",
       "  true"
      ]
     },
     "execution_count": 39,
     "metadata": {},
     "output_type": "execute_result"
    }
   ],
   "source": [
    "function isPrime(n)\n",
    "  if n<3 return n==2 end\n",
    "  ans=true\n",
    "  d=2\n",
    "  while d<n\n",
    "    if n%d==0\n",
    "      ans=false\n",
    "      break\n",
    "    end\n",
    "    d+=1\n",
    "  end\n",
    "  ans\n",
    "end\n",
    "isPrime.(1:7)"
   ]
  },
  {
   "cell_type": "markdown",
   "metadata": {},
   "source": [
    "Használata néha elkerülhető:\n"
   ]
  },
  {
   "cell_type": "code",
   "execution_count": 40,
   "metadata": {},
   "outputs": [
    {
     "data": {
      "text/plain": [
       "7-element BitArray{1}:\n",
       " false\n",
       "  true\n",
       "  true\n",
       " false\n",
       "  true\n",
       " false\n",
       "  true"
      ]
     },
     "execution_count": 40,
     "metadata": {},
     "output_type": "execute_result"
    }
   ],
   "source": [
    "function isPrime(n)\n",
    "  if n<3 return n==2 end\n",
    "  ans=true\n",
    "  d=2\n",
    "  while d<n && (ans=(n%d>0))\n",
    "    d+=1\n",
    "  end\n",
    "  ans\n",
    "end\n",
    "isPrime.(1:7)"
   ]
  },
  {
   "cell_type": "markdown",
   "metadata": {},
   "source": [
    "### ```continue```\n",
    "\n",
    "Néha a törzs egyes részeit at akarjuk ugrani bizonyos feltételek esetén. Például: írjuk ki a $2,3,5$ közül <br>\n",
    "egyikkel osztható számokat egy bizonyos határig.\n"
   ]
  },
  {
   "cell_type": "code",
   "execution_count": 38,
   "metadata": {},
   "outputs": [
    {
     "name": "stdout",
     "output_type": "stream",
     "text": [
      "1 7 11 13 17 19 23 29 31 37 41 43 47 49 53 59 61 67 71 73 77 79 83 89 91 97 101 "
     ]
    }
   ],
   "source": [
    "function számok(n)\n",
    "  k=0\n",
    "  while k<=n\n",
    "    k+=1\n",
    "    if k%2==0 || k%3==0 || k%5==0 continue end\n",
    "    print(k,\" \")\n",
    "  end\n",
    "end\n",
    "számok(100)"
   ]
  },
  {
   "cell_type": "code",
   "execution_count": null,
   "metadata": {},
   "outputs": [],
   "source": []
  }
 ],
 "metadata": {
  "@webio": {
   "lastCommId": "50e7006e21d1454082625702669ec7dd",
   "lastKernelId": "c22df176-e50f-4b73-86b0-3e1a52744ac4"
  },
  "kernelspec": {
   "display_name": "Julia 1.0.3",
   "language": "julia",
   "name": "julia-1.0"
  },
  "language_info": {
   "file_extension": ".jl",
   "mimetype": "application/julia",
   "name": "julia",
   "version": "1.0.3"
  }
 },
 "nbformat": 4,
 "nbformat_minor": 2
}
