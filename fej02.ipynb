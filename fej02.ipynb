{
 "cells": [
  {
   "cell_type": "markdown",
   "metadata": {},
   "source": [
    "# Változók, kifejezések, utasítások\n",
    "\n",
    "## Értékadás\n",
    "\n",
    "A programozási nyelvek nagyszerű képessége, hogy neveket rendelhetünk értékekhez:"
   ]
  },
  {
   "cell_type": "code",
   "execution_count": 29,
   "metadata": {},
   "outputs": [
    {
     "data": {
      "text/plain": [
       "1"
      ]
     },
     "execution_count": 29,
     "metadata": {},
     "output_type": "execute_result"
    }
   ],
   "source": [
    "egész=1"
   ]
  },
  {
   "cell_type": "code",
   "execution_count": 30,
   "metadata": {},
   "outputs": [
    {
     "data": {
      "text/plain": [
       "1.1"
      ]
     },
     "execution_count": 30,
     "metadata": {},
     "output_type": "execute_result"
    }
   ],
   "source": [
    "tört=1.1"
   ]
  },
  {
   "cell_type": "code",
   "execution_count": 31,
   "metadata": {},
   "outputs": [
    {
     "data": {
      "text/plain": [
       "'1': ASCII/Unicode U+0031 (category Nd: Number, decimal digit)"
      ]
     },
     "execution_count": 31,
     "metadata": {},
     "output_type": "execute_result"
    }
   ],
   "source": [
    "karakter='1'"
   ]
  },
  {
   "cell_type": "code",
   "execution_count": 32,
   "metadata": {},
   "outputs": [
    {
     "data": {
      "text/plain": [
       "\"1\""
      ]
     },
     "execution_count": 32,
     "metadata": {},
     "output_type": "execute_result"
    }
   ],
   "source": [
    "sztring=\"1\""
   ]
  },
  {
   "cell_type": "markdown",
   "metadata": {},
   "source": [
    "A ```név = érték``` kifejezés kiértékelése után a ```név``` sztringgel hivatkozhatunk az ```érték```-re,<br>\n",
    "azaz úgy használhatjuk, mintha az adott érték lenne. Ezt **értékadás**nak nevezzük, de a pontosabb <br>kifejezés: hozzákötjük a **nevet** az **értékhez**.<br>\n",
    "Ha mondjuk az $ax+b$ függvényt szeretnénk vizsgálni, akkor az"
   ]
  },
  {
   "cell_type": "code",
   "execution_count": 33,
   "metadata": {},
   "outputs": [
    {
     "data": {
      "text/plain": [
       "-1"
      ]
     },
     "execution_count": 33,
     "metadata": {},
     "output_type": "execute_result"
    }
   ],
   "source": [
    "a=1\n",
    "b=-1"
   ]
  },
  {
   "cell_type": "markdown",
   "metadata": {},
   "source": [
    "értékadások után, van értelme az"
   ]
  },
  {
   "cell_type": "code",
   "execution_count": 34,
   "metadata": {},
   "outputs": [
    {
     "data": {
      "text/plain": [
       "-2"
      ]
     },
     "execution_count": 34,
     "metadata": {},
     "output_type": "execute_result"
    }
   ],
   "source": [
    "y1=a*1+b\n",
    "y0=a*0+b\n",
    "ym1=a*(-1)+b"
   ]
  },
  {
   "cell_type": "markdown",
   "metadata": {},
   "source": [
    "újabb értékadásoknak és továbbiakban használhatjuk az új neveket. <br>\n",
    "\n",
    "\n",
    "## Nevek\n",
    "Természetesen nem minden jelsorozat használható változónévként:"
   ]
  },
  {
   "cell_type": "code",
   "execution_count": 35,
   "metadata": {},
   "outputs": [
    {
     "ename": "LoadError",
     "evalue": "syntax: extra token \"@\" after end of expression",
     "output_type": "error",
     "traceback": [
      "syntax: extra token \"@\" after end of expression",
      ""
     ]
    }
   ],
   "source": [
    "rossz@=12"
   ]
  },
  {
   "cell_type": "code",
   "execution_count": 36,
   "metadata": {},
   "outputs": [
    {
     "ename": "ErrorException",
     "evalue": "syntax: \"1\" is not a valid function argument name",
     "output_type": "error",
     "traceback": [
      "syntax: \"1\" is not a valid function argument name",
      ""
     ]
    }
   ],
   "source": [
    "1szám = 24"
   ]
  },
  {
   "cell_type": "code",
   "execution_count": 37,
   "metadata": {},
   "outputs": [
    {
     "data": {
      "text/plain": [
       "24"
      ]
     },
     "execution_count": 37,
     "metadata": {},
     "output_type": "execute_result"
    }
   ],
   "source": [
    "szám1 = 24"
   ]
  },
  {
   "cell_type": "code",
   "execution_count": 38,
   "metadata": {},
   "outputs": [
    {
     "data": {
      "text/plain": [
       "π = 3.1415926535897..."
      ]
     },
     "execution_count": 38,
     "metadata": {},
     "output_type": "execute_result"
    }
   ],
   "source": [
    "_πÉrtéke=pi"
   ]
  },
  {
   "cell_type": "markdown",
   "metadata": {},
   "source": [
    "Láthatjuk hogy elég sokféle karaktert használhatunk változóink elnevezésére. Legegyszerűbb ha a betűvel vagy aláhúzással kezdődik és betűvel, számmal vagy aláhúzással folytatódik szabályhoz tartjuk magunkat. Ezenkívül vannak bizonyos tiltott \n",
    "nevek, kulcsszavak melyeket a rendszer használ:\n",
    "\n",
    "| --- | --- | --- | --- | --- |\n",
    "| --- | --- | --- | --- | --- |\n",
    "| abstract type |  baremodule | begin  |    break   |         catch    |\n",
    "| const         | continue   |  do      |   else     |        elseif   |\n",
    "| end           | export     |  finally |   for       |       function |\n",
    "| global        | if         |  import  |   importall   |     let      |\n",
    "| local         | macro      |  module  |   mutable struct |   primitive type |\n",
    "| quote         | return     |  try     |   using         |   struct    |\n",
    "| while         |     ---       |   ---       |     ---            |    ---         |\n",
    "\n",
    "\n",
    "\n"
   ]
  },
  {
   "cell_type": "code",
   "execution_count": 39,
   "metadata": {},
   "outputs": [
    {
     "ename": "LoadError",
     "evalue": "syntax: unexpected \"end\"",
     "output_type": "error",
     "traceback": [
      "syntax: unexpected \"end\"",
      ""
     ]
    }
   ],
   "source": [
    "end = 123"
   ]
  },
  {
   "cell_type": "markdown",
   "metadata": {},
   "source": [
    "A rendszer függvényneveinek magáncélú felhasználása erősen <br>\n",
    "ellenjavallt, de lehetséges:"
   ]
  },
  {
   "cell_type": "code",
   "execution_count": 40,
   "metadata": {},
   "outputs": [
    {
     "data": {
      "text/plain": [
       "123"
      ]
     },
     "execution_count": 40,
     "metadata": {},
     "output_type": "execute_result"
    }
   ],
   "source": [
    "sin = 123"
   ]
  },
  {
   "cell_type": "markdown",
   "metadata": {},
   "source": [
    "Bár ezután ne akarjuk a ```sin``` függvényt használni:"
   ]
  },
  {
   "cell_type": "code",
   "execution_count": 41,
   "metadata": {},
   "outputs": [
    {
     "ename": "MethodError",
     "evalue": "MethodError: objects of type Int64 are not callable",
     "output_type": "error",
     "traceback": [
      "MethodError: objects of type Int64 are not callable",
      "",
      "Stacktrace:",
      " [1] top-level scope at In[41]:1"
     ]
    }
   ],
   "source": [
    "sin(pi)"
   ]
  },
  {
   "cell_type": "markdown",
   "metadata": {},
   "source": [
    "## Kifejezések, utasítások\n",
    "\n",
    "A *kifejezés*ek értékek, nevek és operátorok kombinációi, például az alábbiak mindegyike kifejezés:"
   ]
  },
  {
   "cell_type": "code",
   "execution_count": 42,
   "metadata": {},
   "outputs": [
    {
     "data": {
      "text/plain": [
       "\"Dörmögő Dömötör Dörmögő Dömötör \""
      ]
     },
     "execution_count": 42,
     "metadata": {},
     "output_type": "execute_result"
    }
   ],
   "source": [
    "sin=Base.sin # vissza kell állítani a sin-t, mert az előbb átdefiniáltuk\n",
    "n=1\n",
    "n=n+1\n",
    "(sin(n)+n+1)^3\n",
    "\"Dörmögő Dömötör \"^2"
   ]
  },
  {
   "cell_type": "markdown",
   "metadata": {},
   "source": [
    "Ha REPL-ben gépelsz egy kifejezést és nyelvtanilag hibátlan,<br> \n",
    "akkor a rendszer kiírtékeli, és az értéket kiírja."
   ]
  },
  {
   "cell_type": "markdown",
   "metadata": {},
   "source": [
    "## Szkript mód\n",
    "\n",
    "Használhatjuk a Juliát szkript-módban is. Ez hosszabb lélekzetű feladatok megoldásánál \n",
    "hasznos. Valamilyen sima text-editorral hozzunk létre egy programot, mentsük el ```példa01.jl``` néven:<br>\n",
    "\n",
    "```julia\n",
    "a=1\n",
    "b=2\n",
    "c=1\n",
    "delta=sqrt(b^2-4*a*c) # sqrt: négyzetgyök függvény\n",
    "x1=(-b+delta)/(2*a)\n",
    "x2=(-b-delta)/(2*a)\n",
    "```\n",
    "\n",
    "Ezt a szkriptet a REPL-ből vagy a Jupyter-rendszerből az<br> \n",
    "```julia\n",
    "include(\"példa01.jl\")\n",
    "```\n",
    "módon futtathatjuk:"
   ]
  },
  {
   "cell_type": "code",
   "execution_count": 45,
   "metadata": {},
   "outputs": [
    {
     "name": "stdout",
     "output_type": "stream",
     "text": [
      "-1.0 -1.0\n"
     ]
    }
   ],
   "source": [
    "include(\"példa01.jl\")\n",
    "println(x1, \" \", x2) # több paraméter vesszővel elválasztva"
   ]
  },
  {
   "cell_type": "markdown",
   "metadata": {},
   "source": [
    "Ami megfelel az elvárásoknak, hiszen a szkriptben az $x^2+2x+1=0$ egyenlet gyökeit számoltuk ki.\n",
    "\n",
    "## A kiértékelés sorrendje\n",
    "\n",
    "Ha egy kifejezés több operátort is tartalmaz a kiértékelés sorrendje függ az operátorok \n",
    "erősségétől, precedenciájától. Ez a ```PEMDAS``` szabály, mely csökkenő erősséggel adja meg a precedenciákat:\n",
    "\n",
    "| --- | --- |\n",
    "| --- | --- |\n",
    "| zárójel | Parentheses |\n",
    "| hatványozás | Exponentiation |\n",
    "| szorzás - osztás | Multiplication - Division |\n",
    "| összeadás - kivonás| Addition - Subtraction |\n",
    "\n",
    "Ha nem vagyunk biztosak a sorrendben, akkkor használjunk zárójelet!\n",
    "\n",
    "\n",
    "## Sztring műveletek\n",
    "\n",
    "A sztringek közötti természetes művelet az utánafűzés, egymás melléírás, amit a ```*``` \n",
    "operátor valósít meg:\n"
   ]
  },
  {
   "cell_type": "code",
   "execution_count": 46,
   "metadata": {},
   "outputs": [
    {
     "data": {
      "text/plain": [
       "\"Almásrétes\""
      ]
     },
     "execution_count": 46,
     "metadata": {},
     "output_type": "execute_result"
    }
   ],
   "source": [
    "\"Almás\" * \"rétes\""
   ]
  },
  {
   "cell_type": "markdown",
   "metadata": {},
   "source": [
    "Ha a két sztring egyenlő akkor használhatjuk a ```^```-t:"
   ]
  },
  {
   "cell_type": "code",
   "execution_count": 47,
   "metadata": {},
   "outputs": [
    {
     "data": {
      "text/plain": [
       "\"Hi Hi Hi \""
      ]
     },
     "execution_count": 47,
     "metadata": {},
     "output_type": "execute_result"
    }
   ],
   "source": [
    "\"Hi \"^3"
   ]
  },
  {
   "cell_type": "markdown",
   "metadata": {},
   "source": [
    "## Megjegyzések\n",
    "\n",
    "A sorok ```#``` utáni részét figyelmen kívül hagyja rendszer, ide írhatjuk a számításokkal kapcsolatos emlékeztető, <br>\n",
    "magyarázó szövegeinket:"
   ]
  },
  {
   "cell_type": "code",
   "execution_count": 48,
   "metadata": {},
   "outputs": [
    {
     "data": {
      "text/plain": [
       "1"
      ]
     },
     "execution_count": 48,
     "metadata": {},
     "output_type": "execute_result"
    }
   ],
   "source": [
    "a = 1 # ez lesz a főegyüttható"
   ]
  },
  {
   "cell_type": "markdown",
   "metadata": {},
   "source": [
    "Ha jól választjuk a változóneveket, akkor kevesebb magyarázkodásra van szükség:"
   ]
  },
  {
   "cell_type": "code",
   "execution_count": 50,
   "metadata": {},
   "outputs": [
    {
     "data": {
      "text/plain": [
       "100"
      ]
     },
     "execution_count": 50,
     "metadata": {},
     "output_type": "execute_result"
    }
   ],
   "source": [
    "velocity = 10\n",
    "time = 10\n",
    "distance = velocity * time "
   ]
  },
  {
   "cell_type": "markdown",
   "metadata": {},
   "source": [
    "## Hibakeresés\n",
    "\n",
    "A fejlesztés során felbukkanó hibák 3 fő csoportra bonthatóak:\n",
    "1. nyelvtani, szintaktikai<br>\n",
    "      nem tartottuk be a nyelv szabályai, hamar kiderül\n",
    "1. szemantikai, elvi<br>\n",
    "   a program nem az elvárt kimenetet adja bizonyos bemenetekre\n",
    "1. futás közbeni, \"run-time\"<br>\n",
    "   bizonyos bemenő adatokra kivételes, a program \n",
    "   által le nem kezelt esemény következik be\n",
    "   \n",
    "\n"
   ]
  }
 ],
 "metadata": {
  "@webio": {
   "lastCommId": "23a07a9da3a145558767eedf02afb861",
   "lastKernelId": "38d47f4c-9aff-4517-aaa0-aae1306165f9"
  },
  "kernelspec": {
   "display_name": "Julia 1.0.0",
   "language": "julia",
   "name": "julia-1.0"
  },
  "language_info": {
   "file_extension": ".jl",
   "mimetype": "application/julia",
   "name": "julia",
   "version": "1.0.0"
  }
 },
 "nbformat": 4,
 "nbformat_minor": 2
}
