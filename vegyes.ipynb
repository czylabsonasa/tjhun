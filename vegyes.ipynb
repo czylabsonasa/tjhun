{
 "cells": [
  {
   "cell_type": "markdown",
   "metadata": {},
   "source": [
    "# További olvasnivalók\n",
    "\n",
    "## [az értékadás értéke](https://www.juliabloggers.com/returned-value-of-assignment-in-julia/)\n",
    "\n",
    "## [különbségek a Matlab, C, python, R nyelvektől](https://docs.julialang.org/en/v1/manual/noteworthy-differences/index.html)\n",
    "\n",
    "## [nothing](https://docs.julialang.org/en/v1/manual/faq/#faq-nothing-1)\n",
    "\n",
    "## [paraméter - argumentum](https://stackoverflow.com/questions/1788923/parameter-vs-argument)"
   ]
  },
  {
   "cell_type": "code",
   "execution_count": null,
   "metadata": {},
   "outputs": [],
   "source": []
  }
 ],
 "metadata": {
  "@webio": {
   "lastCommId": "bcdca3c2c9bf47bc847d1c759647e199",
   "lastKernelId": "a195e642-abc5-4188-8f1d-65e3c2284229"
  },
  "kernelspec": {
   "display_name": "Julia 1.0.3",
   "language": "julia",
   "name": "julia-1.0"
  },
  "language_info": {
   "file_extension": ".jl",
   "mimetype": "application/julia",
   "name": "julia",
   "version": "1.0.3"
  }
 },
 "nbformat": 4,
 "nbformat_minor": 2
}
