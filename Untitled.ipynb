{
 "cells": [
  {
   "cell_type": "code",
   "execution_count": 6,
   "metadata": {},
   "outputs": [
    {
     "data": {
      "text/plain": [
       "semmi (generic function with 1 method)"
      ]
     },
     "execution_count": 6,
     "metadata": {},
     "output_type": "execute_result"
    }
   ],
   "source": [
    "function valami()\n",
    "  println(\"valami\")\n",
    "end\n",
    "function semmi()\n",
    "  valami()\n",
    "end"
   ]
  },
  {
   "cell_type": "code",
   "execution_count": 9,
   "metadata": {},
   "outputs": [
    {
     "name": "stdout",
     "output_type": "stream",
     "text": [
      "valami\n",
      "nothing"
     ]
    }
   ],
   "source": [
    "show(semmi())"
   ]
  },
  {
   "cell_type": "code",
   "execution_count": 21,
   "metadata": {},
   "outputs": [
    {
     "data": {
      "text/plain": [
       "f (generic function with 1 method)"
      ]
     },
     "execution_count": 21,
     "metadata": {},
     "output_type": "execute_result"
    }
   ],
   "source": [
    "f(x)=try\n",
    "  x=string(x)\n",
    "  println(parse(Int,x))\n",
    "catch e\n",
    "  if isa(e,Exception)\n",
    "#    show(e)\n",
    "#    println(\"hibás \", x)\n",
    "  end\n",
    "end"
   ]
  },
  {
   "cell_type": "code",
   "execution_count": 22,
   "metadata": {},
   "outputs": [],
   "source": [
    "f(1111.1)"
   ]
  },
  {
   "cell_type": "code",
   "execution_count": 4,
   "metadata": {},
   "outputs": [
    {
     "data": {
      "text/plain": [
       "false"
      ]
     },
     "execution_count": 4,
     "metadata": {},
     "output_type": "execute_result"
    }
   ],
   "source": [
    "isa(nothing,Exception)"
   ]
  },
  {
   "cell_type": "code",
   "execution_count": 24,
   "metadata": {},
   "outputs": [
    {
     "ename": "ArgumentError",
     "evalue": "ArgumentError: invalid base 10 digit '.' in \"1.0\"",
     "output_type": "error",
     "traceback": [
      "ArgumentError: invalid base 10 digit '.' in \"1.0\"",
      "",
      "Stacktrace:",
      " [1] tryparse_internal(::Type{Int64}, ::String, ::Int64, ::Int64, ::Int64, ::Bool) at ./parse.jl:128",
      " [2] #parse#332(::Nothing, ::Function, ::Type{Int64}, ::String) at ./parse.jl:228",
      " [3] parse(::Type{Int64}, ::String) at ./parse.jl:228",
      " [4] top-level scope at In[24]:1"
     ]
    }
   ],
   "source": [
    "parse(Int,\"1.0\")"
   ]
  },
  {
   "cell_type": "code",
   "execution_count": 39,
   "metadata": {},
   "outputs": [
    {
     "data": {
      "text/plain": [
       "f (generic function with 1 method)"
      ]
     },
     "execution_count": 39,
     "metadata": {},
     "output_type": "execute_result"
    }
   ],
   "source": [
    "function f(n)\n",
    "  sum(sin.(rand(n)))/n\n",
    "end\n"
   ]
  },
  {
   "cell_type": "code",
   "execution_count": 41,
   "metadata": {},
   "outputs": [
    {
     "name": "stdout",
     "output_type": "stream",
     "text": [
      "0.45964802806496\n",
      "  1.238176 seconds (41 allocations: 1.490 GiB, 8.80% gc time)\n"
     ]
    }
   ],
   "source": [
    "@time println(f(100000000))"
   ]
  },
  {
   "cell_type": "code",
   "execution_count": 51,
   "metadata": {},
   "outputs": [
    {
     "data": {
      "text/plain": [
       "jobbra (generic function with 1 method)"
      ]
     },
     "execution_count": 51,
     "metadata": {},
     "output_type": "execute_result"
    }
   ],
   "source": [
    "function jobbra(x,n)\n",
    "  if (l=length(x))>n return x end\n",
    "  repeat(' ',n-length(x))*x\n",
    "end"
   ]
  },
  {
   "cell_type": "code",
   "execution_count": 52,
   "metadata": {},
   "outputs": [
    {
     "data": {
      "text/plain": [
       "\"ab\""
      ]
     },
     "execution_count": 52,
     "metadata": {},
     "output_type": "execute_result"
    }
   ],
   "source": [
    "jobbra(\"ab\",1)"
   ]
  },
  {
   "cell_type": "code",
   "execution_count": 67,
   "metadata": {},
   "outputs": [
    {
     "data": {
      "text/plain": [
       "rács (generic function with 1 method)"
      ]
     },
     "execution_count": 67,
     "metadata": {},
     "output_type": "execute_result"
    }
   ],
   "source": [
    "function rács(kr, kc, br, bc)\n",
    "  belso = \"|\"*repeat(repeat(\" \",bc)*\"|\",kc)\n",
    "  belso = belso*repeat( \"\\n\"*belso, br-1)\n",
    "  zar = \"+\"*repeat(repeat(\"-\",bc)*\"+\",kc)\n",
    "  zar*\"\\n\"*repeat(belso*\"\\n\"*zar*\"\\n\",kr)\n",
    "end"
   ]
  },
  {
   "cell_type": "code",
   "execution_count": 75,
   "metadata": {},
   "outputs": [
    {
     "name": "stdout",
     "output_type": "stream",
     "text": [
      "+---+\n",
      "|   |\n",
      "+---+\n",
      "|   |\n",
      "+---+\n",
      "|   |\n",
      "+---+\n",
      "\n"
     ]
    }
   ],
   "source": [
    "println(rács(3,1,1,3))"
   ]
  },
  {
   "cell_type": "code",
   "execution_count": 77,
   "metadata": {},
   "outputs": [
    {
     "name": "stderr",
     "output_type": "stream",
     "text": [
      "┌ Info: Precompiling ThinkJulia [d92244c1-9090-5a36-a620-f6fb516cc00e]\n",
      "└ @ Base loading.jl:1192\n",
      "┌ Warning: Package ThinkJulia does not have Libdl in its dependencies:\n",
      "│ - If you have ThinkJulia checked out for development and have\n",
      "│   added Libdl as a dependency but haven't updated your primary\n",
      "│   environment's manifest file, try `Pkg.resolve()`.\n",
      "│ - Otherwise you may need to report an issue with ThinkJulia\n",
      "│ Loading Libdl into ThinkJulia from project dependency, future warnings for ThinkJulia are suppressed.\n",
      "└ @ nothing nothing:840\n"
     ]
    },
    {
     "ename": "UndefVarError",
     "evalue": "UndefVarError: teki not defined",
     "output_type": "error",
     "traceback": [
      "UndefVarError: teki not defined",
      "",
      "Stacktrace:",
      " [1] négyzet(::Turtle, ::Int64) at ./In[77]:4",
      " [2] top-level scope at ./In[77]:10"
     ]
    }
   ],
   "source": [
    "using ThinkJulia\n",
    "function négyzet(t, a) \n",
    "  for i in 1:4\n",
    "    forward(teki,a)\n",
    "    turn(teki,90)\n",
    "  end\n",
    "end\n",
    "@svg begin\n",
    "  for i in 10:10:50\n",
    "    négyzet(Turtle(),i)\n",
    "  end\n",
    "end 200 200 \"./elso.svg\"\n"
   ]
  },
  {
   "cell_type": "code",
   "execution_count": null,
   "metadata": {},
   "outputs": [],
   "source": []
  }
 ],
 "metadata": {
  "@webio": {
   "lastCommId": "ffcf47cdb07f4e9882f256d18592b294",
   "lastKernelId": "e8228567-af71-4d44-954f-d0a9554a8b78"
  },
  "kernelspec": {
   "display_name": "Julia 1.0.3",
   "language": "julia",
   "name": "julia-1.0"
  },
  "language_info": {
   "file_extension": ".jl",
   "mimetype": "application/julia",
   "name": "julia",
   "version": "1.0.3"
  }
 },
 "nbformat": 4,
 "nbformat_minor": 2
}
