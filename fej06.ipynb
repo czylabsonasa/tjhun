{
 "cells": [
  {
   "cell_type": "markdown",
   "metadata": {},
   "source": [
    "# Függvények, visszatérési értékek\n",
    "\n",
    "Juliá-ban minden függvénynek van visszatérési értéke, annak is mely nem ad vissza semmit sem.\n",
    "A függvény egy kifejezés, mely kiértékelődik, ha nincs mit kiértékelni, akkor ```nothing``` \n",
    "speciális érték (mely ```Nothing``` típus tagja) rendelődik a kifejezéshez:\n"
   ]
  },
  {
   "cell_type": "code",
   "execution_count": 2,
   "metadata": {},
   "outputs": [
    {
     "name": "stdout",
     "output_type": "stream",
     "text": [
      "nothing"
     ]
    },
    {
     "data": {
      "text/plain": [
       "Nothing"
      ]
     },
     "execution_count": 2,
     "metadata": {},
     "output_type": "execute_result"
    }
   ],
   "source": [
    "function semmi()\n",
    "end\n",
    "show(semmi())\n",
    "typeof(semmi())\n"
   ]
  },
  {
   "cell_type": "markdown",
   "metadata": {},
   "source": [
    "A ```function,end``` pár zárójelként viselkedik. Az általa képviselt kifejezés értéke alapesetben az<br>\n",
    "utolsóként kiértékelt rész-kifejezésének az értéke lesz:\n"
   ]
  },
  {
   "cell_type": "code",
   "execution_count": 5,
   "metadata": {},
   "outputs": [
    {
     "data": {
      "text/plain": [
       "3.141592653589793"
      ]
     },
     "execution_count": 5,
     "metadata": {},
     "output_type": "execute_result"
    }
   ],
   "source": [
    "function terület(r)\n",
    "  1+1==2\n",
    "  2*2==5\n",
    "  r^2*pi\n",
    "end\n",
    "terület(1)"
   ]
  },
  {
   "cell_type": "markdown",
   "metadata": {},
   "source": [
    "Azt hogy mi legyen az utoljára részkifejezés a ```return```-al tudjuk módosítani:"
   ]
  },
  {
   "cell_type": "code",
   "execution_count": 6,
   "metadata": {},
   "outputs": [
    {
     "data": {
      "text/plain": [
       "0"
      ]
     },
     "execution_count": 6,
     "metadata": {},
     "output_type": "execute_result"
    }
   ],
   "source": [
    "function terület(r)\n",
    "  if r<0 return 0 end\n",
    "  r^2*pi\n",
    "end\n",
    "terület(-1)"
   ]
  },
  {
   "cell_type": "markdown",
   "metadata": {},
   "source": [
    "A ```return```-nal explicit kinyilvánítjuk: ezt és ezt akarjuk visszaadni a hívónak. <br>\n",
    "Ezt elérhetjük másként is, mivel az ```if-else-end``` is egy kifejezés:"
   ]
  },
  {
   "cell_type": "code",
   "execution_count": 8,
   "metadata": {},
   "outputs": [
    {
     "data": {
      "text/plain": [
       "0"
      ]
     },
     "execution_count": 8,
     "metadata": {},
     "output_type": "execute_result"
    }
   ],
   "source": [
    "function terület(r)\n",
    "  if r<0 0 else r^2*pi end\n",
    "end\n",
    "terület(-1)"
   ]
  },
  {
   "cell_type": "markdown",
   "metadata": {},
   "source": [
    "## Lépésenkénti finomítás, kompozíció, logikai függvények\n",
    "\n",
    "Nagyobb függvények írásánál hasznos elv, ha kiindulva a semmiből, pontosasbban egy homályos vázlatból,<br> újabb és újabb adalékokat hozzáadva, lépésenként tesztelve (kóstolgatva) közelítünk a megoldáshoz.<br>\n",
    "Példaként nézzük [Héron](https://en.wikipedia.org/wiki/Heron%27s_formula)-féle háromszög-területszámoló függvényt:"
   ]
  },
  {
   "cell_type": "code",
   "execution_count": 13,
   "metadata": {},
   "outputs": [
    {
     "name": "stdout",
     "output_type": "stream",
     "text": [
      "0.0\n",
      "0.4330127018922193\n"
     ]
    },
    {
     "ename": "DomainError",
     "evalue": "DomainError with -2.8125:\nsqrt will only return a complex result if called with a complex argument. Try sqrt(Complex(x)).",
     "output_type": "error",
     "traceback": [
      "DomainError with -2.8125:\nsqrt will only return a complex result if called with a complex argument. Try sqrt(Complex(x)).",
      "",
      "Stacktrace:",
      " [1] throw_complex_domainerror(::Symbol, ::Float64) at ./math.jl:31",
      " [2] sqrt at ./math.jl:492 [inlined]",
      " [3] Heron(::Int64, ::Int64, ::Int64) at ./In[13]:13",
      " [4] top-level scope at In[13]:17"
     ]
    }
   ],
   "source": [
    "# 0. verzió\n",
    "function Heron(a,b,c)\n",
    "end\n",
    "\n",
    "# 1. verzió\n",
    "function Heron(a,b,c)\n",
    "  s=0.5*(a+b+c)\n",
    "end\n",
    "\n",
    "# 2. verzió\n",
    "function Heron(a,b,c)\n",
    "  s=0.5*(a+b+c)\n",
    "  sqrt(s*(s-a)*(s-b)*(s-c))\n",
    "end\n",
    "println(Heron(1,2,3))\n",
    "println(Heron(1,1,1))\n",
    "println(Heron(1,1,3))\n"
   ]
  },
  {
   "cell_type": "markdown",
   "metadata": {},
   "source": [
    "Ez bizony nem jó, mert lehet hogy a 3 adott szám nem alkot háromszöget, és ekkor az ```sqrt```-nek \n",
    "negatív számot adunk át. <br> \n",
    "Kiderült, hogy szükségünk van egy ```isTriangle``` függvényre. Tudjuk, hogy egy háromszög pontosan <br>\n",
    "akkor szerkeszthető (létezik) ha bármely két oldalát választva ezek összege nagyobb mint a harmadik. <br>\n",
    "Ezt kell megfogalmazni az adott nyelven:"
   ]
  },
  {
   "cell_type": "code",
   "execution_count": 21,
   "metadata": {},
   "outputs": [
    {
     "name": "stdout",
     "output_type": "stream",
     "text": [
      "false\n",
      "true\n",
      "false\n"
     ]
    }
   ],
   "source": [
    "# 0. verzió\n",
    "function isTriangle(a,b,c)\n",
    "   # ide kerül egy kifejezés ami pont akkor igaz ha létezik a háromszög\n",
    "end\n",
    "\n",
    "# 1. verzió\n",
    "function isTriangle(a,b,c)\n",
    "  (a+b>c)&&(a+c>b)&&(b+c>a)\n",
    "end\n",
    "\n",
    "println(isTriangle(1,2,3))\n",
    "println(isTriangle(1,1,1))\n",
    "println(isTriangle(1,1,3))\n"
   ]
  },
  {
   "cell_type": "markdown",
   "metadata": {},
   "source": [
    "Ez jónak tűnik. Összekomponálva a félig kész ```Heron```-nal:"
   ]
  },
  {
   "cell_type": "code",
   "execution_count": 15,
   "metadata": {},
   "outputs": [
    {
     "data": {
      "text/plain": [
       "Heron (generic function with 1 method)"
      ]
     },
     "execution_count": 15,
     "metadata": {},
     "output_type": "execute_result"
    }
   ],
   "source": [
    "# 3. verzió\n",
    "function Heron(a,b,c)\n",
    "  if isTriangle(a,b,c) s=0.5*(a+b+c); sqrt(s*(s-a)*(s-b)*(s-c)) else 0 end\n",
    "end\n"
   ]
  },
  {
   "cell_type": "code",
   "execution_count": 22,
   "metadata": {},
   "outputs": [
    {
     "name": "stdout",
     "output_type": "stream",
     "text": [
      "0\n",
      "0.4330127018922193\n",
      "0\n",
      "0.49999999999999983\n"
     ]
    }
   ],
   "source": [
    "println(Heron(1,2,3))\n",
    "println(Heron(1,1,1))\n",
    "println(Heron(1,1,3))\n",
    "println(Heron(1,1,sqrt(2)))\n"
   ]
  },
  {
   "cell_type": "markdown",
   "metadata": {},
   "source": [
    "## Még egy kis rekurzió\n",
    "\n",
    "Tekintsük az úgynevezett faktoriális függvényt:\n",
    "\\begin{equation}\n",
    "{\\textrm{factorial}(n)=n! =\n",
    "\\begin{cases}\n",
    "  1& \\textrm{if}\\  n < 2 \\\\\n",
    "  n (n-1)!& \\textrm{if}\\  n \\ge 2\n",
    "\\end{cases}}\n",
    "\\end{equation}\n",
    "Nagy számokra az értéke a kisebb számokra felvett értékétől függ, azzal definiált. Érezhetjük benne a rekurziót. Próbáljuk meg rekurzív függvényként megvalósítani:\n"
   ]
  },
  {
   "cell_type": "code",
   "execution_count": 25,
   "metadata": {},
   "outputs": [
    {
     "data": {
      "text/plain": [
       "2.3"
      ]
     },
     "execution_count": 25,
     "metadata": {},
     "output_type": "execute_result"
    }
   ],
   "source": [
    "# 0. verzió\n",
    "function fact(n)\n",
    "  # ide kerül a számolás\n",
    "end\n",
    "\n",
    "# 1. verzió\n",
    "function fact(n)\n",
    "  if n<2 return 1 end\n",
    "  n*fact(n-1)\n",
    "end\n",
    "\n",
    "# 2. verzió\n",
    "function fact(n)\n",
    "  if n<2 1 else n*fact(n-1) end\n",
    "end\n",
    "fact.(1:5)\n",
    "fact(2.3)\n",
    "#fact(\"három\")"
   ]
  },
  {
   "cell_type": "markdown",
   "metadata": {},
   "source": [
    "## Típus ellenőrzés\n",
    "\n",
    "A két utolsó ```fact``` példa mutatja, hogy bár jól működik a függvény egész számokra, egyéb típusok <br>\n",
    "esetén hibát, vagy hibás eredményt kapunk. Teljessé tehetjük ```fact``` függvényünket ha lekezeljük <br>\n",
    "a nem egész szám paraméter esetet:"
   ]
  },
  {
   "cell_type": "code",
   "execution_count": 38,
   "metadata": {},
   "outputs": [
    {
     "data": {
      "text/plain": [
       "fact (generic function with 1 method)"
      ]
     },
     "execution_count": 38,
     "metadata": {},
     "output_type": "execute_result"
    }
   ],
   "source": [
    "# 3. verzió\n",
    "function fact(n)\n",
    "  if (n isa Int) \n",
    "    if n<2 1 else n*fact(n-1) end\n",
    "  else\n",
    "    error(\"egészet várok\") \n",
    "  end\n",
    "end\n"
   ]
  },
  {
   "cell_type": "code",
   "execution_count": 43,
   "metadata": {},
   "outputs": [
    {
     "ename": "ErrorException",
     "evalue": "egészet várok",
     "output_type": "error",
     "traceback": [
      "egészet várok",
      "",
      "Stacktrace:",
      " [1] error(::String) at ./error.jl:33",
      " [2] fact(::Float64) at ./In[38]:6",
      " [3] top-level scope at In[43]:1"
     ]
    }
   ],
   "source": [
    "x=fact(2.3)\n",
    "typeof(x)\n",
    "#fact(\"három\")"
   ]
  },
  {
   "cell_type": "markdown",
   "metadata": {},
   "source": [
    "Juliá-ban van egy ```prod``` függvény mellyel a ```fact``` reprodukálható:"
   ]
  },
  {
   "cell_type": "code",
   "execution_count": 51,
   "metadata": {},
   "outputs": [
    {
     "data": {
      "text/plain": [
       "1.0"
      ]
     },
     "execution_count": 51,
     "metadata": {},
     "output_type": "execute_result"
    }
   ],
   "source": [
    "fact2(n)=prod(1:n)\n",
    "fact2.(-11.1)"
   ]
  },
  {
   "cell_type": "markdown",
   "metadata": {},
   "source": [
    "## Feladatok\n",
    "\n",
    "\n",
    "### 1. Fejtsük meg a ```c``` függvény működését:\n",
    "```julia\n",
    "function b(z)\n",
    "    prod = a(z, z)\n",
    "    println(z, \" \", prod)\n",
    "    prod\n",
    "end\n",
    "\n",
    "function a(x, y)\n",
    "    x = x + 1\n",
    "    x * y\n",
    "end\n",
    "\n",
    "function c(x, y, z)\n",
    "    total = x + y + z\n",
    "    square = b(total)^2\n",
    "    square\n",
    "end\n",
    "\n",
    "x = 1\n",
    "y = x + 1\n",
    "println(c(x, y+3, x+y))\n",
    "```\n",
    "\n",
    "### 2. Írj egy függvényt \n",
    "mely egy paraméterül kapott sztringről eldönti hogy [palindrom](https://hu.wikipedia.org/wiki/Palindrom)-e.\n",
    "\n",
    "### 3. Írj egy függvényt \n",
    "mely két paraméterül kapott egészre visszadja a [legnagyobb közös osztó](https://hu.wikipedia.org/wiki/Legnagyobb_k%C3%B6z%C3%B6s_oszt%C3%B3)jukat.\n",
    "\n",
    "### 4. Írj egy függvényt \n",
    "mely két paraméterül kapott $a\\ge b$ egészre eldönti hogy $a=b^n$ teljesül-e valamely $n>0$-re.<br> \n",
    "(csak egész műveleteket használjunk)"
   ]
  }
 ],
 "metadata": {
  "@webio": {
   "lastCommId": "0d93750b4c3d41879811fb9ba7d66f38",
   "lastKernelId": "c61c4357-9663-456a-b261-e762df45033e"
  },
  "kernelspec": {
   "display_name": "Julia 1.0.3",
   "language": "julia",
   "name": "julia-1.0"
  },
  "language_info": {
   "file_extension": ".jl",
   "mimetype": "application/julia",
   "name": "julia",
   "version": "1.0.3"
  }
 },
 "nbformat": 4,
 "nbformat_minor": 2
}
