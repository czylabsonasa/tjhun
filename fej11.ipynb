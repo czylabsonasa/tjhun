{
 "cells": [
  {
   "cell_type": "markdown",
   "metadata": {},
   "source": [
    "# Szótárak (Dictionaries)\n",
    "\n",
    "Újabb beépített adattípussal ismerkedünk meg.\n",
    "\n",
    "\n",
    "\n",
    "## A szótár egy leképezés\n",
    "\n",
    "A tömböknél az elemek elérése **egész szám** indexekkel történik, a szótáraknál szinte bármi használható. Nevezik néha *asszociatív tömb*nek, *map*nek is.<br>\n",
    "\n",
    "Az indexek összességét **kulcs**oknak a hozzájuk tartozó dolgok összességét **érték**eknek nevezzük. Ha hangsúlyozni akarjuk egy kulcs és érték összetartozását akkor a **kulcs-érték pár** \n",
    "kifejezést használhatjuk. Röviden **pár**ként is hivatkozunk rájuk.<br>\n",
    "\n",
    "Matematikai nyelven fogalmazva: a szótár egy **leképezés, függvény**, melynek értemezési tartománya a kulcsok, értékkészlete az értékek halmaza. <br>\n",
    "\n",
    "### Példa"
   ]
  },
  {
   "cell_type": "code",
   "execution_count": 59,
   "metadata": {},
   "outputs": [
    {
     "name": "stdout",
     "output_type": "stream",
     "text": [
      "eng2hun = Dict{Any,Any}(\"circle\"=>\"kör\",\"apple\"=>\"alma\",\"dog\"=>\"kutya\")\n",
      "eng2hunMásik = Dict(\"circle\"=>\"kör\",\"apple\"=>\"alma\")\n",
      "length(eng2hun) = 3\n",
      "(ks, vs, typeof(ks)) = (Any[\"circle\", \"apple\", \"dog\"], Any[\"kör\", \"alma\", \"kutya\"], Base.KeySet{Any,Dict{Any,Any}})\n",
      "haskey(eng2hun, \"apple\") = true\n",
      "(get(eng2hun, \"apple\", \"\"), get(eng2hun, \"cider\", \"hiba!\")) = (\"alma\", \"hiba!\")\n"
     ]
    }
   ],
   "source": [
    "eng2hun=Dict(); eng2hun[\"apple\"]=\"alma\"; eng2hun[\"circle\"]=\"kör\"; eng2hun[\"dog\"]=\"kutya\"; \n",
    "@show eng2hun\n",
    "eng2hunMásik=Dict(\"apple\"=>\"alma\", \"circle\"=>\"kör\"); \n",
    "@show eng2hunMásik\n",
    "# @show eng2hun[\"banana\"]\n",
    "@show length(eng2hun);\n",
    "ks=keys(eng2hun); vs=values(eng2hun);\n",
    "@show ks, vs, typeof(ks) ;\n",
    "@show haskey(eng2hun,\"apple\") ;\n",
    "@show get(eng2hun,\"apple\",\"\"), get(eng2hun,\"cider\",\"hiba!\") ;\n"
   ]
  },
  {
   "cell_type": "markdown",
   "metadata": {},
   "source": [
    "### Magyarázatok:\n",
    "- a `Dict()` visszaad egy üres szótárat. Ha nem specifikáljuk, a típus **Any,Any** lesz. \n",
    "- a kulcs-érték párok egymáshoz rendelése ugyanaz mint a tömböknél az értékadás.\n",
    "- ha már létrhozáskor megadjuk az elemeket akkor \"konkrétabb\" típusú lesz a szótár - jelen esetben \n",
    "`String,String`\n",
    "- ha a szótárban nincs olyan kulcs amire hivatkozunk `KeyError` kivételt kapunk.\n",
    "- használhatjuk a `length` függvényt a szótárban levő párok lekérésére\n",
    "- a kulcsok illetve értékek kollekcióját a `keys` és `values` fv. adja meg. Ezek iterálható kollekciók.\n",
    "- ha egy kulcs létezésére vagyunk kíváncsiak: `haskey`\n",
    "- ha egy kulcshoz tartozó értékre vagyunk kíváncsiak: `get`.  A harmadik paraméter kötelező. <br>Előnye, hogy nem kell külön tesztelni a kulcs létezését.\n",
    "### Histogram-os példa\n",
    "\n",
    "Tegyük fel hogy egy sztringben szereplő karakterek gyakoriságát akarjuk kiszámolni. Ekkor egy `Dict{Char,Int}`-et használhatunk:"
   ]
  },
  {
   "cell_type": "code",
   "execution_count": 57,
   "metadata": {},
   "outputs": [
    {
     "name": "stdout",
     "output_type": "stream",
     "text": [
      "histogram(\"káposztástészta\") = Dict('á'=>2,'s'=>3,'a'=>1,'k'=>1,'p'=>1,'o'=>1,'t'=>3,'é'=>1,'z'=>2)\n",
      "histogram2(\"káposztástészta\") = Dict('á'=>2,'s'=>3,'a'=>1,'k'=>1,'p'=>1,'o'=>1,'t'=>3,'é'=>1,'z'=>2)\n"
     ]
    }
   ],
   "source": [
    "function histogram(s)\n",
    "  d=Dict{Char,Int}()\n",
    "  for c in s\n",
    "    if haskey(d,c) \n",
    "      d[c]=d[c]+1 \n",
    "    else\n",
    "      d[c]=1\n",
    "    end\n",
    "  end\n",
    "  d\n",
    "end\n",
    "@show histogram(\"káposztástészta\") ;\n",
    "# if nélküli változat:\n",
    "function histogram2(s)\n",
    "  d=Dict{Char,Int}()\n",
    "  for c in s\n",
    "    d[c]=get(d,c,0)+1\n",
    "  end\n",
    "  d\n",
    "end\n",
    "@show histogram2(\"káposztástészta\") ;"
   ]
  },
  {
   "cell_type": "code",
   "execution_count": null,
   "metadata": {},
   "outputs": [],
   "source": [
    "## "
   ]
  }
 ],
 "metadata": {
  "@webio": {
   "lastCommId": "50e7006e21d1454082625702669ec7dd",
   "lastKernelId": "c22df176-e50f-4b73-86b0-3e1a52744ac4"
  },
  "kernelspec": {
   "display_name": "Julia 1.1.1",
   "language": "julia",
   "name": "julia-1.1"
  },
  "language_info": {
   "file_extension": ".jl",
   "mimetype": "application/julia",
   "name": "julia",
   "version": "1.1.1"
  },
  "toc": {
   "base_numbering": 1,
   "nav_menu": {},
   "number_sections": true,
   "sideBar": true,
   "skip_h1_title": true,
   "title_cell": "Table of Contents",
   "title_sidebar": "Contents",
   "toc_cell": false,
   "toc_position": {},
   "toc_section_display": true,
   "toc_window_display": true
  }
 },
 "nbformat": 4,
 "nbformat_minor": 2
}
