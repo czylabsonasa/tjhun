{
 "cells": [
  {
   "cell_type": "markdown",
   "metadata": {},
   "source": [
    "# Függvények\n",
    "\n",
    "A függvény egy önálló számítási egység.\n",
    "\n",
    "## Függvényhívás\n",
    "\n",
    "A"
   ]
  },
  {
   "cell_type": "code",
   "execution_count": 1,
   "metadata": {},
   "outputs": [
    {
     "data": {
      "text/plain": [
       "Int64"
      ]
     },
     "execution_count": 1,
     "metadata": {},
     "output_type": "execute_result"
    }
   ],
   "source": [
    "typeof(42)"
   ]
  },
  {
   "cell_type": "markdown",
   "metadata": {},
   "source": [
    "hívásnál, a terminológia szerint: meghívjuk a ```typeof``` függvényt a ```42``` argumentummal. <br>\n",
    "A visszatérési érték a ```typeof```-nál az argumentum típusa. Julia-ban **mindig** van \n",
    "visszatérési érték! Például a már használt ```println```-nél:\n"
   ]
  },
  {
   "cell_type": "code",
   "execution_count": 1,
   "metadata": {},
   "outputs": [
    {
     "name": "stdout",
     "output_type": "stream",
     "text": [
      "szia\n",
      "nothing"
     ]
    }
   ],
   "source": [
    "ret=println(\"szia\")\n",
    "show(ret) # a println nem írja ki a semmit :-)"
   ]
  },
  {
   "cell_type": "markdown",
   "metadata": {},
   "source": [
    "Néhány függvényt nem a visszatérési értéke, hanem mellékhatása - pl. képernyőre írás - miatt használunk. Ezek a függvények (gyakran) ```nothing``` értéket adják vissza. \n",
    "\n",
    "Figyeljük meg a következő hívásokat:"
   ]
  },
  {
   "cell_type": "code",
   "execution_count": 20,
   "metadata": {},
   "outputs": [
    {
     "name": "stdout",
     "output_type": "stream",
     "text": [
      "112\n",
      "0.0112\n",
      "-112\n",
      "-0.0112\n"
     ]
    }
   ],
   "source": [
    "println(parse(Int, \"112\"))\n",
    "println(parse(Float64, \"1.12e-2\"))\n",
    "println(string(-112))\n",
    "println(string(-1.12e-2))"
   ]
  },
  {
   "cell_type": "markdown",
   "metadata": {},
   "source": [
    "Hiba esetén a következőt kapjuk:"
   ]
  },
  {
   "cell_type": "code",
   "execution_count": 18,
   "metadata": {},
   "outputs": [
    {
     "ename": "ArgumentError",
     "evalue": "ArgumentError: invalid base 10 digit '.' in \"1.12e-2\"",
     "output_type": "error",
     "traceback": [
      "ArgumentError: invalid base 10 digit '.' in \"1.12e-2\"",
      "",
      "Stacktrace:",
      " [1] tryparse_internal(::Type{Int64}, ::String, ::Int64, ::Int64, ::Int64, ::Bool) at ./parse.jl:128",
      " [2] #parse#332(::Nothing, ::Function, ::Type{Int64}, ::String) at ./parse.jl:228",
      " [3] parse(::Type{Int64}, ::String) at ./parse.jl:228",
      " [4] top-level scope at In[18]:1"
     ]
    }
   ],
   "source": [
    "parse(Int, \"1.12e-2\")"
   ]
  },
  {
   "cell_type": "markdown",
   "metadata": {},
   "source": [
    "A következők hasznosak ha valós számból egészet akarunk csinálni:"
   ]
  },
  {
   "cell_type": "code",
   "execution_count": 23,
   "metadata": {},
   "outputs": [
    {
     "name": "stdout",
     "output_type": "stream",
     "text": [
      "-2.0\n",
      "-1.0\n",
      "-2.0\n",
      "-1.0\n",
      "2.0\n",
      "1.0\n",
      "1.0\n",
      "2.0\n"
     ]
    }
   ],
   "source": [
    "a=-1.51\n",
    "println( round(a) )\n",
    "println( trunc(a) )\n",
    "println( floor(a) )\n",
    "println( ceil(a) )\n",
    "a=1.51\n",
    "println( round(a) )\n",
    "println( trunc(a) )\n",
    "println( floor(a) )\n",
    "println( ceil(a) )\n"
   ]
  },
  {
   "cell_type": "markdown",
   "metadata": {},
   "source": [
    "## Matematikai függvények\n",
    "\n",
    "### Példa:\n",
    "Adott $x>0$ számhoz határozzuk meg azt a $k$ egész számot melyre $2^k \\le x < 2^{k+1}$\n",
    "### Megoldás:"
   ]
  },
  {
   "cell_type": "code",
   "execution_count": 31,
   "metadata": {},
   "outputs": [
    {
     "name": "stdout",
     "output_type": "stream",
     "text": [
      "3\n",
      "4\n",
      "3\n"
     ]
    }
   ],
   "source": [
    "x=11.3\n",
    "válasz=Int(trunc(log2(x))) # Int() egész típussá alakít\n",
    "println(válasz)\n",
    "x=16.00001\n",
    "válasz=Int(trunc(log2(x)))\n",
    "println(válasz)\n",
    "x=15.999999\n",
    "válasz=Int(trunc(log2(x)))\n",
    "println(válasz)"
   ]
  },
  {
   "cell_type": "markdown",
   "metadata": {},
   "source": [
    "### Példa:\n",
    "Adott egy derékszögű háromszög ($c$) átfogója és egyik befogója ($a$). Számold ki a területét!\n",
    "### Megoldás:"
   ]
  },
  {
   "cell_type": "code",
   "execution_count": 39,
   "metadata": {},
   "outputs": [
    {
     "name": "stdout",
     "output_type": "stream",
     "text": [
      "6.0\n",
      "22.9128784747792\n"
     ]
    }
   ],
   "source": [
    "c=5\n",
    "a=3\n",
    "b=sqrt(c^2-a^2)\n",
    "terület=0.5*a*b\n",
    "println(terület)\n",
    "c=11\n",
    "a=10\n",
    "b=sqrt(c^2-a^2)\n",
    "terület=0.5*a*b\n",
    "println(terület)"
   ]
  },
  {
   "cell_type": "markdown",
   "metadata": {},
   "source": [
    "### Példa:\n",
    "Adott $y=ax+b$ egyenes esetén számoljuk ki az $x$-tengellyel bezárt szögét (fokokban)!\n",
    "### Megoldás:"
   ]
  },
  {
   "cell_type": "code",
   "execution_count": 43,
   "metadata": {},
   "outputs": [
    {
     "name": "stdout",
     "output_type": "stream",
     "text": [
      "63.43494882292201\n",
      "45.0\n",
      "-45.0\n"
     ]
    }
   ],
   "source": [
    "a=2\n",
    "szög=180/pi*atan(a)\n",
    "println(szög)\n",
    "a=1\n",
    "szög=180/pi*atan(a)\n",
    "println(szög)\n",
    "a=-1\n",
    "szög=180/pi*atan(a)\n",
    "println(szög)"
   ]
  },
  {
   "cell_type": "markdown",
   "metadata": {},
   "source": [
    "## Függvények létrehozása\n",
    "\n",
    "Természetesen van lehetőség saját függvények létrehozására a következő szerkezettel:"
   ]
  },
  {
   "cell_type": "code",
   "execution_count": 51,
   "metadata": {},
   "outputs": [
    {
     "name": "stdout",
     "output_type": "stream",
     "text": [
      "Nincsen apám, se anyám\n",
      "Se istenem, se hazám.\n"
     ]
    }
   ],
   "source": [
    "function ír()\n",
    "  println(\"Nincsen apám, se anyám\")\n",
    "  println(\"Se istenem, se hazám.\")\n",
    "end\n",
    "ír()"
   ]
  },
  {
   "cell_type": "markdown",
   "metadata": {},
   "source": [
    "A függvényeink **kifejezések**, melyek kiértékelődnek az aktuális argumentumokkal és \n",
    "elvégzik az előírt tevékenységeket. Alapesetben a függvény a törzs utolsó kifejezésének \n",
    "értékét adja vissza - ez az ő kiértékelésének az eredménye - ami a ```return``` \n",
    "alkalmazásával felülbírálható. Jelen esetben ez a ```nothing```. A függvények tetszőlegesen kombinálhatóak:"
   ]
  },
  {
   "cell_type": "code",
   "execution_count": 53,
   "metadata": {},
   "outputs": [
    {
     "name": "stdout",
     "output_type": "stream",
     "text": [
      "Nincsen apám, se anyám\n",
      "Se istenem, se hazám.\n",
      "Nincsen apám, se anyám\n",
      "Se istenem, se hazám.\n",
      "ret=2\n"
     ]
    }
   ],
   "source": [
    "function ír2()\n",
    "  ír()\n",
    "  ír()\n",
    "  2\n",
    "end\n",
    "ret = ír2()\n",
    "println(\"ret=\", ret)"
   ]
  },
  {
   "cell_type": "markdown",
   "metadata": {},
   "source": [
    "Ezen függvény visszatérési értéke ```2```: az utolsó kifejezés értéke a törzsben. <br>Természetesen a függvények definíciójuk **után** használhatók:"
   ]
  },
  {
   "cell_type": "code",
   "execution_count": 54,
   "metadata": {},
   "outputs": [
    {
     "ename": "UndefVarError",
     "evalue": "UndefVarError: f not defined",
     "output_type": "error",
     "traceback": [
      "UndefVarError: f not defined",
      "",
      "Stacktrace:",
      " [1] top-level scope at In[54]:1"
     ]
    }
   ],
   "source": [
    "y=f()\n",
    "function f()\n",
    "  prntln(\"error :-)\")\n",
    "end\n",
    "  "
   ]
  },
  {
   "cell_type": "markdown",
   "metadata": {},
   "source": [
    "## A végrehajtás menete\n",
    "\n",
    "Amikor egy program által végrehajtott lépéseket akarjuk nyomonkövetni, <br>\n",
    "az első utasítással kezdjük, majd sorba haladunk. A függvényhívásoknál viszont <br>\n",
    "megszakad ez a lineáris sorrend. Úgy is képzelhetjük, hogy a végrehajtás az <br>\n",
    "aktuális függvény törzsére ugrik. Ez megnehezítheti a működés végigkövetését, <br>\n",
    "főleg ha a figyelembe vesszük, hogy a függvények más függvényeket is hívhatnak, <br>\n",
    "azaz amikor elemzünk egy programot gyakran el kell térnünk a kód lineáris olvasásától.\n",
    "\n",
    "## Parméterek és argumentumok\n",
    "\n",
    "Néhány függvény hívásakor mindenképpen meg kell adnunk egy értéket híváskor:<br>```sin(1.1)```, vagy esetleg kettőt: ```parse(Int, \"123123\")```. Változókat feldolgozó függvények definiálása:"
   ]
  },
  {
   "cell_type": "code",
   "execution_count": 61,
   "metadata": {},
   "outputs": [
    {
     "name": "stdout",
     "output_type": "stream",
     "text": [
      "Mikor születtem, a kezemben kés volt...\n",
      "Mikor születtem, a kezemben kés volt...\n",
      "Mikor születtem, a kezemben kés volt...\n",
      "-1.0\n",
      "hi hi hi hi \n",
      "hi hi hi hi \n"
     ]
    },
    {
     "data": {
      "text/plain": [
       "2"
      ]
     },
     "execution_count": 61,
     "metadata": {},
     "output_type": "execute_result"
    }
   ],
   "source": [
    "function ír(ezt)\n",
    "  println(ezt)\n",
    "  1\n",
    "end\n",
    "function ír2(eztIs)\n",
    "  ír(eztIs)\n",
    "  ír(eztIs)\n",
    "  2\n",
    "end\n",
    "ír(\"Mikor születtem, a kezemben kés volt...\")\n",
    "ír2(\"Mikor születtem, a kezemben kés volt...\")\n",
    "ír(cos(pi))\n",
    "par=\"hi hi \"^2\n",
    "ír2(par)"
   ]
  },
  {
   "cell_type": "markdown",
   "metadata": {},
   "source": [
    "A definícióban szereplő ```ezt, eztIs``` változót (formális) **paraméter**nek nevezzük. <br>\n",
    "A hívást úgy képzelhetjük hogy az aktuális paraméter,<br> az **argumentum** értékével \n",
    "helyettesítődik a formális.\n",
    "\n",
    "### Példa:\n",
    "Számoljuk ki egy számtani sorozat differenciáját és első $n$ tagjának összegét, ha adott $n, a_1, a_n$.\n",
    "### Megoldás:\n"
   ]
  },
  {
   "cell_type": "code",
   "execution_count": 65,
   "metadata": {},
   "outputs": [
    {
     "name": "stdout",
     "output_type": "stream",
     "text": [
      "1.0 6.0\n",
      "5.0 18.0\n"
     ]
    }
   ],
   "source": [
    "function sorozat(n, a1, an)\n",
    "  d=(an-a1)/(n-1)\n",
    "  s=0.5*(a1+an)*n\n",
    "  d,s\n",
    "end\n",
    "k,ö = sorozat(3,1,3)\n",
    "println(k,\" \",ö)\n",
    "k,ö = sorozat(3,1,11)\n",
    "println(k,\" \",ö)"
   ]
  },
  {
   "cell_type": "markdown",
   "metadata": {},
   "source": [
    "A függvény formális paraméterei és a számításokhoz használt további változók: <br>\n",
    "**lokális**ak - azaz csak a függvényen belül láthatók. Miután a függvény befejezi a működését, megsemmmisülnek. \n",
    "\n",
    "Egy függvény több értéket is visszaadhat a fenti módon. (Pontosabban ez csak egy érték, \n",
    "az )"
   ]
  },
  {
   "cell_type": "code",
   "execution_count": 66,
   "metadata": {},
   "outputs": [
    {
     "ename": "UndefVarError",
     "evalue": "UndefVarError: a1 not defined",
     "output_type": "error",
     "traceback": [
      "UndefVarError: a1 not defined",
      "",
      "Stacktrace:",
      " [1] top-level scope at In[66]:2"
     ]
    }
   ],
   "source": [
    "sorozat(3,1,3)\n",
    "println(a1)"
   ]
  },
  {
   "cell_type": "markdown",
   "metadata": {},
   "source": [
    "## Miért használjunk függvényeket?\n",
    "\n",
    "1. felbonthatjuk a hosszú számolásokat, rövidebb, \n",
    "   könnyebben karbantartható részekre\n",
    "1. felesleges kódismétléseket szüntethetünk meg velük\n",
    "1. a megírt függvényeket újrahasználhatjuk más feladatoknál\n",
    "\n",
    "\n",
    "\n",
    "## Feladatok\n",
    "\n",
    "### 1 Feladat:\n",
    "Írjunk olyan függvényt mely a paraméterül kapott $x$ sztringet egy $n$-hosszú,<br> az elején üres helyekkel feltöltött sztringbe alakítja.\n",
    "### [Megoldás](feladat1.jl)\n",
    "\n",
    "### 2 Feladat:\n",
    "Írjunk olyan függvényt mely egy paraméteres rácsnak megfelelő sztringet ad vissza.\n",
    "```julia\n",
    "println(rács(1,2,1,3))\n",
    "+---+---+\n",
    "|   |   |\n",
    "+---+---+\n",
    "println(rács(2,2,1,1))\n",
    "+-+-+\n",
    "| | |\n",
    "+-+-+\n",
    "| | |\n",
    "+-+-+\n",
    "println(rács(3,1,1,3))\n",
    "+---+\n",
    "|   |\n",
    "+---+\n",
    "|   |\n",
    "+---+\n",
    "|   |\n",
    "+---+\n",
    "```\n",
    "A függvényt olyan alakban írjuk meg, hogy lehessen szabályozni az rácsok számát és méretét is! <br>A fenti példában a második kettő paraméter a kis téglalapok méretét szabályozza.\n",
    "### [Megoldás](feladat2.jl)\n",
    "\n",
    "\n"
   ]
  }
 ],
 "metadata": {
  "@webio": {
   "lastCommId": "dcc00825504f401f87d26d33d6c0d56e",
   "lastKernelId": "bb879e46-6e25-444a-80a9-52928012e6ad"
  },
  "kernelspec": {
   "display_name": "Julia 1.0.3",
   "language": "julia",
   "name": "julia-1.0"
  },
  "language_info": {
   "file_extension": ".jl",
   "mimetype": "application/julia",
   "name": "julia",
   "version": "1.0.3"
  }
 },
 "nbformat": 4,
 "nbformat_minor": 2
}
