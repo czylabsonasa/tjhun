{
 "cells": [
  {
   "cell_type": "markdown",
   "metadata": {},
   "source": [
    "# Probléma-megoldás programozás útján\n",
    "\n",
    "**Célunk**: megtanulni informatikus módjára gondolkozni. Ehhez gyakran matemetikai, mérnöki és <br>természettudományos elveket kell összkombinálnunk. De mindenekelőtt szükségünk van egy \n",
    "<br> többé-kevésbé formalizált nyelvre, hogy kifejezhessük, leírhassuk, megoldhassuk a problémákat <br>melyekkel szembekerülünk. Mint a mérnökök: megtervezzük a részeket, rendszerré építjük össze őket, \n",
    "<br>vagy mint a természettudósok: megfigyeljük a bonyolult rendszereket, hipotéziseket állítunk fel, <br>*teszteljük* azokat.\n",
    "\n",
    "Az informatikus legfontosabb tevékenysége: a **probléma-megoldás**. Ez komplex feladat: le kell képezni a <br>feladatot olyan nyelvre amit egyrészt ismerünk, másrészt alkalmas a probléma leírására. Módszert, <br>számolási szabályt kell találnunk a megoldás megkeresésére, ami legtöbbször matematikai, \n",
    "<br>természettudományos ismereteket igényel. Ha ezekkel megvagyunk akkor jöhet a megvalósítás, kódolás \n",
    "<br> egy konkrét nyelven.\n",
    "\n",
    "## Mi az a program?\n",
    "\n",
    "A program egy leképezés, mely bemeneti adatok halmazát egy utasítássorozat segítségével \n",
    "<br>átalakítja kimeneti adathalmazzá: **kimenet = program( bemenet )**\n",
    "<br> A bemenet lehet egy polinom, az utasítássorozat pedig a polinom gyökeinek kiszámítását leíró \n",
    "<br> utasítássorozat, a kimenet pedig a gyökök halmaza. Vagy: lehet a bemenet egy szöveg, \n",
    "<br>amelyen módosításokat akarunk végrehajtani.\n",
    "\n",
    "Ugyanazon problémákat megoldó programok teljesen másként néznek ki különböző nyelveken, de \n",
    "<br> van néhány alaptevékenység, szerkezet mely minden nyelven kifejezhető:\n",
    "\n",
    "**olvasás** <br>\n",
    " * billentyűzetről, fájlból, internetcímről, egyéb eszközről.<br>\n",
    "\n",
    "**írás** <br>\n",
    " * képernyőre, fájlba, egyéb eszközre.<br>\n",
    "    \n",
    "**matematikai műveletek végrehajtása**<br>\n",
    " * összeadás, szorzás, kivonás, osztás...\n",
    "\n",
    "**feltételes végrehajtás, elágazás**<br>\n",
    " * tevékenységek végrehajtásának egy eseményhez kötése:<br>\n",
    "    ha a szám páros akkor oszd el kettővel. (egyébként ne csinálj semmit)<br>\n",
    "    ha a szám páros akkor oszd el kettővel, egyébként szorozd meg 3-mal<br>\n",
    "\n",
    "**ismétlés**<br>\n",
    " * tevékenység ismételt végrehajtása:<br>\n",
    "   ameddig a szám páros addig oszd el kettővel.<br>\n",
    "\n",
    "**alprogram, függvény**\n",
    "* sokszor használt utasítássorozatok önálló egységbe csomagolásának\n",
    "    lehetősége.\n",
    "    \n",
    "\n",
    "A programozás leegyszerüsítve: addig bontjuk szét az előttünk álló feladatot <br>\n",
    "egyszerűbb részfeladatokra, amíg azokat a fenti szerkezetekkel már meg tudjuk oldani, ki tudjuk fejezni.\n",
    "\n",
    "## Az első program\n",
    "\n",
    "A hagyományokhoz híven:"
   ]
  },
  {
   "cell_type": "code",
   "execution_count": 1,
   "metadata": {},
   "outputs": [
    {
     "name": "stdout",
     "output_type": "stream",
     "text": [
      "helóvilág\n"
     ]
    }
   ],
   "source": [
    "println(\"helóvilág\") # megjegyzés ami a # után van. a kiértékelés: shift+enter"
   ]
  },
  {
   "cell_type": "markdown",
   "metadata": {},
   "source": [
    "A ```println``` függvényt a ```helóvilág``` sztring bemenő adattal meghívtuk. Az utasítás (kifejezés) <br>\n",
    "melynek végrehajtása (kiértékelése) során megjelent az adott sztring a képernyőn.\n",
    "\n",
    "## Aritmetikai műveletek"
   ]
  },
  {
   "cell_type": "code",
   "execution_count": 2,
   "metadata": {},
   "outputs": [
    {
     "data": {
      "text/plain": [
       "2"
      ]
     },
     "execution_count": 2,
     "metadata": {},
     "output_type": "execute_result"
    }
   ],
   "source": [
    "1+1"
   ]
  },
  {
   "cell_type": "code",
   "execution_count": 3,
   "metadata": {},
   "outputs": [
    {
     "data": {
      "text/plain": [
       "8"
      ]
     },
     "execution_count": 3,
     "metadata": {},
     "output_type": "execute_result"
    }
   ],
   "source": [
    "2^3"
   ]
  },
  {
   "cell_type": "code",
   "execution_count": 4,
   "metadata": {},
   "outputs": [
    {
     "data": {
      "text/plain": [
       "120"
      ]
     },
     "execution_count": 4,
     "metadata": {},
     "output_type": "execute_result"
    }
   ],
   "source": [
    "1*2*3*4*5"
   ]
  },
  {
   "cell_type": "code",
   "execution_count": 5,
   "metadata": {},
   "outputs": [
    {
     "data": {
      "text/plain": [
       "-3"
      ]
     },
     "execution_count": 5,
     "metadata": {},
     "output_type": "execute_result"
    }
   ],
   "source": [
    "(1+2)*(1-2)"
   ]
  },
  {
   "cell_type": "code",
   "execution_count": 6,
   "metadata": {},
   "outputs": [
    {
     "data": {
      "text/plain": [
       "2.0"
      ]
     },
     "execution_count": 6,
     "metadata": {},
     "output_type": "execute_result"
    }
   ],
   "source": [
    "20/10 # float lesz ! nincs automatikus int-konverzió"
   ]
  },
  {
   "cell_type": "markdown",
   "metadata": {},
   "source": [
    "## Típusok, értékek\n",
    "\n",
    "Programozás során számokkal, karakterekkel, karaktersorozatokkal dolgozunk: <br>\n",
    "```1, 42, 'X', \"alma\", 3.14```<br>\n",
    "<br>Ezek az értékek osztályokba, csoportokba sorolhatók - külön csoportot alkothatunk az egész számoknak, <br>a tört számoknak (ami egy bővebb csoport), vagy karaktereknek és sorozataiknak.<br> \n",
    "A csoportokat típusnak nevezzük. Az egész típus egy példánya az ```1```-es. "
   ]
  },
  {
   "cell_type": "code",
   "execution_count": 1,
   "metadata": {},
   "outputs": [
    {
     "data": {
      "text/plain": [
       "Int64"
      ]
     },
     "execution_count": 1,
     "metadata": {},
     "output_type": "execute_result"
    }
   ],
   "source": [
    "typeof(1)"
   ]
  },
  {
   "cell_type": "code",
   "execution_count": 2,
   "metadata": {},
   "outputs": [
    {
     "data": {
      "text/plain": [
       "Float64"
      ]
     },
     "execution_count": 2,
     "metadata": {},
     "output_type": "execute_result"
    }
   ],
   "source": [
    "typeof(42.0)"
   ]
  },
  {
   "cell_type": "code",
   "execution_count": 3,
   "metadata": {},
   "outputs": [
    {
     "data": {
      "text/plain": [
       "Char"
      ]
     },
     "execution_count": 3,
     "metadata": {},
     "output_type": "execute_result"
    }
   ],
   "source": [
    "typeof('X')"
   ]
  },
  {
   "cell_type": "code",
   "execution_count": 4,
   "metadata": {},
   "outputs": [
    {
     "data": {
      "text/plain": [
       "String"
      ]
     },
     "execution_count": 4,
     "metadata": {},
     "output_type": "execute_result"
    }
   ],
   "source": [
    "typeof(\"alma\")"
   ]
  },
  {
   "cell_type": "markdown",
   "metadata": {},
   "source": [
    "## Természetes és formális nyelvek\n",
    "\n",
    "**Természetes** nyelv az, amit használunk az emberi kommunikációnk során. Együtt fejlődött, fejlődik, alakul velünk. Hatással vagyunk rá és hatással van ránk. Sajátossága, hogy a jelsorozatok sokszor többféleképpen értelmezhetők, melyet a hallgató (olvasó) a kontextus segítségével általában meg tud szüntetni. Például:<br>\n",
    "```Sorold fel a nyelv tulajdonágait!```<br>\n",
    "A kérdésből még az sem derül ki, hogy a kérdező a nyelv-re mint jelrendszerre, vagy mint szerv-re gondolt.\n",
    "\n",
    "\n",
    "A **formális** nyelv egy-egy speciális terület által használt, jól definiált szabályok által felépített szimbólum rendszer. Például véve kémiát, a <br>\n",
    "$H_{2}O, H_{5}O, Z_{10}L$ <br>\n",
    "jelek közül az első a víz vegyjele, a másodiknak megfelelő molekula a vegyértékek miatt nem létezhet, a harmadiknál már a használt jelekből látjuk hogy hibás van. Vagyis a formális nyelvek egy leegyszerűsített, de sokkal egyértelműbb kommunkikációt tesznek lehetővé. <br>\n",
    "A formális nyelvnél a szintaktika és a szakterületi tudás birtokában a jelsorozatoknak egyértelműen dekódolhatónak kell lenni.\n",
    "\n",
    "\n",
    "## Hibakeresés\n",
    "\n",
    "A géppel, értelmezővel való párbeszéd, a programozás során hibákat követhetünk el, melyek helyét meg kell keresni, okát meg kell szüntetni. Itt egy fontos momentum, az hogy a gépet lehetőleg ne személyesítsük meg, vagy ha mindenáron ezt akarjuk tenni akkor gondoljunk a gépre beosztottként aki a parancsainkat feltétlen, \n",
    "betű szerint végrehajtja. Ha így teszünk sok fejfájástól kíméljük meg magunkat.\n"
   ]
  }
 ],
 "metadata": {
  "@webio": {
   "lastCommId": "e5fe037059d54a5c970f8962516cb883",
   "lastKernelId": "82dd7d89-0c2a-447e-b0f0-3767296d9958"
  },
  "kernelspec": {
   "display_name": "Julia 1.0.3",
   "language": "julia",
   "name": "julia-1.0"
  },
  "language_info": {
   "file_extension": ".jl",
   "mimetype": "application/julia",
   "name": "julia",
   "version": "1.0.3"
  }
 },
 "nbformat": 4,
 "nbformat_minor": 2
}
