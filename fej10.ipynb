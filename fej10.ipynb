{
 "cells": [
  {
   "cell_type": "markdown",
   "metadata": {},
   "source": [
    "# Tömbök\n",
    "\n",
    "Az egyik leggyakrabban használt szerkezet a programozásban. Értékek **sorozat**a. **Mutábilis**, azaz \n",
    "létrehozás után a benne lvő értékek megváltoztathatók. Inhomogén is lehet, azaz az értékek nem feltétlen azonos típusuak.\n",
    "\n",
    "\n",
    "## Létrehozásuk\n",
    "A legegyszerűbb esetben ```[``` és ```]``` zárójelek közötti felsorolással hozzuk létre:"
   ]
  },
  {
   "cell_type": "code",
   "execution_count": null,
   "metadata": {},
   "outputs": [],
   "source": [
    "számok1=[1,2,3,4]\n",
    "számok2=[1,2,3,\"négy\"]\n",
    "számok3=[1,2,3,\"négy\",[5,6,Inf]]\n",
    "X=[]                             # üres tömb"
   ]
  },
  {
   "cell_type": "markdown",
   "metadata": {},
   "source": [
    "## A tömb egy érték sorozat, mely változtatható\n",
    "\n",
    "A tömbök tehát tetszőleges elemeket tartalmazhatnak, így ha tömböt teszünk egy tömbbe azt mondjuk beleágyaztuk.<br>\n",
    "A benne levő elemeknek **sorrend**je van. Az elemeket a ```[]``` operátorral érjuk el:"
   ]
  },
  {
   "cell_type": "code",
   "execution_count": 274,
   "metadata": {},
   "outputs": [
    {
     "name": "stdout",
     "output_type": "stream",
     "text": [
      "Array{Int64,1}\n",
      "3\n",
      "33\n",
      "Array{Any,1}\n",
      "four\n",
      "Array{Any,1}\n",
      "Array{Float64,1}\n",
      "Array{Any,1}\n",
      "4\n",
      "4\n",
      "5\n",
      "0\n",
      "true\n",
      "false\n",
      "true\n",
      "false\n"
     ]
    }
   ],
   "source": [
    "println(typeof(számok1))\n",
    "println(számok1[3])\n",
    "számok1[3]=33\n",
    "println(számok1[3])\n",
    "számok1[3]=3           # visszaállít\n",
    "# számok1[3]=\"harminchárom\"       # hiba, a definíciókor csak egészek voltak a tömbbe\n",
    "#\n",
    "println(typeof(számok2))\n",
    "számok2[4]=\"four\"\n",
    "println(számok2[4])\n",
    "#\n",
    "println(typeof(számok3))\n",
    "println(typeof(számok3[5]))\n",
    "#\n",
    "println(typeof(X))\n",
    "#\n",
    "println(length(számok1))\n",
    "println(length(számok2))\n",
    "println(length(számok3))\n",
    "println(length(X))\n",
    "# \n",
    "println(1 ∈ számok1)\n",
    "println(11 ∈ számok2)\n",
    "println(\"négy\" ∈ számok3)\n",
    "println(4 ∈ számok3)"
   ]
  },
  {
   "cell_type": "markdown",
   "metadata": {},
   "source": [
    ">1. Bár inhomogének is lehetnek, ha létrehozáskor egyféle az elemek típusa, akkor nem változtatható meg. (kivéve az \n",
    "üres tömb) <br>\n",
    ">1. A ```length``` és az ∈ ugyanúgy használható mint sztringeknél\n",
    "\n",
    "\n",
    "## A tömb bejárása"
   ]
  },
  {
   "cell_type": "code",
   "execution_count": 275,
   "metadata": {},
   "outputs": [
    {
     "name": "stdout",
     "output_type": "stream",
     "text": [
      "1\n",
      "2\n",
      "3\n",
      "4\n",
      "1\n",
      "2\n",
      "3\n",
      "4\n",
      "1\n",
      "2\n",
      "3\n",
      "4\n"
     ]
    }
   ],
   "source": [
    "for val in számok1\n",
    "  println(val)\n",
    "end\n",
    "# vagy\n",
    "for i in 1:length(számok1)\n",
    "  println(számok1[i])\n",
    "end\n",
    "# vagy\n",
    "for i in eachindex(számok1)\n",
    "  println(számok1[i])\n",
    "end\n"
   ]
  },
  {
   "cell_type": "markdown",
   "metadata": {},
   "source": [
    "## Szeletek, résztömbök\n",
    "\n",
    "A három legegyszerűbb módja résztöm létrehozásának:\n",
    ">1. ```UnitRange``` \n",
    ">1. Index tömb \n",
    ">1. Logikai értékek tömbje\n",
    "\n",
    "Lásd a következő példát:"
   ]
  },
  {
   "cell_type": "code",
   "execution_count": 276,
   "metadata": {},
   "outputs": [
    {
     "data": {
      "text/plain": [
       "2-element Array{Int64,1}:\n",
       " 1\n",
       " 4"
      ]
     },
     "execution_count": 276,
     "metadata": {},
     "output_type": "execute_result"
    }
   ],
   "source": [
    "páros=számok1[2:2:end]\n",
    "csakÚgy1=számok1[[1,4]]\n",
    "csakÚgy2=számok1[[true,false,false,true]]"
   ]
  },
  {
   "cell_type": "markdown",
   "metadata": {},
   "source": [
    "## Értékadás\n",
    "\n",
    ">1. Ha az értékadás **jobb**oldalán egy módosítatlan (nincs szelet szerkezet) tömb-név szerepel, akkor a baloldali név egy újabb kötést hoz létre <br>\n",
    "a jobboldali elemsorozatra, azaz **referencia** nem másolás van. \n",
    ">1. Ha résztömb, szelet szerkezet van a **jobb**oldalon, akkor **másolás** történik.\n",
    ">1. Ha szelet szerkezet van a **bal**oldalon, akkor ez referenciaként viselkedik, tehát egyszerre több helyen módosíthatjuk"
   ]
  },
  {
   "cell_type": "code",
   "execution_count": 277,
   "metadata": {},
   "outputs": [
    {
     "name": "stdout",
     "output_type": "stream",
     "text": [
      "-1\n",
      "1\n"
     ]
    },
    {
     "data": {
      "text/plain": [
       "2-element Array{Int64,1}:\n",
       " 10\n",
       " 20"
      ]
     },
     "execution_count": 277,
     "metadata": {},
     "output_type": "execute_result"
    }
   ],
   "source": [
    "másik=számok\n",
    "másik[1]=-1\n",
    "println(számok[1])\n",
    "számok1[1]=1  # visszacsinál\n",
    "másik=számok1[:]\n",
    "másik[1]=-1\n",
    "println(számok1[1])\n",
    "számok[1:2]=[10,20]"
   ]
  },
  {
   "cell_type": "markdown",
   "metadata": {},
   "source": [
    "## Tömbkezelők\n",
    "\n",
    ">1. A ```push!(X, x)``` kiegészíti az ```X``` tömböt az ```x``` elemmel a **végén**. Helyben hajtódik végre."
   ]
  },
  {
   "cell_type": "code",
   "execution_count": 278,
   "metadata": {},
   "outputs": [
    {
     "name": "stdout",
     "output_type": "stream",
     "text": [
      "[1, 2, 3, 4, 5]\n"
     ]
    }
   ],
   "source": [
    "push!(számok1,5)\n",
    "println(számok1)"
   ]
  },
  {
   "cell_type": "code",
   "execution_count": null,
   "metadata": {},
   "outputs": [],
   "source": []
  }
 ],
 "metadata": {
  "@webio": {
   "lastCommId": "50e7006e21d1454082625702669ec7dd",
   "lastKernelId": "c22df176-e50f-4b73-86b0-3e1a52744ac4"
  },
  "kernelspec": {
   "display_name": "Julia 1.0.3",
   "language": "julia",
   "name": "julia-1.0"
  },
  "language_info": {
   "file_extension": ".jl",
   "mimetype": "application/julia",
   "name": "julia",
   "version": "1.0.3"
  }
 },
 "nbformat": 4,
 "nbformat_minor": 2
}
