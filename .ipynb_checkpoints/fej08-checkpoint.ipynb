{
 "cells": [
  {
   "cell_type": "markdown",
   "metadata": {},
   "source": [
    "# Sztringek\n",
    "\n",
    "A sztringek karakterekből - tehát ```Char``` típusú elemekből - álló sorozatoknak gondolhatók.<br>\n",
    "Ebben a fejezetben megtanuljuk létrehozni és manipulálni őket.\n",
    "\n",
    "## Karakterek\n",
    "\n",
    "Mik is azok karakterek?<br>\n",
    "A latin ABC karakterei ```a,b,c,...,x,y,z,B,...,X,Y,Z``` széles körben használatosak a nyugati világban. Ennek a ABC-nek \n",
    "számjegyekkel és speciális (pl. vezérlő: shift,enter) karakterekkel, való kiterjesztését szabványosították: [ascii wiki](https://hu.wikipedia.org/wiki/ASCII). Ez a készlet szűknek bizonyult (7bit=128 lehetőség), hiszen \n",
    "a géppel való kommunikáció során a legkülönfélébb jelek haszálatára van-lehet szükség. Mivel a mai gépek belsejében bit-sorozatok számok vannak, természetesen a karakterek számok. Azt különféle ```jelek```-hez milyen szám tartozik az ```Unicode``` írja le, azt hogy ezt hogyan is kell megvalósítani az ```UTF8```: [Unicode/UTF8 leírás](http://www.cs.bme.hu/~egmont/utf8/) Ezek a részletek minket nem igazán érdekelnek: használni akarjuk a karaktereket.<br>\n",
    "\n",
    "> Julia-ban egy karaktert aposztrófok közt adhatunk meg:"
   ]
  },
  {
   "cell_type": "code",
   "execution_count": 107,
   "metadata": {},
   "outputs": [
    {
     "name": "stdout",
     "output_type": "stream",
     "text": [
      "Char\n",
      "🍌\n"
     ]
    }
   ],
   "source": [
    "a='A'\n",
    "println(typeof(a))\n",
    "println('🍌')"
   ]
  },
  {
   "cell_type": "markdown",
   "metadata": {},
   "source": [
    "> Speciális karaktereket ún. escape sorozattal adhatunk meg: ```'\\:banana:+TAB'``` Azaz elkezdjük egy nyitó aposztróffal a karakter megadását majd a ```\\:``` után kezdjük el írni a kívánt jel nevét, ekkor a ```TAB```-ot megnyomva egy listát látunk a lehetséges kiegészítésekről (ha van ilyen), ebből kiválaszthatjuk a nekünk megfelelőt. Zárjuk be a megadást aposztróffal. Ha mindenáron használni akarjuk némi próbálkozással ráérezhetünk.<br>\n"
   ]
  },
  {
   "cell_type": "markdown",
   "metadata": {},
   "source": [
    "## Sztring=karakter-sorozat\n",
    "Tehát a ```String``` ```Char``` értékekek sorozata. Megadásuk idézőjel pár között felsoroljuk a karaktereket:"
   ]
  },
  {
   "cell_type": "code",
   "execution_count": 108,
   "metadata": {},
   "outputs": [
    {
     "name": "stdout",
     "output_type": "stream",
     "text": [
      "A\n",
      "String\n"
     ]
    }
   ],
   "source": [
    "b=\"ez egy emoji: 😄\" # \\:smile:\n",
    "println(a)\n",
    "println(typeof(b))"
   ]
  },
  {
   "cell_type": "markdown",
   "metadata": {},
   "source": [
    "> A sorozat egyedi bájtjainak (ami nem mindig karakter) elérése (hivatkozás rájuk) a ```[]``` szerkezettel lehetséges:"
   ]
  },
  {
   "cell_type": "code",
   "execution_count": 109,
   "metadata": {},
   "outputs": [
    {
     "name": "stdout",
     "output_type": "stream",
     "text": [
      "e\n",
      "😄\n",
      "ez egy\n",
      "UnitRange{Int64}\n",
      "e g mj:😄\n",
      "ez egy emoji: 😄, ez meg egy összeadás: 1+1=2\n"
     ]
    }
   ],
   "source": [
    "println(b[1])\n",
    "println(b[end])\n",
    "println(b[1:6])\n",
    "println(typeof(1:6))\n",
    "println(b[1:2:end])\n",
    "println(b*\", ez meg egy összeadás: 1+1=2\")\n",
    "# b[1]='E'                   # hiba: non-mutable\n",
    "# b[1.4]                     # hiba, csak egész lehet az index                         "
   ]
  },
  {
   "cell_type": "markdown",
   "metadata": {},
   "source": [
    "Tehát:\n",
    "> 1. az indexelés ```1```-el kezdődik\n",
    "2. az utolsó elem az ```end```-el érhető el\n",
    "3. indexsorozat kijelölésével összefüggő részeket érhetünk el\n",
    "4. az index-sorozat kijelölés eszköze az ```UnitRange```, melyet a ```:```-al hozunk létre.\n",
    "5. a lépésközt is megadhatjuk\n",
    "6. összefűzhetjük, konkatenálhatjuk a sztringeket a ```*``` operátorral\n",
    "7. **nem módosíthatók**\n",
    "8. az index csak egész lehet"
   ]
  },
  {
   "cell_type": "markdown",
   "metadata": {},
   "source": [
    "### ```length```\n",
    "A sztringet alkotó karakterek számát adja vissza, ami nem feltétlen a bájtok száma. Ez akkor okozhat gondot, ha \n",
    "olyan karaktereket is használunk ami 1-nél több bájton ábrázolódik, ekkor az index-hivatkozás ```[]``` nem az elvárt helyre mutat, nem értelmezhető karakterként."
   ]
  },
  {
   "cell_type": "code",
   "execution_count": 110,
   "metadata": {},
   "outputs": [
    {
     "name": "stdout",
     "output_type": "stream",
     "text": [
      "5\n",
      " \n",
      "🍋\n",
      "14\n"
     ]
    }
   ],
   "source": [
    "gyümi=\"🍌 🍎 🍋\"\n",
    "println(length(gyümi))\n",
    "println(gyümi[5])        # nem hiba, de nem az elvártat látjuk (citrom)\n",
    "# println(gyümi[2])      # hiba egy több-bájtos dolog második bájtjára hivatkozunk\n",
    "println(gyümi[end])\n",
    "# println(gyümi[end-2])      # hiba: elképzelés: alma - nem az\n",
    "println(sizeof(gyümi))"
   ]
  },
  {
   "cell_type": "markdown",
   "metadata": {},
   "source": [
    "> Azaz a ```length``` által adott szám nem ugyanaz mint a ```[]``` által hivatkozható tartomány! <br>\n",
    "> Az első ```Char``` alapú, míg az utóbbi bájt alapú.<br>\n",
    "> Mivel```UTF8``` kódolás változó bájthosszúságú, ezért egy sztring karaktereinak bejárására ne használjuk a   ```[]```-t<br>\n",
    "> \n",
    "> A ```sizeof``` a bájtok számát adja vissza"
   ]
  },
  {
   "cell_type": "markdown",
   "metadata": {},
   "source": [
    "### Sztring bejárása\n",
    "\n",
    "Nem kell megijedni, nem így kell bejárni egy sztringet, de az alábbi kód jobb betekintést ad:"
   ]
  },
  {
   "cell_type": "code",
   "execution_count": 111,
   "metadata": {},
   "outputs": [
    {
     "name": "stdout",
     "output_type": "stream",
     "text": [
      "1   🍌\n",
      "5    \n",
      "6   🍎\n",
      "10    \n",
      "11   🍋\n",
      "11\n"
     ]
    }
   ],
   "source": [
    "ind = firstindex(gyümi)\n",
    "while ind <= sizeof(gyümi)\n",
    "    println(ind,\"   \",gyümi[ind])\n",
    "    ind = nextind(gyümi, ind)\n",
    "end\n",
    "println(lastindex(gyümi))"
   ]
  },
  {
   "cell_type": "markdown",
   "metadata": {},
   "source": [
    "> 1. ```firstindex``` az első karakter bájt-alapú indexe\n",
    "1. ```sizeof```: bájtok száma\n",
    "1. ```nextind```: az első paraméterként adott sztringben a második paraméterként adott index utáni legális karakter bájt-indexe\n",
    "1. ```lastindex```: az utolsó karakter bájt-indexe\n",
    "1. Ezek a szerkezetek más kollekciók esetén is használhatók\n",
    "\n",
    "\n",
    "A mindennapi  kódolás során inkább az alábbi használatos:"
   ]
  },
  {
   "cell_type": "code",
   "execution_count": 112,
   "metadata": {},
   "outputs": [
    {
     "name": "stdout",
     "output_type": "stream",
     "text": [
      "🍌\n",
      " \n",
      "🍎\n",
      " \n",
      "🍋\n"
     ]
    }
   ],
   "source": [
    "for c in gyümi\n",
    "  println(c)\n",
    "end\n",
    "  "
   ]
  },
  {
   "cell_type": "markdown",
   "metadata": {},
   "source": [
    "### Feladat\n",
    "Írjuk meg a fenti kód visszafelé-bejáró változatát. Használjuk a ```prevind```-et.\n",
    "\n",
    "### Megoldás"
   ]
  },
  {
   "cell_type": "code",
   "execution_count": 113,
   "metadata": {},
   "outputs": [
    {
     "name": "stdout",
     "output_type": "stream",
     "text": [
      "🍋\n",
      " \n",
      "🍎\n",
      " \n",
      "🍌\n"
     ]
    }
   ],
   "source": [
    "ind = lastindex(gyümi)\n",
    "while ind >= firstindex(gyümi)\n",
    "  println(gyümi[ind])\n",
    "  ind = prevind(gyümi, ind)\n",
    "end\n"
   ]
  },
  {
   "cell_type": "markdown",
   "metadata": {},
   "source": [
    "### Szeletek a sztringből\n",
    "\n",
    "Láttuk, hogy bizonyos részeket kiszedhetünk a sztringből a ```UnitRange``` segítségével.<br> \n",
    "Fontos hogy ekkor az eredeti sztring egy másolata jön létre:"
   ]
  },
  {
   "cell_type": "code",
   "execution_count": 114,
   "metadata": {},
   "outputs": [
    {
     "name": "stdout",
     "output_type": "stream",
     "text": [
      "123\n",
      "123\n"
     ]
    }
   ],
   "source": [
    "a=\"123456789\"\n",
    "b=a[1:3]\n",
    "println(b)\n",
    "a=\"23456789\"\n",
    "println(b)"
   ]
  },
  {
   "cell_type": "markdown",
   "metadata": {},
   "source": [
    "### A sztringek nem-mutábilisek\n",
    "\n",
    "Ezt is láttuk a fejezet elején. A \"régi\" nevet viszont felhasználhatjuk. <br>\n",
    "A következő példában nem az ```a```-val jelölt sztringet módosítottuk, hanem az ```a```-nevet kötöttük hozzá egy új sztringhez:"
   ]
  },
  {
   "cell_type": "code",
   "execution_count": 115,
   "metadata": {},
   "outputs": [
    {
     "name": "stdout",
     "output_type": "stream",
     "text": [
      "123\n",
      "123456\n"
     ]
    }
   ],
   "source": [
    "a=\"123\"\n",
    "println(a)\n",
    "a=a*\"456\"\n",
    "println(a)"
   ]
  },
  {
   "cell_type": "markdown",
   "metadata": {},
   "source": [
    "### Behelyettesítés (interpoláció)\n",
    "\n",
    "A ```*``` operátorral körülményes, és nem rugalmas létrehozni sztringeket. Erre való a behelyettesítés:"
   ]
  },
  {
   "cell_type": "code",
   "execution_count": 116,
   "metadata": {},
   "outputs": [
    {
     "name": "stdout",
     "output_type": "stream",
     "text": [
      "halló, világ!\n",
      "halló, világ!\n",
      "12 * 12 = 144\n"
     ]
    }
   ],
   "source": [
    "a=\"halló\"\n",
    "b=\"világ\"\n",
    "println(a*\", \"*b*\"!\")\n",
    "# versus\n",
    "println(\"$(a), $(b)!\")\n",
    "# vagy\n",
    "x=12\n",
    "y=12\n",
    "println(\"$(x) * $(y) = $(x*y)\")\n"
   ]
  },
  {
   "cell_type": "markdown",
   "metadata": {},
   "source": [
    "### Karakterek keresése\n"
   ]
  },
  {
   "cell_type": "code",
   "execution_count": 131,
   "metadata": {},
   "outputs": [
    {
     "name": "stdout",
     "output_type": "stream",
     "text": [
      "1:1\n",
      "nothing\n",
      "1\n",
      "[1, 5]\n",
      "11\n",
      "6\n"
     ]
    },
    {
     "data": {
      "text/plain": [
       "Nothing"
      ]
     },
     "execution_count": 131,
     "metadata": {},
     "output_type": "execute_result"
    }
   ],
   "source": [
    "a=\"12341\"\n",
    "println(findfirst(\"1\",a))\n",
    "show(findfirst(\"5\",a));println()\n",
    "println(findfirst((x)->x=='1', a))\n",
    "println(findall((x)->x=='1', a))\n",
    "a=\"🍴 ✂ nem gyerek kezébe való\"\n",
    "println(findfirst((x)->x=='e', a))\n",
    "println(findfirst((x)->x=='✂', a))\n",
    "ret=findfirst((x)->x=='í', a)\n",
    "typeof(ret)"
   ]
  },
  {
   "cell_type": "markdown",
   "metadata": {},
   "source": [
    "> 1. A ```findfirst(x, y)``` egy változata az ```x``` sztring ```y``` sztringbeli első előfordulását adja meg, bájt-index tartomány formában.<br> Karakter keresése esetén egykarakteres sztringet adunk meg.\n",
    "> 1. Nem érdemes külön sztringben való keresgetéssel foglalkozni, <br>a ```findfirst``` és variációi a megoldás, \n",
    "mivel ezek tetszőleges kollekciók esetén használhatók.\n",
    "> 1. a ```(x)->x=='1'``` szerkezet rövid, névhez nem feltétlen kötött függvények létrehozására jó. <br>\n",
    "   Itt egy ```Bool```-t visszadó függvényt adunk meg. Ezt predikátumnak is nevezik. <br>\n",
    "   Ez ```findfirst``` első paramétere; a második a kollekció, jelen esetben egy sztring, melynek sorra veszi az elemeit és azon indexeket adja vissza melyre ```true```-t ad a predikátum.\n",
    "> 1. A visszadott szám ```byte```-index, tehát nem a karakter sorszáma. Ezt a sztringekben keresgélésnél tartsuk szem előtt.\n",
    "> 1. Sikertelen keresés esetén ```nothing```-ot ad vissza. Ezt nekünk kell lekezelni.\n",
    "\n",
    "\n",
    "Ha mindenáron újra fel akarjuk találni a kereket, a sztring bejárós kóddal írhatunk egyet magunknak:"
   ]
  },
  {
   "cell_type": "code",
   "execution_count": 123,
   "metadata": {},
   "outputs": [
    {
     "name": "stdout",
     "output_type": "stream",
     "text": [
      "1\n",
      "nothing\n",
      "1\n"
     ]
    }
   ],
   "source": [
    "function keres1(ebben, ezt, ind=nothing)\n",
    "  ind = if ind==nothing firstindex(ebben) else ind end\n",
    "  while ind <= sizeof(ebben)\n",
    "    if ebben[ind]==ezt \n",
    "      return ind\n",
    "    end\n",
    "    ind = nextind(ebben, ind)\n",
    "  end\n",
    "  nothing\n",
    "end\n",
    "a=\"12341\"\n",
    "ret=keres1(a,'1')\n",
    "show(ret);println()\n",
    "ret=keres1(a,'7')\n",
    "show(ret);println()\n",
    "ret=keres1(a,'1',1)\n",
    "show(ret);println()\n"
   ]
  },
  {
   "cell_type": "markdown",
   "metadata": {},
   "source": [
    "### Feladat \n",
    "Számoljuk meg egy sztringben egy adott karakter előfordulásainak számát! Használjuk a ```findall```-t.\n",
    "\n",
    "### Megoldás"
   ]
  },
  {
   "cell_type": "code",
   "execution_count": 133,
   "metadata": {},
   "outputs": [
    {
     "name": "stdout",
     "output_type": "stream",
     "text": [
      "0\n",
      "2\n",
      "[1, 10, 11, 12, 13]\n"
     ]
    }
   ],
   "source": [
    "a=\"9123412229999\"\n",
    "println(length(findall((x)->x=='0', a)))\n",
    "println(length(findall((x)->x=='1', a)))\n",
    "println(findall((x)->x=='9', a))"
   ]
  },
  {
   "cell_type": "markdown",
   "metadata": {},
   "source": [
    "### Rész-sztringek keresése"
   ]
  },
  {
   "cell_type": "code",
   "execution_count": 139,
   "metadata": {},
   "outputs": [
    {
     "name": "stdout",
     "output_type": "stream",
     "text": [
      "37:39\n",
      "nothing\n"
     ]
    }
   ],
   "source": [
    "szó=\"kandírozott mandarinzselé-színű áramvonalidom Lada személygépkocsihoz\"\n",
    "show(findfirst(\"ár\",szó));println()\n",
    "show(findfirst(\"vár\",szó));println()"
   ]
  },
  {
   "cell_type": "markdown",
   "metadata": {},
   "source": [
    "### Feladat\n",
    "Írjuk meg a ```findall``` sztringes változatát. Használjuk a ```findnext```-et.\n",
    "\n",
    "\n"
   ]
  },
  {
   "cell_type": "markdown",
   "metadata": {},
   "source": [
    "### Hasznos sztring-függvények"
   ]
  },
  {
   "cell_type": "code",
   "execution_count": 151,
   "metadata": {},
   "outputs": [
    {
     "name": "stdout",
     "output_type": "stream",
     "text": [
      "INDUL A PAP ALUDNI\n",
      "indul a pap aludni\n",
      "indula PAP a ludnI\n",
      "korán Indul a PAP aludni\n"
     ]
    }
   ],
   "source": [
    "a=\"Indul a PAP aludni\"\n",
    "k=\"korán\"\n",
    "println(uppercase(a))\n",
    "println(lowercase(a))\n",
    "println(reverse(a))            # megfordítja a sztringet\n",
    "println(join([k, \" \", a]))     # egy sztrinekből álló tömb elemeit fűzi össze"
   ]
  },
  {
   "cell_type": "markdown",
   "metadata": {},
   "source": [
    "### Az ∈ operátor \n",
    "\n",
    "Használata: arra vagyunk kíváncsiak hogy egy elem benne van-e egy adott kollekcióban, jelen esetben sztringben:"
   ]
  },
  {
   "cell_type": "code",
   "execution_count": 152,
   "metadata": {},
   "outputs": [
    {
     "name": "stdout",
     "output_type": "stream",
     "text": [
      "false\n",
      "true\n"
     ]
    }
   ],
   "source": [
    "a=\"Mert te ilyen vagy s ők olyanok\"\n",
    "println('z' ∈ a)\n",
    "println(in('a',a))        # használhatjuk az prefix alakot is (min minden infix operátornál)"
   ]
  },
  {
   "cell_type": "markdown",
   "metadata": {},
   "source": [
    "### Feladat \n",
    "Írjunk egy függvényt, mely két sztring esetén visszaadja azt a sztringet mely olyan elsőbeli \n",
    "karakterekből áll, melyek a másodikban is benne vannak.\n",
    "\n",
    "### Megoldás"
   ]
  },
  {
   "cell_type": "code",
   "execution_count": 154,
   "metadata": {},
   "outputs": [
    {
     "name": "stdout",
     "output_type": "stream",
     "text": [
      "reeneesen\n",
      "sern\n"
     ]
    }
   ],
   "source": [
    "ab(a,b)=join([c for c ∈ a if c ∈ b ])\n",
    "a=\"rettenetesen\"\n",
    "b=\"szerény\"\n",
    "println(ab(a,b))\n",
    "println(ab(b,a))"
   ]
  },
  {
   "cell_type": "markdown",
   "metadata": {},
   "source": [
    "### Összehasonlítás\n",
    "\n",
    "Nagyjából mindent amit a számoknál megismertünk és értelmes sztringekre, azt használhatjuk:"
   ]
  },
  {
   "cell_type": "code",
   "execution_count": 160,
   "metadata": {},
   "outputs": [
    {
     "name": "stdout",
     "output_type": "stream",
     "text": [
      "true\n",
      "false\n",
      "true\n",
      "true\n",
      "true\n"
     ]
    }
   ],
   "source": [
    "a=\"Kovács Béla\"\n",
    "b=\"Kovács Jenő\"\n",
    "println(a<b)\n",
    "c=\"KOVÁCS BÉLA\"\n",
    "println(lowercase(a)==lowercase(b))\n",
    "println(lowercase(a)==lowercase(c))\n",
    "println(\"a\" ≤ \"aa\")                 # lexikografikus; ≤ -> \\le+TAB, \\le -> less or equal\n",
    "println(\"\"<\"a\")                     # az üres string "
   ]
  },
  {
   "cell_type": "markdown",
   "metadata": {},
   "source": [
    "### Feladat \n",
    "Az alábbi függvények elvárt működése: igazat adnak pont akkor, ha ```s``` tartalmaz kibetűt. Melyik működik helyesen? Javítsuk ki a rosszakat.\n",
    "\n",
    "```julia\n",
    "function kisbetű1(s)\n",
    "    for c in s\n",
    "        if islowercase(c)\n",
    "            return true\n",
    "        else\n",
    "            return false\n",
    "        end\n",
    "    end\n",
    "end\n",
    "\n",
    "function kisbetű2(s)\n",
    "    for c in s\n",
    "        if islowercase('c')\n",
    "            return \"true\"\n",
    "        else\n",
    "            return \"false\"\n",
    "        end\n",
    "    end\n",
    "end\n",
    "\n",
    "function kisbetű3(s)\n",
    "    for c in s\n",
    "        flag = islowercase(c)\n",
    "    end\n",
    "    flag\n",
    "end\n",
    "\n",
    "function kisbetű4(s)\n",
    "    flag = false\n",
    "    for c in s\n",
    "        flag = flag || islowercase(c)\n",
    "    end\n",
    "    flag\n",
    "end\n",
    "\n",
    "function kisbetű5(s)\n",
    "    for c in s\n",
    "        if !islowercase(c)\n",
    "            return false\n",
    "        end\n",
    "    end\n",
    "    true\n",
    "end\n",
    "```"
   ]
  },
  {
   "cell_type": "code",
   "execution_count": null,
   "metadata": {},
   "outputs": [],
   "source": []
  }
 ],
 "metadata": {
  "@webio": {
   "lastCommId": "50e7006e21d1454082625702669ec7dd",
   "lastKernelId": "c22df176-e50f-4b73-86b0-3e1a52744ac4"
  },
  "kernelspec": {
   "display_name": "Julia 1.0.3",
   "language": "julia",
   "name": "julia-1.0"
  },
  "language_info": {
   "file_extension": ".jl",
   "mimetype": "application/julia",
   "name": "julia",
   "version": "1.0.3"
  }
 },
 "nbformat": 4,
 "nbformat_minor": 2
}
