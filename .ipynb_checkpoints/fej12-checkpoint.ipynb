{
 "cells": [
  {
   "cell_type": "markdown",
   "metadata": {},
   "source": [
    "# N-esek - Tuple-ok\n",
    "\n",
    "Ebben a fejezetben a tuple adattípussal fogunk megismerkedni.\n",
    "\n",
    "\n",
    "## A tuple nem módosítható\n",
    "\n",
    "A tuple értékek sorozata, hasonlóan a tömbhöz - tehát van sorrend.<br>\n",
    "Fontos különbség, hogy `nem módosítható`. \n",
    "\n",
    "## Létrehozás\n",
    "`név=érték1,...,értékN`<br>\n",
    "`név=(érték1,...,értékN)`<br>\n",
    "`név=tuple(érték1,...,értékN)`"
   ]
  },
  {
   "cell_type": "code",
   "execution_count": 30,
   "metadata": {},
   "outputs": [
    {
     "name": "stdout",
     "output_type": "stream",
     "text": [
      "1\n",
      "[-1, 1]\n",
      "Tuple{Int64}\n",
      "Int64\n",
      "()\n",
      "(3, 5, 7)\n"
     ]
    }
   ],
   "source": [
    "számok= 1,2,π\n",
    "println(számok[1])\n",
    "# számok[1]=12 # hiba, nem módosítható\n",
    "vegyes= \"ez már vegyes\",számok,[-1,1]\n",
    "println(vegyes[end])\n",
    "egy=(1,) # egyeleműnél kell a záró vessző !!!\n",
    "println(typeof(egy))\n",
    "egy=(1)\n",
    "println(typeof(egy))\n",
    "üres=tuple() # vagy üres=()\n",
    "println(üres)\n",
    "sorozat=tuple(1,3,5,7,9,11)\n",
    "println(sorozat[2:4]) # slice-olható"
   ]
  },
  {
   "cell_type": "markdown",
   "metadata": {},
   "source": [
    "## Összehasonlítás, műveletek\n",
    "\n",
    "A tömböknél látotthoz hasonlóan a `<` lexikografikus rendezést jelent és a műveletek is működnek:\n"
   ]
  },
  {
   "cell_type": "code",
   "execution_count": 57,
   "metadata": {},
   "outputs": [
    {
     "name": "stdout",
     "output_type": "stream",
     "text": [
      "(1, 2, 3) < (1, 3) = true\n",
      "() < (\"bármi\",) = true\n",
      "() < () = false\n",
      "(1, 2) .+ 2 .* (1, 1) = (3, 4)\n",
      "(1, 2) .* (-2, 1) = (-2, 2)\n"
     ]
    }
   ],
   "source": [
    "@show (1,2,3)<(1,3);\n",
    "@show ()<(\"bármi\",);\n",
    "@show ()<(); \n",
    "# @show ('a')<([]); # hiba, nincs értelmezve a < az értékek közt\n",
    "@show (1,2) .+ 2 .*(1,1);\n",
    "@show (1,2) .* (-2,1);\n"
   ]
  },
  {
   "cell_type": "markdown",
   "metadata": {},
   "source": [
    "## Értékadás\n",
    "\n",
    "A szokésos segédváltozós <br>\n",
    "``` temp=a; a=b; b=temp ``` <br>\n",
    "csere helyett használhatjuk a rövidebb <br>\n",
    "``` a,b=b,a ``` <br>\n",
    "szerkezetet. Rengeteg fv. ad vissza tuple-t: <br>\n",
    "``` res=divrem(10,3) ``` <br>\n",
    "ekkor további műveletekkel - `res[1],res[2]` - tudjuk csak elérni az értékeket. <br>\n",
    "Sokkal egyszerűbb a <br>\n",
    "``` q,r=divrem(10,3) ``` <br>\n",
    "használat, mely után a változók rögvest munkára foghatók.\n"
   ]
  },
  {
   "cell_type": "code",
   "execution_count": 67,
   "metadata": {},
   "outputs": [
    {
     "name": "stdout",
     "output_type": "stream",
     "text": [
      "usr=president dom=usa.gov\n"
     ]
    }
   ],
   "source": [
    "# a vége ugyanaz\n",
    "a,b,c=1,2,3\n",
    "a,b,c=1:3\n",
    "a,b,c=[1,2,3]\n",
    "# split:\n",
    "usr,dom = split(\"president@usa.gov\", '@' )\n",
    "println(\"usr=\",usr,\" dom=\",dom)"
   ]
  },
  {
   "cell_type": "markdown",
   "metadata": {},
   "source": [
    "### Példa - legnagyobb közös osztó\n",
    "\n",
    "Az eddigiek összefoglalja a következő LNKO függvény, mely az \n",
    "$ax+by=(a,b)$ egy megoldását is megadja, a legnagyobb közös osztón kívül."
   ]
  },
  {
   "cell_type": "code",
   "execution_count": 68,
   "metadata": {},
   "outputs": [
    {
     "name": "stdout",
     "output_type": "stream",
     "text": [
      "  0.000005 seconds (5 allocations: 192 bytes)\n"
     ]
    },
    {
     "data": {
      "text/plain": [
       "(1, (23, -19))"
      ]
     },
     "execution_count": 68,
     "metadata": {},
     "output_type": "execute_result"
    }
   ],
   "source": [
    "function extLnko(a, b)\n",
    "  A,B=(1,0),(0,1)\n",
    "  while true\n",
    "    q,r=divrem(a,b)\n",
    "    r==0 && break\n",
    "    A, B=B, A.-q.*B\n",
    "    a, b=b, r\n",
    "  end\n",
    "  b,B\n",
    "end\n",
    "@time extLnko(100,121)"
   ]
  },
  {
   "cell_type": "markdown",
   "metadata": {},
   "source": [
    "## Változó számú argumentum\n",
    "\n",
    "Példa:"
   ]
  },
  {
   "cell_type": "code",
   "execution_count": 9,
   "metadata": {},
   "outputs": [
    {
     "name": "stdout",
     "output_type": "stream",
     "text": [
      "2 3//1 \n"
     ]
    }
   ],
   "source": [
    "function printAll(args...)\n",
    "  for v in args\n",
    "    print(v,\" \")\n",
    "  end\n",
    "  println()\n",
    "end\n",
    "printAll(\"első\", 2, 9//3 )"
   ]
  },
  {
   "cell_type": "markdown",
   "metadata": {},
   "source": [
    "Néha a fordított irányra lehet szükség:"
   ]
  },
  {
   "cell_type": "code",
   "execution_count": 10,
   "metadata": {},
   "outputs": [
    {
     "data": {
      "text/plain": [
       "(3, 1)"
      ]
     },
     "execution_count": 10,
     "metadata": {},
     "output_type": "execute_result"
    }
   ],
   "source": [
    "pár=10,3\n",
    "divrem(pár...)"
   ]
  },
  {
   "cell_type": "code",
   "execution_count": null,
   "metadata": {},
   "outputs": [],
   "source": []
  }
 ],
 "metadata": {
  "@webio": {
   "lastCommId": "50e7006e21d1454082625702669ec7dd",
   "lastKernelId": "c22df176-e50f-4b73-86b0-3e1a52744ac4"
  },
  "kernelspec": {
   "display_name": "Julia 1.1.1",
   "language": "julia",
   "name": "julia-1.1"
  },
  "language_info": {
   "file_extension": ".jl",
   "mimetype": "application/julia",
   "name": "julia",
   "version": "1.1.1"
  },
  "toc": {
   "base_numbering": 1,
   "nav_menu": {},
   "number_sections": true,
   "sideBar": true,
   "skip_h1_title": true,
   "title_cell": "Table of Contents",
   "title_sidebar": "Contents",
   "toc_cell": false,
   "toc_position": {
    "height": "384.167px",
    "left": "29px",
    "top": "66.6333px",
    "width": "213.333px"
   },
   "toc_section_display": true,
   "toc_window_display": true
  }
 },
 "nbformat": 4,
 "nbformat_minor": 2
}
