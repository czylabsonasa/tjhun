{
 "cells": [
  {
   "cell_type": "markdown",
   "metadata": {},
   "source": [
    "# N-esek - Tuple-ok\n",
    "\n",
    "Ebben a fejezetben a tuple adattípussal fogunk megismerkedni.\n",
    "\n",
    "\n",
    "## A tuple nem módosítható\n",
    "\n",
    "A tuple értékek sorozata, hasonlóan a tömbhöz - tehát van sorrend.<br>\n",
    "Fontos különbség, hogy `nem módosítható`. \n",
    "\n",
    "## Létrehozás\n",
    "`név=érték1,...,értékN`<br>\n",
    "`név=(érték1,...,értékN)`<br>\n",
    "`név=tuple(érték1,...,értékN)`"
   ]
  },
  {
   "cell_type": "code",
   "execution_count": 30,
   "metadata": {},
   "outputs": [
    {
     "name": "stdout",
     "output_type": "stream",
     "text": [
      "1\n",
      "[-1, 1]\n",
      "Tuple{Int64}\n",
      "Int64\n",
      "()\n",
      "(3, 5, 7)\n"
     ]
    }
   ],
   "source": [
    "számok= 1,2,π\n",
    "println(számok[1])\n",
    "# számok[1]=12 # hiba, nem módosítható\n",
    "vegyes= \"ez már vegyes\",számok,[-1,1]\n",
    "println(vegyes[end])\n",
    "egy=(1,) # egyeleműnél kell a záró vessző !!!\n",
    "println(typeof(egy))\n",
    "egy=(1)\n",
    "println(typeof(egy))\n",
    "üres=tuple() # vagy üres=()\n",
    "println(üres)\n",
    "sorozat=tuple(1,3,5,7,9,11)\n",
    "println(sorozat[2:4]) # slice-olható"
   ]
  },
  {
   "cell_type": "markdown",
   "metadata": {},
   "source": [
    "## Összehasonlítás, műveletek\n",
    "\n",
    "A tömböknél látotthoz hasonlóan a `<` lexikografikus rendezést jelent és a műveletek is működnek:\n"
   ]
  },
  {
   "cell_type": "code",
   "execution_count": 57,
   "metadata": {},
   "outputs": [
    {
     "name": "stdout",
     "output_type": "stream",
     "text": [
      "(1, 2, 3) < (1, 3) = true\n",
      "() < (\"bármi\",) = true\n",
      "() < () = false\n",
      "(1, 2) .+ 2 .* (1, 1) = (3, 4)\n",
      "(1, 2) .* (-2, 1) = (-2, 2)\n"
     ]
    }
   ],
   "source": [
    "@show (1,2,3)<(1,3);\n",
    "@show ()<(\"bármi\",);\n",
    "@show ()<(); \n",
    "# @show ('a')<([]); # hiba, nincs értelmezve a < az értékek közt\n",
    "@show (1,2) .+ 2 .*(1,1);\n",
    "@show (1,2) .* (-2,1);\n"
   ]
  },
  {
   "cell_type": "markdown",
   "metadata": {},
   "source": [
    "## Értékadás\n",
    "\n",
    "A szokésos segédváltozós <br>\n",
    "``` temp=a; a=b; b=temp ``` <br>\n",
    "csere helyett használhatjuk a rövidebb <br>\n",
    "``` a,b=b,a ``` <br>\n",
    "szerkezetet. Rengeteg fv. ad vissza tuple-t: <br>\n",
    "``` res=divrem(10,3) ``` <br>\n",
    "ekkor további műveletekkel - `res[1],res[2]` - tudjuk csak elérni az értékeket. <br>\n",
    "Sokkal egyszerűbb a <br>\n",
    "``` q,r=divrem(10,3) ``` <br>\n",
    "használat, mely után a változók rögvest munkára foghatók.\n"
   ]
  },
  {
   "cell_type": "code",
   "execution_count": 67,
   "metadata": {},
   "outputs": [
    {
     "name": "stdout",
     "output_type": "stream",
     "text": [
      "usr=president dom=usa.gov\n"
     ]
    }
   ],
   "source": [
    "# a vége ugyanaz\n",
    "a,b,c=1,2,3\n",
    "a,b,c=1:3\n",
    "a,b,c=[1,2,3]\n",
    "# split:\n",
    "usr,dom = split(\"president@usa.gov\", '@' )\n",
    "println(\"usr=\",usr,\" dom=\",dom)"
   ]
  },
  {
   "cell_type": "markdown",
   "metadata": {},
   "source": [
    "### Példa - legnagyobb közös osztó\n",
    "\n",
    "Az eddigiek összefoglalja a következő LNKO függvény, mely az \n",
    "$ax+by=(a,b)$ egy megoldását is megadja, a legnagyobb közös osztón kívül."
   ]
  },
  {
   "cell_type": "code",
   "execution_count": 68,
   "metadata": {},
   "outputs": [
    {
     "name": "stdout",
     "output_type": "stream",
     "text": [
      "  0.000005 seconds (5 allocations: 192 bytes)\n"
     ]
    },
    {
     "data": {
      "text/plain": [
       "(1, (23, -19))"
      ]
     },
     "execution_count": 68,
     "metadata": {},
     "output_type": "execute_result"
    }
   ],
   "source": [
    "function extLnko(a, b)\n",
    "  A,B=(1,0),(0,1)\n",
    "  while true\n",
    "    q,r=divrem(a,b)\n",
    "    r==0 && break\n",
    "    A, B=B, A.-q.*B\n",
    "    a, b=b, r\n",
    "  end\n",
    "  b,B\n",
    "end\n",
    "@time extLnko(100,121)"
   ]
  },
  {
   "cell_type": "markdown",
   "metadata": {},
   "source": [
    "## Változó számú argumentum (gather/slurp)\n",
    "\n",
    "Az (utolsó) argumentum neve után írt  `...` egy tuple-ba gyűjti össze az ezen névnek megfelelő pozición átadott paramétereket."
   ]
  },
  {
   "cell_type": "code",
   "execution_count": 9,
   "metadata": {},
   "outputs": [
    {
     "name": "stdout",
     "output_type": "stream",
     "text": [
      "2 3//1 \n"
     ]
    }
   ],
   "source": [
    "function printAll(args...)\n",
    "  for v in args\n",
    "    print(v,\" \")\n",
    "  end\n",
    "  println()\n",
    "end\n",
    "printAll(\"első\", 2, 9//3 )"
   ]
  },
  {
   "cell_type": "markdown",
   "metadata": {},
   "source": [
    "### Scatter/splat\n",
    "Ha egyedi értékeket kell átadni, de az értékek tuple-ban vannak, akkor is a `...` szerkezet nyújt megoldást:"
   ]
  },
  {
   "cell_type": "code",
   "execution_count": 12,
   "metadata": {},
   "outputs": [
    {
     "name": "stdout",
     "output_type": "stream",
     "text": [
      "divrem(pár...) = (3, 1)\n"
     ]
    },
    {
     "data": {
      "text/plain": [
       "(10, 3, 11)"
      ]
     },
     "execution_count": 12,
     "metadata": {},
     "output_type": "execute_result"
    }
   ],
   "source": [
    "pár=10,3\n",
    "@show divrem(pár...)\n",
    "pár=10,3,11\n",
    "# @show divrem(pár...) # hiba"
   ]
  },
  {
   "cell_type": "markdown",
   "metadata": {},
   "source": [
    "## Zip\n",
    "\n",
    "Kollekciókat szimultán bejárhatunk a tuple és `zip` segítségével. A `zip` egy tuple-okból álló iterálható kollekció, ahol az elemek \n",
    "a paraméterül átadott - összezipelendő - kollekciók bejárásával keletkeznek.\n"
   ]
  },
  {
   "cell_type": "code",
   "execution_count": 17,
   "metadata": {},
   "outputs": [
    {
     "name": "stdout",
     "output_type": "stream",
     "text": [
      "1 2\n",
      "3 4\n",
      "5 6\n",
      "7 8\n",
      "9 10\n",
      "1 2\n",
      "3 4\n",
      "5 6\n",
      "7 8\n",
      "9 10\n",
      "1:alma 4\n",
      "2:dió 3\n",
      "3:mogyoró 7\n"
     ]
    }
   ],
   "source": [
    "odd,even=1:2:10, 2:2:10\n",
    "for (a,b) in zip(odd,even)\n",
    "  println(a,\" \",b)\n",
    "end\n",
    "#\n",
    "odd,even=1:2:10, 2:2:20 # a rövidebbet veszi\n",
    "for (a,b) in zip(odd,even)\n",
    "  println(a,\" \",b)\n",
    "end\n",
    "# kettőnél többet is vehetünk\n",
    "szavak=[\"alma\",\"dió\",\"mogyoró\"]\n",
    "for (i,szó,hossz) in zip(1:length(szavak),szavak,length.(szavak))\n",
    "  println(i,\":\",szó,\" \",hossz)\n",
    "end  "
   ]
  },
  {
   "cell_type": "markdown",
   "metadata": {},
   "source": [
    "Egy példa for+`zip`+tuple használatára:"
   ]
  },
  {
   "cell_type": "code",
   "execution_count": 23,
   "metadata": {},
   "outputs": [
    {
     "name": "stdout",
     "output_type": "stream",
     "text": [
      "matches(\"alma\", \"apple\") = Any['a']\n",
      "matches([1, 2, 3, 5], [1, 1, 3, 5]) = Any[1, 3, 5]\n"
     ]
    }
   ],
   "source": [
    "function matches(a,b)\n",
    "  res=[]\n",
    "  for (ai,bi) in zip(a,b)\n",
    "    ai==bi && push!(res,ai)\n",
    "  end\n",
    "  res\n",
    "end\n",
    "@show matches(\"alma\",\"apple\");\n",
    "@show matches([1,2,3,5],[1,1,3,5]);\n"
   ]
  },
  {
   "cell_type": "markdown",
   "metadata": {},
   "source": [
    "## Zip és szótárak\n",
    "\n",
    "A szótárak bejárásában a tuple-nak alapvető szerepe van:\n",
    "```julia\n",
    "for (k, v) in d\n",
    "    # itt csinalunk valamit k,v-vel\n",
    "end\n",
    "```\n",
    "Emelett a `zip` a létrehozást megkönnyíti:\n"
   ]
  },
  {
   "cell_type": "code",
   "execution_count": 25,
   "metadata": {},
   "outputs": [
    {
     "name": "stdout",
     "output_type": "stream",
     "text": [
      "d1 = Dict(zip(\"alma\", 1:length(\"alma\"))) = Dict('a'=>4,'l'=>2,'m'=>3)\n",
      "d2 = Dict(zip('a':'z', zeros(Int, 26))) = Dict('n'=>0,'f'=>0,'w'=>0,'d'=>0,'e'=>0,'o'=>0,'h'=>0,'j'=>0,'i'=>0,'k'=>0,'r'=>0,'s'=>0,'t'=>0,'q'=>0,'y'=>0,'a'=>0,'c'=>0,'p'=>0,'m'=>0,'z'=>0,'g'=>0,'v'=>0,'l'=>0,'u'=>0,'x'=>0,'b'=>0)\n"
     ]
    }
   ],
   "source": [
    "@show d1=Dict(zip(\"alma\",1:length(\"alma\")));\n",
    "@show d2=Dict(zip('a':'z', zeros(Int,26)));"
   ]
  },
  {
   "cell_type": "markdown",
   "metadata": {},
   "source": [
    "## Mikor használjuk?\n",
    "\n",
    "Nehéz kérdés. Igazából mindenhol, ahol `Tuple`-t használunk egy algoritmus megvalósításánál, használhatnánk `Array`-t is. Néhány szempont:\n",
    "\n",
    "- fix méret\n",
    "- nincs szükség az elemek módosítására\n"
   ]
  }
 ],
 "metadata": {
  "@webio": {
   "lastCommId": "50e7006e21d1454082625702669ec7dd",
   "lastKernelId": "c22df176-e50f-4b73-86b0-3e1a52744ac4"
  },
  "kernelspec": {
   "display_name": "Julia 1.1.1",
   "language": "julia",
   "name": "julia-1.1"
  },
  "language_info": {
   "file_extension": ".jl",
   "mimetype": "application/julia",
   "name": "julia",
   "version": "1.1.1"
  },
  "toc": {
   "base_numbering": 1,
   "nav_menu": {},
   "number_sections": true,
   "sideBar": true,
   "skip_h1_title": true,
   "title_cell": "Table of Contents",
   "title_sidebar": "Contents",
   "toc_cell": false,
   "toc_position": {
    "height": "384.167px",
    "left": "29px",
    "top": "66.6333px",
    "width": "213.333px"
   },
   "toc_section_display": true,
   "toc_window_display": true
  }
 },
 "nbformat": 4,
 "nbformat_minor": 2
}
