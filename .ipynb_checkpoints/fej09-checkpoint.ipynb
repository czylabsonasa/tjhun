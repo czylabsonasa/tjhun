{
 "cells": [
  {
   "cell_type": "markdown",
   "metadata": {},
   "source": [
    "# Játék sztringekkel\n",
    "\n",
    "Szavakkal kapcsolatos feladatokat fogunk megoldani. <br>"
   ]
  },
  {
   "cell_type": "markdown",
   "metadata": {},
   "source": [
    "### Fájlok olvasása\n",
    "Töltsük le a [szavak](https://github.com/BenLauwens/ThinkJulia.jl/blob/master/data/words.txt) állományt. "
   ]
  },
  {
   "cell_type": "code",
   "execution_count": 183,
   "metadata": {},
   "outputs": [
    {
     "name": "stdout",
     "output_type": "stream",
     "text": [
      "aa\n",
      "aah\n"
     ]
    }
   ],
   "source": [
    "wf=open(\"words.txt\")\n",
    "println(readline(wf))\n",
    "println(readline(wf))\n",
    "close(wf)"
   ]
  },
  {
   "cell_type": "markdown",
   "metadata": {},
   "source": [
    "Azaz\n",
    "1. Megnyitjuk az állományt: ```open``` (feltételezzük, hogy létezik a fájl)\n",
    "1. Sorokat olvasunk belőle: ```readline```\n",
    "1. Csinálunk valamit az olvasott adatokkal...\n",
    "1. Bezárjuk az állományt.\n",
    "\n",
    "\n",
    "### Feladat\n",
    "Számoljuk meg a legalább $h$ hosszú szavakat és adjuk meg százalékos arányukat.\n",
    "\n",
    "### Megoldás"
   ]
  },
  {
   "cell_type": "code",
   "execution_count": 197,
   "metadata": {},
   "outputs": [
    {
     "name": "stdout",
     "output_type": "stream",
     "text": [
      "counterdemonstration\n",
      "counterdemonstrations\n",
      "counterdemonstrators\n",
      "hyperaggressivenesses\n",
      "hypersensitivenesses\n",
      "microminiaturization\n",
      "microminiaturizations\n",
      "representativenesses\n",
      "a szavak 0.0070293210554525564 százaléka hosszabb mint 19\n"
     ]
    }
   ],
   "source": [
    "function számol(h,irjam=false)\n",
    "  wf=open(\"words.txt\")\n",
    "  m,n=0,0\n",
    "  for sor in eachline(wf)\n",
    "    n+=1\n",
    "    m+=if length(sor)>=h irjam&&println(sor); 1 else 0 end\n",
    "  end\n",
    "  close(wf)  \n",
    "  m,n\n",
    "end\n",
    "h=20\n",
    "m,n=számol(h,true)\n",
    "println(\"a szavak $(m*100.0/n) százaléka hosszabb mint $(h-1)\")"
   ]
  },
  {
   "cell_type": "markdown",
   "metadata": {},
   "source": [
    "### Feladat\n",
    "Számoljuk meg a legalább $h$ hosszú szavakat melyek egy adott karaktert nem tartalmaznak és adjuk meg százalékos arányukat.\n",
    "\n",
    "### Megoldás"
   ]
  },
  {
   "cell_type": "code",
   "execution_count": 203,
   "metadata": {},
   "outputs": [
    {
     "name": "stdout",
     "output_type": "stream",
     "text": [
      "a szavak 0.6792081469831033 százaléka hosszabb mint 12 és nincs benne 'e'\n"
     ]
    }
   ],
   "source": [
    "function számol(h,c,irjam=false)\n",
    "  wf=open(\"words.txt\")\n",
    "  m,n=0,0\n",
    "  for sor in eachline(wf)\n",
    "    n+=1\n",
    "    if length(sor) ≥ h && c ∉ sor\n",
    "      m+=1\n",
    "      irjam && println(sor)\n",
    "    end\n",
    "  end\n",
    "  close(wf)  \n",
    "  m,n\n",
    "end\n",
    "h,c=13,'e'\n",
    "m,n=számol(h,c)\n",
    "println(\"a szavak $(m*100.0/n) százaléka hosszabb mint $(h-1) és nincs benne '$(c)'\")"
   ]
  },
  {
   "cell_type": "markdown",
   "metadata": {},
   "source": [
    "### Feladat\n",
    "Írjunk egy függvényt mely egy adott sztringről eldönti hogy tartalmaz-e bizonyos tiltott karaktereket.<br>\n",
    "Azaz: ```S``` és ```T``` karaktereit egy-egy halmaznak (egy elem csak 1x szerepel) tekintve, döntsük el hogy \n",
    "```S```$\\cup$ ```T``` $=\\emptyset$ vagy sem\n",
    "\n",
    "\n",
    "### Megoldás"
   ]
  },
  {
   "cell_type": "code",
   "execution_count": 214,
   "metadata": {},
   "outputs": [
    {
     "data": {
      "text/plain": [
       "vanKözös (generic function with 1 method)"
      ]
     },
     "execution_count": 214,
     "metadata": {},
     "output_type": "execute_result"
    }
   ],
   "source": [
    "function vanKözös(a, b)\n",
    "  for c ∈ a \n",
    "    if c ∈ b return true end\n",
    "  end\n",
    "  false\n",
    "end"
   ]
  },
  {
   "cell_type": "markdown",
   "metadata": {},
   "source": [
    "### Feladat\n",
    "Írjunk egy függvényt mely egy adott ```S``` sztring esetén csak azokat a szavakat számolja, melyeknek nincs közös karaktere ```S```-el.\n",
    "\n",
    "### Megoldás\n",
    "Használjuk a ```vanKözös``` fv-t."
   ]
  },
  {
   "cell_type": "code",
   "execution_count": 215,
   "metadata": {},
   "outputs": [
    {
     "name": "stdout",
     "output_type": "stream",
     "text": [
      "0.09401716911667794 százalék\n"
     ]
    }
   ],
   "source": [
    "function számol(S,irjam=false)\n",
    "  wf=open(\"words.txt\")\n",
    "  m,n=0,0\n",
    "  for sor in eachline(wf)\n",
    "    n+=1\n",
    "    if false==vanKözös(sor, S)\n",
    "      m+=1\n",
    "      irjam && println(sor)\n",
    "    end\n",
    "  end\n",
    "  close(wf)  \n",
    "  m,n\n",
    "end\n",
    "S=\"aouei\"\n",
    "m,n=számol(S)\n",
    "println(m*100.0/n,\" százalék\")"
   ]
  },
  {
   "cell_type": "markdown",
   "metadata": {},
   "source": [
    "### Feladat\n",
    "Írjunk egy függvényt mely egy adott ```S``` sztring esetén eldönti hogy felépíthető-e csak egy adott ```T``` \n",
    "sztring karaktereinek (esetleg többszöri) felhasználásával.<br>\n",
    "Azaz: ```S``` és ```T``` karaktereit egy-egy halmaznak (egy elem csak 1x szerepel) tekintve, döntsük el hogy \n",
    "```S```$\\subseteq$ ```T``` fennáll vagy sem.\n",
    "\n",
    "\n",
    "### Megoldás\n",
    "Vegyük észre, hogy ha a sztringre mint többszörös elemeket is tartalmazó halmazra gondolunk, akkor éppen a \n",
    "részhalmaz relációt kell megvalósítani."
   ]
  },
  {
   "cell_type": "code",
   "execution_count": 216,
   "metadata": {},
   "outputs": [
    {
     "data": {
      "text/plain": [
       "része (generic function with 1 method)"
      ]
     },
     "execution_count": 216,
     "metadata": {},
     "output_type": "execute_result"
    }
   ],
   "source": [
    "function része(a,b)\n",
    "  for c ∈ a \n",
    "    if c ∉ b return false end\n",
    "  end\n",
    "  true\n",
    "end"
   ]
  }
 ],
 "metadata": {
  "@webio": {
   "lastCommId": "50e7006e21d1454082625702669ec7dd",
   "lastKernelId": "c22df176-e50f-4b73-86b0-3e1a52744ac4"
  },
  "kernelspec": {
   "display_name": "Julia 1.0.3",
   "language": "julia",
   "name": "julia-1.0"
  },
  "language_info": {
   "file_extension": ".jl",
   "mimetype": "application/julia",
   "name": "julia",
   "version": "1.0.3"
  }
 },
 "nbformat": 4,
 "nbformat_minor": 2
}
