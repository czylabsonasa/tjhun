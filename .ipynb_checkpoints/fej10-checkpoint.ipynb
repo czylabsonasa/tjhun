{
 "cells": [
  {
   "cell_type": "markdown",
   "metadata": {},
   "source": [
    "# Tömbök\n",
    "\n",
    "Az egyik leggyakrabban használt szerkezet a programozásban. Értékek **sorozat**a. **Mutábilis**, azaz \n",
    "létrehozás után a benne lvő értékek megváltoztathatók. Inhomogén is lehet, azaz az értékek nem feltétlen azonos típusuak.\n",
    "\n",
    "\n",
    "## Létrehozásuk\n",
    "A legegyszerűbb esetben ```[``` és ```]``` zárójelek közötti felsorolással hozzuk létre:"
   ]
  },
  {
   "cell_type": "code",
   "execution_count": 295,
   "metadata": {},
   "outputs": [
    {
     "data": {
      "text/plain": [
       "0-element Array{Any,1}"
      ]
     },
     "execution_count": 295,
     "metadata": {},
     "output_type": "execute_result"
    }
   ],
   "source": [
    "számok1=[1,2,3,4]\n",
    "számok2=[1,2,3,\"négy\"]\n",
    "számok3=[1,2,3,\"négy\",[5,6,Inf]]\n",
    "X=[]                             # üres tömb"
   ]
  },
  {
   "cell_type": "markdown",
   "metadata": {},
   "source": [
    "## A tömb egy érték sorozat, mely változtatható\n",
    "\n",
    "A tömbök tehát tetszőleges elemeket tartalmazhatnak, így ha tömböt teszünk egy tömbbe azt mondjuk beleágyaztuk.<br>\n",
    "A benne levő elemeknek **sorrend**je van. Az elemeket a ```[]``` operátorral érjuk el:"
   ]
  },
  {
   "cell_type": "code",
   "execution_count": 296,
   "metadata": {},
   "outputs": [
    {
     "name": "stdout",
     "output_type": "stream",
     "text": [
      "Array{Int64,1}\n",
      "3\n",
      "33\n",
      "Array{Any,1}\n",
      "four\n",
      "Array{Any,1}\n",
      "Array{Float64,1}\n",
      "Array{Any,1}\n",
      "4\n",
      "4\n",
      "5\n",
      "0\n",
      "true\n",
      "false\n",
      "true\n",
      "false\n"
     ]
    }
   ],
   "source": [
    "println(typeof(számok1))\n",
    "println(számok1[3])\n",
    "számok1[3]=33\n",
    "println(számok1[3])\n",
    "számok1[3]=3           # visszaállít\n",
    "# számok1[3]=\"harminchárom\"       # hiba, a definíciókor csak egészek voltak a tömbbe\n",
    "#\n",
    "println(typeof(számok2))\n",
    "számok2[4]=\"four\"\n",
    "println(számok2[4])\n",
    "#\n",
    "println(typeof(számok3))\n",
    "println(typeof(számok3[5]))\n",
    "#\n",
    "println(typeof(X))\n",
    "#\n",
    "println(length(számok1))\n",
    "println(length(számok2))\n",
    "println(length(számok3))\n",
    "println(length(X))\n",
    "# \n",
    "println(1 ∈ számok1)\n",
    "println(11 ∈ számok2)\n",
    "println(\"négy\" ∈ számok3)\n",
    "println(4 ∈ számok3)"
   ]
  },
  {
   "cell_type": "markdown",
   "metadata": {},
   "source": [
    ">1. Bár inhomogének is lehetnek, ha létrehozáskor egyféle az elemek típusa, akkor nem változtatható meg. (kivéve az \n",
    "üres tömb) <br>\n",
    ">1. A ```length``` és az ∈ ugyanúgy használható mint sztringeknél\n",
    "\n",
    "\n",
    "## A tömb bejárása"
   ]
  },
  {
   "cell_type": "code",
   "execution_count": 297,
   "metadata": {},
   "outputs": [
    {
     "name": "stdout",
     "output_type": "stream",
     "text": [
      "1\n",
      "2\n",
      "3\n",
      "4\n",
      "1\n",
      "2\n",
      "3\n",
      "4\n",
      "1\n",
      "2\n",
      "3\n",
      "4\n"
     ]
    }
   ],
   "source": [
    "for val in számok1\n",
    "  println(val)\n",
    "end\n",
    "# vagy\n",
    "for i in 1:length(számok1)\n",
    "  println(számok1[i])\n",
    "end\n",
    "# vagy\n",
    "for i in eachindex(számok1)\n",
    "  println(számok1[i])\n",
    "end\n"
   ]
  },
  {
   "cell_type": "markdown",
   "metadata": {},
   "source": [
    "## Szeletek, résztömbök\n",
    "\n",
    "A három legegyszerűbb módja résztöm létrehozásának:\n",
    ">1. ```UnitRange``` \n",
    ">1. Index tömb \n",
    ">1. Logikai értékek tömbje\n",
    "\n",
    "Lásd a következő példát:"
   ]
  },
  {
   "cell_type": "code",
   "execution_count": 298,
   "metadata": {},
   "outputs": [
    {
     "data": {
      "text/plain": [
       "2-element Array{Int64,1}:\n",
       " 1\n",
       " 4"
      ]
     },
     "execution_count": 298,
     "metadata": {},
     "output_type": "execute_result"
    }
   ],
   "source": [
    "páros=számok1[2:2:end]\n",
    "csakÚgy1=számok1[[1,4]]\n",
    "csakÚgy2=számok1[[true,false,false,true]]"
   ]
  },
  {
   "cell_type": "markdown",
   "metadata": {},
   "source": [
    "## Értékadás\n",
    "\n",
    ">1. Ha az értékadás **jobb**oldalán egy módosítatlan (nincs szelet szerkezet) tömb-név szerepel, akkor a baloldali név egy újabb kötést hoz létre <br>\n",
    "a jobboldali elemsorozatra, azaz **referencia** nem másolás van. \n",
    ">1. Ha résztömb, szelet szerkezet van a **jobb**oldalon, akkor **másolás** történik.\n",
    ">1. Ha szelet szerkezet van a **bal**oldalon, akkor ez referenciaként viselkedik, tehát egyszerre több helyen módosíthatjuk"
   ]
  },
  {
   "cell_type": "code",
   "execution_count": 299,
   "metadata": {},
   "outputs": [
    {
     "name": "stdout",
     "output_type": "stream",
     "text": [
      "-1\n",
      "1\n"
     ]
    },
    {
     "data": {
      "text/plain": [
       "2-element Array{Int64,1}:\n",
       " 10\n",
       " 20"
      ]
     },
     "execution_count": 299,
     "metadata": {},
     "output_type": "execute_result"
    }
   ],
   "source": [
    "másik=számok\n",
    "másik[1]=-1\n",
    "println(számok[1])\n",
    "számok1[1]=1  # visszacsinál\n",
    "másik=számok1[:]\n",
    "másik[1]=-1\n",
    "println(számok1[1])\n",
    "számok[1:2]=[10,20]"
   ]
  },
  {
   "cell_type": "markdown",
   "metadata": {},
   "source": [
    "## Tömbkezelők\n",
    "\n",
    ">1. A ```push!(X, x)``` kiegészíti az ```X``` tömböt az ```x``` elemmel a **végén**. Helyben hajtódik végre.\n",
    ">1. Az ```append!(X,Y)``` az ``X``` után fűzi az ```Y```-t\n",
    ">1. A ```sort``` visszaadja valamilyen alapértelmezett összehasonlítás szerint növekvőleg rendezett példányát a \n",
    "paraméterül átadott tömbnek. A ```sort!``` helyben végzi el ugyanezt.\n",
    ">1. A ```sum``` visszaadja a tömb elemeinek összegét, ha értelmezve van.\n",
    ">1. Mindegyiknél adódhatnak típusproblémák. Pl. mit ```1<\"kettő\"```-re nincs alapértelmezés. Vagy: ha a tömb típusa \n",
    "a definiáláskor már rögzült pl ```Int64```, nem lehet sztringet ```push!```olni bele. Ezek a dolgok mind orvosolhatók."
   ]
  },
  {
   "cell_type": "code",
   "execution_count": 304,
   "metadata": {},
   "outputs": [
    {
     "name": "stdout",
     "output_type": "stream",
     "text": [
      "[1, 2, 3, 4, 5, 1, 2, 3, 4, 5, 5, 1, 2, 3, 4, 5, 1, 2, 3, 4, 5, 5, 5, 1, 2, 3, 4, 5, 1, 2, 3, 4, 5, 5, 1, 2, 3, 4, 5, 1, 2, 3, 4, 5, 5, 5, 5]\n",
      "[1, 2, 3, 4, 5, 1, 2, 3, 4, 5, 5, 1, 2, 3, 4, 5, 1, 2, 3, 4, 5, 5, 5, 1, 2, 3, 4, 5, 1, 2, 3, 4, 5, 5, 1, 2, 3, 4, 5, 1, 2, 3, 4, 5, 5, 5, 5, 1, 2, 3, 4, 5, 1, 2, 3, 4, 5, 5, 1, 2, 3, 4, 5, 1, 2, 3, 4, 5, 5, 5, 1, 2, 3, 4, 5, 1, 2, 3, 4, 5, 5, 1, 2, 3, 4, 5, 1, 2, 3, 4, 5, 5, 5, 5]\n"
     ]
    },
    {
     "data": {
      "text/plain": [
       "310"
      ]
     },
     "execution_count": 304,
     "metadata": {},
     "output_type": "execute_result"
    }
   ],
   "source": [
    "push!(számok1,5)\n",
    "println(számok1)\n",
    "append!(számok1,számok1)\n",
    "println(számok1)\n",
    "# push!(számok1, \"tíz\")\n",
    "sort(számok1)\n",
    "# sort(számok2)\n",
    "sum(számok1)"
   ]
  },
  {
   "cell_type": "code",
   "execution_count": 301,
   "metadata": {},
   "outputs": [
    {
     "ename": "MethodError",
     "evalue": "MethodError: no method matching isless(::String, ::Int64)\nClosest candidates are:\n  isless(!Matched::Missing, ::Any) at missing.jl:66\n  isless(!Matched::AbstractFloat, ::Real) at operators.jl:150\n  isless(!Matched::Real, ::Real) at operators.jl:338\n  ...",
     "output_type": "error",
     "traceback": [
      "MethodError: no method matching isless(::String, ::Int64)\nClosest candidates are:\n  isless(!Matched::Missing, ::Any) at missing.jl:66\n  isless(!Matched::AbstractFloat, ::Real) at operators.jl:150\n  isless(!Matched::Real, ::Real) at operators.jl:338\n  ...",
      "",
      "Stacktrace:",
      " [1] lt(::Base.Order.ForwardOrdering, ::String, ::Int64) at ./ordering.jl:49",
      " [2] sort!(::Array{Any,1}, ::Int64, ::Int64, ::Base.Sort.InsertionSortAlg, ::Base.Order.ForwardOrdering) at ./sort.jl:456",
      " [3] sort!(::Array{Any,1}, ::Int64, ::Int64, ::Base.Sort.MergeSortAlg, ::Base.Order.ForwardOrdering, ::Array{Any,1}) at ./sort.jl:545",
      " [4] sort! at ./sort.jl:544 [inlined]",
      " [5] sort! at ./sort.jl:639 [inlined]",
      " [6] #sort!#7 at ./sort.jl:699 [inlined]",
      " [7] sort! at ./sort.jl:687 [inlined]",
      " [8] #sort#8 at ./sort.jl:747 [inlined]",
      " [9] sort(::Array{Any,1}) at ./sort.jl:747",
      " [10] top-level scope at In[301]:1"
     ]
    }
   ],
   "source": []
  },
  {
   "cell_type": "markdown",
   "metadata": {},
   "source": [
    "Az adatmanipuláció 3 fontos eszköze a map, filter és redukció.<br>\n",
    "\n",
    "## Map\n",
    "\n",
    "Egy kollekció **minden** elemére egy adott függvényt akarunk alkalmazni, hozzá akarunk rendelni egy jól \n",
    "meghatározott elemet: pl. egy stringet nagybetűssé akarunk tenni, egy tömb minden eleméhez 1-et hozzá akarunk adni. \n",
    "Ezt **map**-nak nevezzük. <br> \n",
    "Ez a következőképpen tehető meg:"
   ]
  },
  {
   "cell_type": "code",
   "execution_count": 15,
   "metadata": {},
   "outputs": [
    {
     "name": "stdout",
     "output_type": "stream",
     "text": [
      "ALMA DIÓ MOGYORÓ\n",
      "ALMA DIÓ MOGYORÓ\n",
      "ALMA DIÓ MOGYORÓ\n"
     ]
    }
   ],
   "source": [
    "a=\"alma dió mogyoró\"\n",
    "b=uppercase.(a)\n",
    "println(b)\n",
    "c=map(uppercase,a)\n",
    "println(c)\n",
    "d=broadcast(uppercase,a)\n",
    "println(d)"
   ]
  },
  {
   "cell_type": "code",
   "execution_count": 16,
   "metadata": {},
   "outputs": [
    {
     "name": "stdout",
     "output_type": "stream",
     "text": [
      "[2, 3, 4, 5]\n",
      "[2, 3, 4, 5]\n",
      "[2, 3, 4, 5]\n"
     ]
    }
   ],
   "source": [
    "a=[1,2,3,4]\n",
    "println(a .+ 1)\n",
    "println(.+(a,1))\n",
    "println(map((x)->x+1,a))\n"
   ]
  },
  {
   "cell_type": "markdown",
   "metadata": {},
   "source": [
    "## Filter\n",
    "\n",
    "Egy kollekció **néhány** elemét ki akarjuk **választani** és elhelyezni őket egy új kollekcióba.\n",
    "Pl. egy stringből csak a kisbetűket akarjuk leválogatni  egy tömbből csak páratlan számokra van szükségünk.\n",
    "Az ilyen szerkezeteket **filter**-nek nevezzük.<br>\n",
    "Ez a következőképpen tehető meg:"
   ]
  },
  {
   "cell_type": "code",
   "execution_count": 37,
   "metadata": {},
   "outputs": [
    {
     "name": "stdout",
     "output_type": "stream",
     "text": [
      "[1, 3]\n",
      "[1, 3]\n",
      "[1, 3]\n",
      "ABCABC\n",
      "ABCABC\n"
     ]
    }
   ],
   "source": [
    "a=[1,2,3,4]\n",
    "println([v for v in a if v%2== 1])       # comprehension\n",
    "println(a[a.%2 .== 1])\n",
    "println(a[rem.(a,2) .== 1])\n",
    "# sztringeknél kicsit körülményes, sok minden alkalmazható rajtuk ami sima tömbokre igen\n",
    "a=\"aAbBcCaAbBcC\"\n",
    "ca=collect(a)                                 # tömböt csinálunk\n",
    "println(join(ca[map(isuppercase,ca)]))        # egyesítjük a kiválogatott elemeket\n",
    "println(join([ v for v in ca if isuppercase(v)]))        # egyesítjük a kiválogatott elemeket\n",
    "        \n",
    "        "
   ]
  },
  {
   "cell_type": "markdown",
   "metadata": {},
   "source": [
    "## Redukció\n",
    "Egy kollekcióhoz egyetlen értéket akarunk rendelni. Pl. összegezzük a tömb elemeit, megszámoljuk egy sztring kisbetűit."
   ]
  },
  {
   "cell_type": "code",
   "execution_count": 38,
   "metadata": {},
   "outputs": [
    {
     "data": {
      "text/plain": [
       "6"
      ]
     },
     "execution_count": 38,
     "metadata": {},
     "output_type": "execute_result"
    }
   ],
   "source": [
    "a=[1,2,3,4,5]\n",
    "sum(a)\n",
    "a=\"aAbBcCaAbBcC\"\n",
    "ca=collect(a)\n",
    "sum(islowercase.(ca))      # itt kihasználjuk hogy a true,false=1,0 aritmetikai értékként"
   ]
  },
  {
   "cell_type": "markdown",
   "metadata": {},
   "source": [
    "A ```map,filter és redukció``` hármas a programozás, problémamegoldás folyamatában léten nyomon előfordul.\n",
    "\n",
    "## Dot szerkezet\n",
    "\n",
    "A számokat tartalmazó tömbök esetén gyakran szeretnénk egy-egy műveletet elemenként elvégezni az összes elemen. Ezt \n",
    "alapesetben ciklus(ok) létrehozásával tesszük meg. Ezt tesszi feleslegessé a ```dot``` azaz ```.```:\n"
   ]
  },
  {
   "cell_type": "code",
   "execution_count": 19,
   "metadata": {},
   "outputs": [
    {
     "data": {
      "text/plain": [
       "3-element Array{Int64,1}:\n",
       "  3\n",
       "  6\n",
       " 11"
      ]
     },
     "execution_count": 19,
     "metadata": {},
     "output_type": "execute_result"
    }
   ],
   "source": [
    "# a=[1,2,3]. ^ 2          # infix\n",
    "# b=a. + 2\n",
    "# a=.^([1,2,3], 2)          # prefix\n",
    "# b=.+(a, 2)\n",
    "a=map((x)->x*x+2, [1,2,3])   # map\n",
    "a=broadcast((x)->x*x+2, [1,2,3])   # broadcast"
   ]
  },
  {
   "cell_type": "markdown",
   "metadata": {},
   "source": [
    "## Törlés-beillesztés\n"
   ]
  },
  {
   "cell_type": "code",
   "execution_count": 31,
   "metadata": {},
   "outputs": [
    {
     "name": "stdout",
     "output_type": "stream",
     "text": [
      "['a', 'c']\n",
      "['a', 'b', 'c']\n",
      "['a', 'c']\n",
      "['a', 'b', 'c']\n",
      "['a', 'b'] c\n",
      "['a', 'b', 'c']\n",
      "['b', 'c'] a\n",
      "['a', 'b', 'c'] a\n"
     ]
    }
   ],
   "source": [
    "arr=['a','b','c']\n",
    "splice!(arr,2)       # törli az adott index-nél levő elemet\n",
    "println(arr)\n",
    "insert!(arr,2,'b')   # beilleszt\n",
    "println(arr)\n",
    "deleteat!(arr,2)       # törli az adott index-nél levő elemet\n",
    "println(arr)\n",
    "insert!(arr,2,'b')   # beilleszt\n",
    "println(arr)\n",
    "x=pop!(arr)          # elvesz a végéről\n",
    "println(arr,\" \",x)\n",
    "push!(arr,x)        # a végére illeszt\n",
    "println(arr)\n",
    "x=popfirst!(arr)     # elvesz az elejéről\n",
    "println(arr,\" \",x)\n",
    "pushfirst!(arr,x)    # az elejére illeszt\n",
    "println(arr)"
   ]
  },
  {
   "cell_type": "markdown",
   "metadata": {},
   "source": [
    "## Tömbök és sztringek\n",
    "\n",
    "A sztringek immutábilisek. \n",
    "1. Ha módosítható karaktertömbre van szükségünk, ki kell gyűjteni a sztring elemeit: ```collect```\n",
    "1. Ha egy sztringet részekre akarunk szedni bizonyos határoló-karakter mentén: ```split```\n",
    "1. A dolgok újraegyesítésére: ```join```\n"
   ]
  },
  {
   "cell_type": "code",
   "execution_count": 44,
   "metadata": {},
   "outputs": [
    {
     "name": "stdout",
     "output_type": "stream",
     "text": [
      "SubString{String}[\"lada\", \"szamara\"]\n",
      "SubString{String}[\"l\", \"d\", \" sz\", \"m\", \"r\", \"\"]\n"
     ]
    },
    {
     "data": {
      "text/plain": [
       "\"asd,2*2=,4\""
      ]
     },
     "execution_count": 44,
     "metadata": {},
     "output_type": "execute_result"
    }
   ],
   "source": [
    "a=\"lada szamara\"\n",
    "aa=collect(a)\n",
    "join(sort!(aa))\n",
    "\n",
    "println(split(a))\n",
    "println(split(a,'a'))\n",
    "\n",
    "join([\"asd\", \"2*2=\", 2*2])    # sztringre transzformál majd egyesít\n",
    "join([\"asd\", \"2*2=\", 2*2], ',')    # határoló is megadható"
   ]
  },
  {
   "cell_type": "markdown",
   "metadata": {},
   "source": [
    "## Objektum, érték, referencia\n",
    "\n",
    "Amikor egy objektumhoz, értékhez több nevet is hozzákötünk.\n"
   ]
  },
  {
   "cell_type": "code",
   "execution_count": 46,
   "metadata": {},
   "outputs": [
    {
     "data": {
      "text/plain": [
       "false"
      ]
     },
     "execution_count": 46,
     "metadata": {},
     "output_type": "execute_result"
    }
   ],
   "source": [
    "a=\"banán\"\n",
    "b=\"banán\"\n",
    "a===b        # ugyanarra azértékre hivatkoznak?\n",
    "a=[1,2]\n",
    "b=[1,2]\n",
    "a===b       # itt nem ugyanaz az objektum, mert a tömb mutábilis"
   ]
  },
  {
   "cell_type": "markdown",
   "metadata": {},
   "source": [
    "Figyeljünk oda a többszörös neveknél bámelyik néven keresztul módosítható az érték:"
   ]
  },
  {
   "cell_type": "code",
   "execution_count": 49,
   "metadata": {},
   "outputs": [
    {
     "name": "stdout",
     "output_type": "stream",
     "text": [
      "true\n",
      "[0, 2, 3, 4]\n"
     ]
    }
   ],
   "source": [
    "a=[1,2,3,4]\n",
    "b=a\n",
    "println(b===a)         # most ugyanarra az objektumra (memóriatartalomra) mutatnak\n",
    "b[1]=0\n",
    "println(a)"
   ]
  },
  {
   "cell_type": "markdown",
   "metadata": {},
   "source": [
    "## Tömbök mint függvény-argumentumok\n",
    "\n",
    "A tömbök referenciaként kerülnek átadásra, tehát ha a fv. módosítja a tömböt, akkor az a hívás helyén is módosul."
   ]
  },
  {
   "cell_type": "code",
   "execution_count": 72,
   "metadata": {},
   "outputs": [
    {
     "name": "stdout",
     "output_type": "stream",
     "text": [
      "1\n",
      "[1, 3, 4]\n"
     ]
    }
   ],
   "source": [
    "f(x)=(x[1]=1)    # az értékadás is egy érték\n",
    "y=[2,3,4]\n",
    "println(f(y))\n",
    "println(y)"
   ]
  },
  {
   "cell_type": "markdown",
   "metadata": {},
   "source": [
    "### Feladat \n",
    "Írjunk egy függvényt mely egy egymásba ágyazott tömbökből álló tömbből egy \"sima\" tömböt alkot.<br>\n",
    "```[0,[1, 2],[3]]``` -> ```[0,1,2,3]```\n"
   ]
  },
  {
   "cell_type": "code",
   "execution_count": 101,
   "metadata": {},
   "outputs": [
    {
     "data": {
      "text/plain": [
       "11-element Array{Any,1}:\n",
       " 0   \n",
       " 1.1 \n",
       " 2.0 \n",
       " 3.14\n",
       " 4   \n",
       " 5.0 \n",
       " 0.1 \n",
       "  'a'\n",
       "  'l'\n",
       "  'm'\n",
       "  'a'"
      ]
     },
     "execution_count": 101,
     "metadata": {},
     "output_type": "execute_result"
    }
   ],
   "source": [
    "function bejár(X)\n",
    "  r=[]\n",
    "  for x in X\n",
    "    if typeof(x) <: Number || typeof(x) <: Char\n",
    "      r=vcat(r,x)\n",
    "    else\n",
    "      r=vcat(r,bejár(x))\n",
    "    end\n",
    "  end\n",
    "  r\n",
    "end\n",
    "a=[0,[1.1,2],[3.14,4,[[5,1/10]]],\"alma\"]\n",
    "bejár(a)"
   ]
  },
  {
   "cell_type": "code",
   "execution_count": 97,
   "metadata": {},
   "outputs": [
    {
     "data": {
      "text/plain": [
       "true"
      ]
     },
     "execution_count": 97,
     "metadata": {},
     "output_type": "execute_result"
    }
   ],
   "source": [
    "applicable(iterate,\"s\")"
   ]
  },
  {
   "cell_type": "code",
   "execution_count": null,
   "metadata": {},
   "outputs": [],
   "source": []
  }
 ],
 "metadata": {
  "@webio": {
   "lastCommId": "50e7006e21d1454082625702669ec7dd",
   "lastKernelId": "c22df176-e50f-4b73-86b0-3e1a52744ac4"
  },
  "kernelspec": {
   "display_name": "Julia 1.0.3",
   "language": "julia",
   "name": "julia-1.0"
  },
  "language_info": {
   "file_extension": ".jl",
   "mimetype": "application/julia",
   "name": "julia",
   "version": "1.0.3"
  }
 },
 "nbformat": 4,
 "nbformat_minor": 2
}
