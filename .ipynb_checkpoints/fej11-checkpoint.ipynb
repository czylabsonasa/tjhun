{
 "cells": [
  {
   "cell_type": "markdown",
   "metadata": {},
   "source": [
    "# Szótárak (Dictionaries)\n",
    "\n",
    "Újabb beépített adattípussal ismerkedünk meg.\n",
    "\n",
    "\n",
    "\n",
    "## A szótár mint leképezés\n",
    "\n",
    "A tömböknél az elemek elérése **egész szám** indexekkel történik, a szótáraknál szinte bármi használható. Nevezik néha *asszociatív tömb*nek, *map*nek is.<br>\n",
    "\n",
    "Az indexek összességét **kulcs**oknak a hozzájuk tartozó dolgok összességét **érték**eknek nevezzük. Ha hangsúlyozni akarjuk egy kulcs és érték összetartozását akkor a **kulcs-érték pár** \n",
    "kifejezést használhatjuk. Röviden **pár**ként is hivatkozunk rájuk.<br>\n",
    "\n",
    "Matematikai nyelven fogalmazva: a szótár egy **leképezés, függvény**, melynek értemezési tartománya a kulcsok, értékkészlete az értékek halmaza. <br>\n",
    "\n",
    "## Létrehozás, lekérdezések"
   ]
  },
  {
   "cell_type": "code",
   "execution_count": 107,
   "metadata": {},
   "outputs": [
    {
     "name": "stdout",
     "output_type": "stream",
     "text": [
      "eng2hun = Dict{Any,Any}(\"circle\"=>\"kör\",\"big\"=>\"nagy\",\"large\"=>\"nagy\",\"apple\"=>\"alma\",\"dog\"=>\"kutya\")\n",
      "eng2hunMásik = Dict(\"circle\"=>\"kör\",\"apple\"=>\"alma\")\n",
      "length(eng2hun) = 5\n",
      "(ks, vs, typeof(ks)) = (Any[\"circle\", \"big\", \"large\", \"apple\", \"dog\"], Any[\"kör\", \"nagy\", \"nagy\", \"alma\", \"kutya\"], Base.KeySet{Any,Dict{Any,Any}})\n",
      "haskey(eng2hun, \"apple\") = true\n",
      "(get(eng2hun, \"apple\", \"\"), get(eng2hun, \"cider\", \"hiba!\")) = (\"alma\", \"hiba!\")\n"
     ]
    }
   ],
   "source": [
    "eng2hun=Dict(); \n",
    "eng2hun[\"apple\"]=\"alma\"; eng2hun[\"circle\"]=\"kör\"; eng2hun[\"dog\"]=\"kutya\"; \n",
    "eng2hun[\"big\"]=\"nagy\"; eng2hun[\"large\"]=\"nagy\";\n",
    "\n",
    "@show eng2hun\n",
    "eng2hunMásik=Dict(\"apple\"=>\"alma\", \"circle\"=>\"kör\"); \n",
    "@show eng2hunMásik\n",
    "# @show eng2hun[\"banana\"]\n",
    "@show length(eng2hun);\n",
    "ks=keys(eng2hun); vs=values(eng2hun);\n",
    "@show ks, vs, typeof(ks) ;\n",
    "@show haskey(eng2hun,\"apple\") ;\n",
    "@show get(eng2hun,\"apple\",\"\"), get(eng2hun,\"cider\",\"hiba!\") ;\n"
   ]
  },
  {
   "cell_type": "markdown",
   "metadata": {},
   "source": [
    "### Magyarázatok\n",
    "- a `Dict()` visszaad egy üres szótárat. Ha nem specifikáljuk, a típus **Any,Any** lesz. \n",
    "- a kulcs-érték párok egymáshoz rendelése ugyanaz mint a tömböknél az értékadás.\n",
    "- ha már létrhozáskor megadjuk az elemeket akkor \"konkrétabb\" típusú lesz a szótár - jelen esetben \n",
    "`String,String`\n",
    "- ha a szótárban nincs olyan kulcs amire hivatkozunk `KeyError` kivételt kapunk.\n",
    "- használhatjuk a `length` függvényt a szótárban levő párok lekérésére\n",
    "- a kulcsok illetve értékek kollekcióját a `keys` és `values` fv. adja meg. Ezek iterálható kollekciók.\n",
    "- ha egy kulcs létezésére vagyunk kíváncsiak: `haskey`\n",
    "- ha egy kulcshoz tartozó értékre vagyunk kíváncsiak: `get`.  A harmadik paraméter kötelező. <br>Előnye, hogy nem kell külön tesztelni a kulcs létezését.\n",
    "\n",
    "## Használat\n",
    "\n",
    "### Hisztogram\n",
    "Tegyük fel hogy egy sztringben szereplő karakterek gyakoriságát akarjuk kiszámolni. Ekkor egy `Dict{Char,Int}`-et használhatunk:"
   ]
  },
  {
   "cell_type": "code",
   "execution_count": 108,
   "metadata": {},
   "outputs": [
    {
     "name": "stdout",
     "output_type": "stream",
     "text": [
      "histogram(\"káposztástészta\") = Dict('á'=>2,'s'=>3,'a'=>1,'k'=>1,'p'=>1,'o'=>1,'t'=>3,'é'=>1,'z'=>2)\n",
      "histogram2(\"káposztástészta\") = Dict('á'=>2,'s'=>3,'a'=>1,'k'=>1,'p'=>1,'o'=>1,'t'=>3,'é'=>1,'z'=>2)\n"
     ]
    }
   ],
   "source": [
    "function histogram(s)\n",
    "  d=Dict{Char,Int}()\n",
    "  for c in s\n",
    "    if haskey(d,c) \n",
    "      d[c]=d[c]+1 \n",
    "    else\n",
    "      d[c]=1\n",
    "    end\n",
    "  end\n",
    "  d\n",
    "end\n",
    "@show histogram(\"káposztástészta\") ;\n",
    "# if nélküli változat:\n",
    "function histogram2(s)\n",
    "  d=Dict{Char,Int}()\n",
    "  for c in s\n",
    "    d[c]=get(d,c,0)+1\n",
    "  end\n",
    "  d\n",
    "end\n",
    "@show histogram2(\"káposztástészta\") ;"
   ]
  },
  {
   "cell_type": "markdown",
   "metadata": {},
   "source": [
    "### Bejárás\n",
    "\n",
    "A szótárban levő pároknak nincs meghatározott sorrendje, de mégis lehetőségünk van \n",
    "- sorra venni a párokat, kulcsokat, értékeket\n",
    "- megkeresni egy értékhez tartozó kulcsot/kulcsokat\n",
    "- a szótár által meghatározott leképezés inverzét kiszámolni. (ez nem mindig függvény!)\n"
   ]
  },
  {
   "cell_type": "code",
   "execution_count": 109,
   "metadata": {},
   "outputs": [
    {
     "name": "stdout",
     "output_type": "stream",
     "text": [
      "circle -> kör\n",
      "big -> nagy\n",
      "large -> nagy\n",
      "apple -> alma\n",
      "dog -> kutya\n",
      "circle -> ?\n",
      "big -> ?\n",
      "large -> ?\n",
      "apple -> ?\n",
      "dog -> ?\n",
      "revSearch(eng2hun, \"kutya\") = (\"dog\", true)\n",
      "revSearch(eng2hun, \"cica\") = (nothing, false)\n",
      "revSearch2(eng2hun, \"nagy\") = Any[\"big\", \"large\"]\n",
      "revSearch2(eng2hun, \"cica\") = Any[]\n",
      "revDict(eng2hun) = Dict{Any,Any}(\"kör\"=>Any[\"circle\"],\"alma\"=>Any[\"apple\"],\"kutya\"=>Any[\"dog\"],\"nagy\"=>Any[\"big\", \"large\"])\n",
      "revDict(histogram2(\"káposztástészta\")) = Dict{Any,Any}(2=>Any['á', 'z'],3=>Any['s', 't'],1=>Any['a', 'k', 'p', 'o', 'é'])\n"
     ]
    },
    {
     "data": {
      "text/plain": [
       "Dict{Any,Any} with 3 entries:\n",
       "  2 => Any['á', 'z']\n",
       "  3 => Any['s', 't']\n",
       "  1 => Any['a', 'k', 'p', 'o', 'é']"
      ]
     },
     "execution_count": 109,
     "metadata": {},
     "output_type": "execute_result"
    }
   ],
   "source": [
    "for (k,v) in eng2hun # tuple, pár -> lásd következő fejezet\n",
    "  println(k, \" -> \", v)\n",
    "end\n",
    "\n",
    "\n",
    "for k in keys(eng2hun)\n",
    "  println(k, \" -> ?\")\n",
    "end\n",
    "\n",
    "function revSearch(d, v)\n",
    "  for (k,dk) in d\n",
    "    if dk==v\n",
    "      return k,true\n",
    "    end\n",
    "  end\n",
    "  nothing, false\n",
    "end\n",
    "\n",
    "function revSearch2(d, v)\n",
    "  ret=[]\n",
    "  for (t,dt) in d\n",
    "    if dt==v\n",
    "      push!(ret,t)\n",
    "    end\n",
    "  end\n",
    "  ret\n",
    "end  \n",
    "\n",
    "\n",
    "@show revSearch(eng2hun, \"kutya\");  \n",
    "@show revSearch(eng2hun, \"cica\");\n",
    "@show revSearch2(eng2hun, \"nagy\");  \n",
    "@show revSearch2(eng2hun, \"cica\");\n",
    "\n",
    "function revDict(d)\n",
    "  rd=Dict()\n",
    "  for (k,dk) in d\n",
    "    rd[dk]=push!(get(rd,dk,[]),k)\n",
    "  end\n",
    "  rd\n",
    "end  \n",
    "@show revDict(eng2hun)\n",
    "@show revDict(histogram2(\"káposztástészta\"))\n"
   ]
  },
  {
   "cell_type": "markdown",
   "metadata": {},
   "source": [
    "### Memoizáció - cachelés\n",
    "\n",
    "Kissé mesterkélt példa következik - de remélhetőleg rávilágít a módszer lényegére.\n",
    "\n",
    "Tekintsük a következő (naív) Fibonacci-sorozat számoló függvényt:"
   ]
  },
  {
   "cell_type": "code",
   "execution_count": 113,
   "metadata": {},
   "outputs": [
    {
     "name": "stdout",
     "output_type": "stream",
     "text": [
      "  2.302959 seconds (5.37 k allocations: 299.960 KiB)\n"
     ]
    },
    {
     "data": {
      "text/plain": [
       "701408733"
      ]
     },
     "execution_count": 113,
     "metadata": {},
     "output_type": "execute_result"
    }
   ],
   "source": [
    "function fib(n)\n",
    "  ((n==0)||(n==1))&&return 1\n",
    "  return fib(n-1)+fib(n-2)\n",
    "end\n",
    "@time fib(43)"
   ]
  },
  {
   "cell_type": "markdown",
   "metadata": {},
   "source": [
    "Könnyen átgondolhatjuk, hogy ugyanazt az értéket többször is kiszámolja - emiatt lassú. <br>\n",
    "Természetesen ez orvosolható űgy is hogy nem rekurzív megvalósítást haszálunk,<br> \n",
    "de itt egy más problémák esetén is használható, **memoizáció, cachelés** nevű technikát szeretnénk bemutatni. <br>\n",
    "A már egyszer kiszámolt értéket egy szótárban `Int,Int` szótárban tároljuk. "
   ]
  },
  {
   "cell_type": "code",
   "execution_count": 116,
   "metadata": {},
   "outputs": [
    {
     "name": "stdout",
     "output_type": "stream",
     "text": [
      "  0.008568 seconds (5.95 k allocations: 296.398 KiB)\n",
      "701408733"
     ]
    }
   ],
   "source": [
    "function makeFib()\n",
    "  d=Dict(0=>1,1=>1)\n",
    "  function fib(n)\n",
    "    if !haskey(d,n)\n",
    "      d[n]=fib(n-1)+fib(n-2)\n",
    "    end\n",
    "    d[n]\n",
    "  end\n",
    "end\n",
    "fib2=makeFib()\n",
    "@time fib2(43)\n",
    "show(a)"
   ]
  },
  {
   "cell_type": "markdown",
   "metadata": {},
   "source": [
    "## Feladatok"
   ]
  },
  {
   "cell_type": "markdown",
   "metadata": {},
   "source": [
    "### Anagram\n",
    "[Ezt](words.eng) a szólistát bontsuk anagram-osztályokra. Írjuk ki a \n",
    "legalább 3 nagyságú osztályokat.<br>\n",
    "Anagram-osztályokra bontás: <br>\n",
    "**Input:**\n",
    "```\n",
    "tab\n",
    "abc\n",
    "ab\n",
    "bc\n",
    "c\n",
    "cba\n",
    "bat\n",
    "ba\n",
    "acb\n",
    "```\n",
    "\n",
    "**Output:**\n",
    "```\n",
    "tab bat\n",
    "abc cba acb\n",
    "ab ba\n",
    "bc\n",
    "c\n",
    "```\n"
   ]
  },
  {
   "cell_type": "markdown",
   "metadata": {},
   "source": [
    "## Megoldások\n",
    "\n",
    "### Anagram\n"
   ]
  },
  {
   "cell_type": "code",
   "execution_count": 5,
   "metadata": {},
   "outputs": [
    {
     "name": "stdout",
     "output_type": "stream",
     "text": [
      "pares pears rapes parse spear reaps spare \n",
      "caters caster reacts recast traces crates carets \n"
     ]
    }
   ],
   "source": [
    "d=Dict{String,String}()\n",
    "for li in eachline(\"words.eng\")\n",
    "    d[li]=string(sort(collect(li)))\n",
    "end\n",
    "\n",
    "function revDict(d)\n",
    "  rd=Dict()\n",
    "  for (k,dk) in d\n",
    "    rd[dk]=push!(get(rd,dk,[]),k)\n",
    "  end\n",
    "  rd\n",
    "end  \n",
    "\n",
    "function wArr(arr)\n",
    "  for v in arr\n",
    "    print(v,\" \")\n",
    "  end\n",
    "  println()\n",
    "end    \n",
    "\n",
    "for (k,v) in revDict(d)\n",
    "  if length(v)>6\n",
    "    wArr(v)\n",
    "  end\n",
    "end\n"
   ]
  },
  {
   "cell_type": "code",
   "execution_count": null,
   "metadata": {},
   "outputs": [],
   "source": []
  }
 ],
 "metadata": {
  "@webio": {
   "lastCommId": "50e7006e21d1454082625702669ec7dd",
   "lastKernelId": "c22df176-e50f-4b73-86b0-3e1a52744ac4"
  },
  "kernelspec": {
   "display_name": "Julia 1.1.1",
   "language": "julia",
   "name": "julia-1.1"
  },
  "language_info": {
   "file_extension": ".jl",
   "mimetype": "application/julia",
   "name": "julia",
   "version": "1.1.1"
  },
  "toc": {
   "base_numbering": 1,
   "nav_menu": {},
   "number_sections": true,
   "sideBar": true,
   "skip_h1_title": true,
   "title_cell": "Table of Contents",
   "title_sidebar": "Contents",
   "toc_cell": false,
   "toc_position": {},
   "toc_section_display": true,
   "toc_window_display": true
  }
 },
 "nbformat": 4,
 "nbformat_minor": 2
}
