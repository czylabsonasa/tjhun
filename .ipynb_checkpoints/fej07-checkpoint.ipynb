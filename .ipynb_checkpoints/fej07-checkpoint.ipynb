{
 "cells": [
  {
   "cell_type": "markdown",
   "metadata": {},
   "source": [
    "# Ismétlés\n",
    "\n",
    "Ismétlés=Bizonyos utasítás-csoportok ismételt végrehajtása. A faktoriális függvényt megvalósíthatjuk \n",
    "a következőképpen is, a ```while``` utasítással:"
   ]
  },
  {
   "cell_type": "code",
   "execution_count": 1,
   "metadata": {},
   "outputs": [
    {
     "data": {
      "text/plain": [
       "4-element Array{Int64,1}:\n",
       "  1\n",
       "  2\n",
       "  6\n",
       " 24"
      ]
     },
     "execution_count": 1,
     "metadata": {},
     "output_type": "execute_result"
    }
   ],
   "source": [
    "function fact(n)\n",
    "  res=1\n",
    "  i=2\n",
    "  while i<=n # true/false logikai feltétel\n",
    "    res*=i\n",
    "    i+=1\n",
    "  end\n",
    "  res\n",
    "end\n",
    "fact.(1:4)\n"
   ]
  },
  {
   "cell_type": "markdown",
   "metadata": {},
   "source": [
    "Itt most alulról, a lenti végétől építjük fel a faktoriálist. $1!=1$ már ki van számolva. <br>\n",
    "Ha ```while``` (fej) utáni logikai kifejezés értéke igaz, akkor a törzsben levő utasítások végrehajtódnak, <br>\n",
    "majd újra a fejben levő feltétel vizsgálata következik. Minden $i<=n$ vizsgálatkor a $res=(i-1)!$, ez a ciklusunk <br> invariánsa, ezért működik jól. <br>\n",
    "\n",
    "A ```visszaSzámol``` ismétléses változata:"
   ]
  },
  {
   "cell_type": "code",
   "execution_count": 7,
   "metadata": {},
   "outputs": [
    {
     "name": "stdout",
     "output_type": "stream",
     "text": [
      "5 4 3 2 1 Bumm!\n"
     ]
    }
   ],
   "source": [
    "function visszaSzámol(n)\n",
    "    while n>0\n",
    "      print(n, \" \")\n",
    "      n-=1\n",
    "    end\n",
    "    println(\"Bumm!\")\n",
    "end\n",
    "visszaSzámol(5)"
   ]
  },
  {
   "cell_type": "code",
   "execution_count": 6,
   "metadata": {},
   "outputs": [
    {
     "ename": "ArgumentError",
     "evalue": "ArgumentError: `nothing` should not be printed; use `show`, `repr`, or custom output instead.",
     "output_type": "error",
     "traceback": [
      "ArgumentError: `nothing` should not be printed; use `show`, `repr`, or custom output instead.",
      "",
      "Stacktrace:",
      " [1] print(::IJulia.IJuliaStdio{Base.PipeEndpoint}, ::Nothing) at ./show.jl:566",
      " [2] print(::IJulia.IJuliaStdio{Base.PipeEndpoint}, ::Nothing, ::Char) at ./strings/io.jl:42",
      " [3] println(::IJulia.IJuliaStdio{Base.PipeEndpoint}, ::Nothing) at ./strings/io.jl:69",
      " [4] println(::Nothing) at ./coreio.jl:4",
      " [5] top-level scope at ./In[6]:1"
     ]
    }
   ],
   "source": [
    "let i=1; a=(while i<3 i=i+1 end); println(a) end"
   ]
  },
  {
   "cell_type": "code",
   "execution_count": null,
   "metadata": {},
   "outputs": [],
   "source": []
  }
 ],
 "metadata": {
  "@webio": {
   "lastCommId": "50e7006e21d1454082625702669ec7dd",
   "lastKernelId": "c22df176-e50f-4b73-86b0-3e1a52744ac4"
  },
  "kernelspec": {
   "display_name": "Julia 1.0.3",
   "language": "julia",
   "name": "julia-1.0"
  },
  "language_info": {
   "file_extension": ".jl",
   "mimetype": "application/julia",
   "name": "julia",
   "version": "1.0.3"
  }
 },
 "nbformat": 4,
 "nbformat_minor": 2
}
