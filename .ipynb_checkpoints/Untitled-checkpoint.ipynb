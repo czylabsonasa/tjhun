{
 "cells": [
  {
   "cell_type": "code",
   "execution_count": 12,
   "metadata": {},
   "outputs": [
    {
     "data": {
      "text/plain": [
       "false"
      ]
     },
     "execution_count": 12,
     "metadata": {},
     "output_type": "execute_result"
    }
   ],
   "source": [
    "function mer(x1,x2) # simulate \"strict\" merge \n",
    "  if x1[1]>x2[1] x1,x2=x2,x1 end # x1 a kezdő\n",
    "  n1,n2=length(x1),length(x2)\n",
    "  if n2>n1 || n1-n2>1 return false end\n",
    "  for i in 1:min(n1,n2)\n",
    "    if x1[i]>=x2[i] return false end\n",
    "  end\n",
    "  if n1>n2 && x1[n1]<=x2[n2] return false end\n",
    "  true\n",
    "end\n",
    "\n",
    "x=[10,20,30]\n",
    "y=[11,22,31,32]\n",
    "mer(x,y)"
   ]
  },
  {
   "cell_type": "code",
   "execution_count": 14,
   "metadata": {},
   "outputs": [
    {
     "data": {
      "text/plain": [
       "Dict{Char,Array{Int64,1}} with 4 entries:\n",
       "  'a' => [1, 4]\n",
       "  's' => [2, 5, 8, 11]\n",
       "  'd' => [3, 6, 9, 12]\n",
       "  'b' => [7, 10]"
      ]
     },
     "execution_count": 14,
     "metadata": {},
     "output_type": "execute_result"
    }
   ],
   "source": [
    "function pre(s)\n",
    "  d=Dict{Char,Vector{Int}}()\n",
    "  for i in 1:length(s)\n",
    "    si=s[i]\n",
    "    if haskey(d,si)\n",
    "      push!(d[si],i)\n",
    "    else\n",
    "      d[si]=[i]\n",
    "    end\n",
    "  end\n",
    "  d\n",
    "end\n",
    "pre(\"asdasdbsdbsd\")"
   ]
  },
  {
   "cell_type": "code",
   "execution_count": 16,
   "metadata": {},
   "outputs": [
    {
     "data": {
      "text/plain": [
       "solve (generic function with 1 method)"
      ]
     },
     "execution_count": 16,
     "metadata": {},
     "output_type": "execute_result"
    }
   ],
   "source": [
    "function solve(d)\n",
    "  ret=0\n",
    "  chr=[c for c in collect('a':'z') if true==haskey(d,c)]\n",
    "  for i in 1:length(chr)-1 \n",
    "    li=length(chr[i])\n",
    "    di=d[i]\n",
    "    for j in i+1:length(chr)\n",
    "      if length[chr[j]]+li>ret && mer(di,d[chr[j]])==true\n",
    "        ret=length[chr[j]]+li\n",
    "      end\n",
    "    end\n",
    "  end\n",
    "end"
   ]
  },
  {
   "cell_type": "code",
   "execution_count": null,
   "metadata": {},
   "outputs": [],
   "source": []
  }
 ],
 "metadata": {
  "kernelspec": {
   "display_name": "Julia 1.0.0",
   "language": "julia",
   "name": "julia-1.0"
  },
  "language_info": {
   "file_extension": ".jl",
   "mimetype": "application/julia",
   "name": "julia",
   "version": "1.0.0"
  }
 },
 "nbformat": 4,
 "nbformat_minor": 2
}
