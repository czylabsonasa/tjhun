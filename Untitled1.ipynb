{
 "cells": [
  {
   "cell_type": "markdown",
   "metadata": {},
   "source": [
    "# További olvasnivalók\n",
    "\n",
    "## [az értékadás értéke](https://www.juliabloggers.com/returned-value-of-assignment-in-julia/)\n",
    "\n",
    "## [különbségek a Matlab, C, python, R nyelvektől](https://docs.julialang.org/en/v1/manual/noteworthy-differences/index.html)"
   ]
  },
  {
   "cell_type": "code",
   "execution_count": null,
   "metadata": {},
   "outputs": [],
   "source": []
  }
 ],
 "metadata": {
  "@webio": {
   "lastCommId": "6fa258d04831436c839da1e121b9c14e",
   "lastKernelId": "725bf53d-0da3-4135-8620-2a1f79b8867f"
  },
  "kernelspec": {
   "display_name": "Julia 1.0.3",
   "language": "julia",
   "name": "julia-1.0"
  },
  "language_info": {
   "file_extension": ".jl",
   "mimetype": "application/julia",
   "name": "julia",
   "version": "1.0.3"
  }
 },
 "nbformat": 4,
 "nbformat_minor": 2
}
