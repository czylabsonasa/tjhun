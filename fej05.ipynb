{
 "cells": [
  {
   "cell_type": "markdown",
   "metadata": {},
   "source": [
    "# Elágazások, rekurzió\n",
    "\n",
    "A fejezet egyik fő témája az ```if``` utasítás, mely a program aktuális változóinak értékétől - állapotától - függően más-más kódokat futtathat. <br>\n",
    "Bevezetőnek ismerkedjünk meg két új függvénnyel:\n",
    "\n",
    "## Kerekítéses osztás és maradék\n",
    "\n",
    "A ```÷``` operátor elosztja az első operandust a másodikkal és veszi az eredmény egész részét:"
   ]
  },
  {
   "cell_type": "code",
   "execution_count": 19,
   "metadata": {},
   "outputs": [
    {
     "name": "stdout",
     "output_type": "stream",
     "text": [
      "105 perc = 1 óra és 45 perc\n"
     ]
    }
   ],
   "source": [
    "időtartam = 105 # percekben\n",
    "órák=időtartam ÷ 60 \n",
    "println(\"$(időtartam) perc = $(órák) óra és $(percek) perc\")"
   ]
  },
  {
   "cell_type": "code",
   "execution_count": 20,
   "metadata": {},
   "outputs": [
    {
     "name": "stdout",
     "output_type": "stream",
     "text": [
      "105 perc = 1 óra és 45 perc\n",
      "105 perc  = 1 óra és 45 perc\n"
     ]
    }
   ],
   "source": [
    "percek=időtartam % 60\n",
    "println(\"$(időtartam) perc = $(órák) óra és $(percek) perc\")\n",
    "órák,percek=divrem(időtartam,60)\n",
    "println(\"$(időtartam) perc  = $(órák) óra és $(percek) perc\")\n",
    "\n"
   ]
  },
  {
   "cell_type": "markdown",
   "metadata": {},
   "source": [
    "A ```%``` operátorral eldönthetjük, hogy egy szám osztója-e egy másiknak vagy megtudhatjuk egy szám utolsó néhány jegyét - egyszerűen kérdezzük meg a maradékát $10$ bizonyos hatványára nézve (ha a tízes rendszerbeli jegyeire vagyunk kíváncsiak).\n"
   ]
  },
  {
   "cell_type": "code",
   "execution_count": 21,
   "metadata": {},
   "outputs": [
    {
     "name": "stdout",
     "output_type": "stream",
     "text": [
      "0\n",
      "3\n",
      "23\n"
     ]
    }
   ],
   "source": [
    "println(121%11)\n",
    "println(13%5)\n",
    "println(123123%100)"
   ]
  },
  {
   "cell_type": "markdown",
   "metadata": {},
   "source": [
    "## Logikai kifejezések\n",
    "\n",
    "A logikai kifejezés olyan kifejezés, mely vagy igaz-ra vagy hamis-ra értékelődik ki futás során. A ```Julia```-ban a logikai értékek:\n",
    "```true``` és ```false```, melyek a ```Bool``` típust alkotják. Logikai kifejezéseket olyan operátorokkal hozunk létre melyek maguk is logikai értéket adnak. A leggyakrabban használtak az összehasonlító operátorok a teljesség igénye nélkül:\n",
    "\n",
    "|jel|értelme|\n",
    "|---|---|\n",
    "| ```==```  | egyenlőek? |\n",
    "| ```<``` | kisebb? |\n",
    "| ```<=``` | kisebb vagy egyenlö?|\n",
    "| ```!=``` | nem egyenlö?|"
   ]
  },
  {
   "cell_type": "code",
   "execution_count": 22,
   "metadata": {},
   "outputs": [
    {
     "name": "stdout",
     "output_type": "stream",
     "text": [
      "true\n",
      "true\n",
      "true\n"
     ]
    },
    {
     "data": {
      "text/plain": [
       "Bool"
      ]
     },
     "execution_count": 22,
     "metadata": {},
     "output_type": "execute_result"
    }
   ],
   "source": [
    "println(5==5)\n",
    "println(5<=5)\n",
    "println(5<15)\n",
    "typeof(5==6)"
   ]
  },
  {
   "cell_type": "markdown",
   "metadata": {},
   "source": [
    "Ha valaki a megszokott jelölésekhez ragaszkodik:"
   ]
  },
  {
   "cell_type": "code",
   "execution_count": 23,
   "metadata": {},
   "outputs": [
    {
     "name": "stdout",
     "output_type": "stream",
     "text": [
      "true\n",
      "true\n"
     ]
    }
   ],
   "source": [
    "println(3 ≥ 1) # \\ge + TAB\n",
    "println(3 ≠ 1) # # \\ne + TAB"
   ]
  },
  {
   "cell_type": "markdown",
   "metadata": {},
   "source": [
    "Figyeljünk oda: az ```==``` és a ```=``` teljesen más!\n",
    "\n",
    "## Logikai operátorok\n",
    "\n",
    "\n",
    "| jel | olvasása | működése |\n",
    "|---|---|---|\n",
    "| ```&&```  | és | csak akkor igaz, ha mindkét operandus az |\n",
    "| ```\\|\\|``` | vagy | csak akkor hamis, ha mindkét operandus az |\n",
    "| ```!``` | nem | csak akkor igaz ha az operandus nem az |\n",
    "\n",
    "Segítségükkel egyszerűbb logikai kifejezéseket összekapcsolhatunk:"
   ]
  },
  {
   "cell_type": "code",
   "execution_count": 24,
   "metadata": {},
   "outputs": [
    {
     "name": "stdout",
     "output_type": "stream",
     "text": [
      "true\n",
      "false\n",
      "true\n",
      "false\n"
     ]
    }
   ],
   "source": [
    "println(1==1 || 1==1 && 1==0)\n",
    "println((1==0 || 1==1) && 1==0)\n",
    "println(!(1==0) || 1==1)\n",
    "println(!(1==0 || 1==1))\n",
    "\n"
   ]
  },
  {
   "cell_type": "markdown",
   "metadata": {},
   "source": [
    "Az példa mutatja, hogy az ```||```<```&&```<```!``` a precedenciák sorrendje.\n",
    "\n",
    "## Feltételes végrehajtás\n",
    "\n",
    "Ha használható programokat akarunk írni szükség lehet megváltoztatni a program működését a körülményeknek megfelelően. \n",
    "A feltételes utasítás - ```if...end``` - ezt teszi lehetővé:\n"
   ]
  },
  {
   "cell_type": "code",
   "execution_count": 25,
   "metadata": {},
   "outputs": [
    {
     "name": "stdout",
     "output_type": "stream",
     "text": [
      "a 4 páros\n"
     ]
    }
   ],
   "source": [
    "x = 4\n",
    "if x%2==0\n",
    "    println(\"a \",x,\" páros\")\n",
    "end\n"
   ]
  },
  {
   "cell_type": "markdown",
   "metadata": {},
   "source": [
    "A működése: ha az ```if``` utáni logikai kifejezés, a **feltétel** ```igaz``` akkor \n",
    "végrehajtódik a kijelölt tevékenység. Ha nem akkor (itt) nem történik semmi. \n",
    "\n",
    "## Alternatív végrehajtás\n",
    "\n",
    "Fent nem kezeltük le azt az esetet amikor $x$ páratlan, ezt is \n",
    "lekezelhetjük az ```if...else...end``` szerkezettel:"
   ]
  },
  {
   "cell_type": "code",
   "execution_count": 26,
   "metadata": {},
   "outputs": [
    {
     "name": "stdout",
     "output_type": "stream",
     "text": [
      "a 3 páratlan\n"
     ]
    }
   ],
   "source": [
    "x = 3\n",
    "if x%2==0\n",
    "  println(\"a \",x,\" páros\")\n",
    "else\n",
    "  println(\"a \",x,\" páratlan\")\n",
    "end\n"
   ]
  },
  {
   "cell_type": "markdown",
   "metadata": {},
   "source": [
    "## Láncolt elágazás\n",
    "\n",
    "Ha több alternatíva van, hasznos az ```if...elseif...else...end``` szerkezet:"
   ]
  },
  {
   "cell_type": "code",
   "execution_count": 27,
   "metadata": {},
   "outputs": [
    {
     "name": "stdout",
     "output_type": "stream",
     "text": [
      "a(z) 1.0 néggyel 1 maradékot ad\n",
      "a(z) 2.0 néggyel 2 maradékot ad\n",
      "a(z) 3.0 néggyel 3 maradékot ad\n",
      "a(z) 4.0 néggyel osztható\n",
      "a maradékos osztáshoz egész szám kell!\n"
     ]
    }
   ],
   "source": [
    "function foo(x)\n",
    "  if x%4==0\n",
    "    println(\"a(z) \",x,\" néggyel osztható\")\n",
    "  elseif x%4==1\n",
    "    println(\"a(z) \",x,\" néggyel 1 maradékot ad\")\n",
    "  elseif x%4==2\n",
    "    println(\"a(z) \",x,\" néggyel 2 maradékot ad\")\n",
    "  elseif x%4==3\n",
    "    println(\"a(z) \",x,\" néggyel 3 maradékot ad\")\n",
    "  else\n",
    "    println(\"a maradékos osztáshoz egész szám kell!\")\n",
    "  end\n",
    "end\n",
    "foo.([1,2,3,4,4.1]); # broadcasting, lebegőpontos lesz a teljes vektor!"
   ]
  },
  {
   "cell_type": "markdown",
   "metadata": {},
   "source": [
    "Láthatjuk, hogy nincs határ ```elseif``` ágak számára. A logikai kifejezések sorban kiértékelődnek, és<br> \n",
    "ha ```false```-ot kapunk, megy a kiértékelés a további ágakra, amíg el nem fogynak."
   ]
  },
  {
   "cell_type": "markdown",
   "metadata": {},
   "source": [
    "## Egymásba ágyazás\n",
    "Az ```if``` egymásba is ágyazhatóak. Jól gondoljuk meg a használatát, mert ha <br>\n",
    "tartjuk magunkat valamilyen behúzási rendhez, könnyen elgogyhat a képernyőnk szélessége."
   ]
  },
  {
   "cell_type": "code",
   "execution_count": 28,
   "metadata": {},
   "outputs": [
    {
     "name": "stdout",
     "output_type": "stream",
     "text": [
      "x is less than y\n"
     ]
    }
   ],
   "source": [
    "x,y=1,2\n",
    "if x == y\n",
    "    println(\"x and y are equal\")\n",
    "else\n",
    "    if x < y\n",
    "        println(\"x is less than y\")\n",
    "    else\n",
    "        println(\"x is greater than y\")\n",
    "    end\n",
    "end"
   ]
  },
  {
   "cell_type": "markdown",
   "metadata": {},
   "source": [
    "Ráadásul az alábbi esetben, még csúnyább is a kód:"
   ]
  },
  {
   "cell_type": "code",
   "execution_count": 29,
   "metadata": {},
   "outputs": [
    {
     "name": "stdout",
     "output_type": "stream",
     "text": [
      "x is a positive single-digit number.\n"
     ]
    }
   ],
   "source": [
    "if 0 < x\n",
    "    if x < 10\n",
    "        println(\"x is a positive single-digit number.\")\n",
    "    end\n",
    "end"
   ]
  },
  {
   "cell_type": "markdown",
   "metadata": {},
   "source": [
    "Mintha az alábbit használnánk:"
   ]
  },
  {
   "cell_type": "code",
   "execution_count": 30,
   "metadata": {},
   "outputs": [
    {
     "name": "stdout",
     "output_type": "stream",
     "text": [
      "x is a positive single-digit number.\n"
     ]
    }
   ],
   "source": [
    "if 0 < x < 10\n",
    "    println(\"x is a positive single-digit number.\")\n",
    "end"
   ]
  },
  {
   "cell_type": "code",
   "execution_count": 31,
   "metadata": {},
   "outputs": [
    {
     "ename": "LoadError",
     "evalue": "syntax: extra token \"függvények\" after end of expression",
     "output_type": "error",
     "traceback": [
      "syntax: extra token \"függvények\" after end of expression",
      ""
     ]
    }
   ],
   "source": [
    "## Rekurzió\n",
    "\n",
    "A függvények kölcsönösen hívhatják egymást, sőt önmagukat is. Ez elsőre furcsának tűnhet, de <br>\n",
    "meglátjuk, hogy hasznos dolog."
   ]
  },
  {
   "cell_type": "code",
   "execution_count": 32,
   "metadata": {},
   "outputs": [
    {
     "name": "stdout",
     "output_type": "stream",
     "text": [
      "5 4 3 2 1 Bumm!\n"
     ]
    }
   ],
   "source": [
    "function visszaSzámol(n)\n",
    "    if n ≤ 0\n",
    "        println(\"Bumm!\")\n",
    "    else\n",
    "        print(n, \" \")\n",
    "        visszaSzámol(n-1)\n",
    "    end\n",
    "end\n",
    "visszaSzámol(5)"
   ]
  },
  {
   "cell_type": "markdown",
   "metadata": {},
   "source": [
    "Az ilyen típusú hívások láncolata kényelmesen megjeleníthető egy fa segítségével.<br>\n",
    "Következő példával egy sztringet íratunk ki a képernyőre $n$-szer:\n",
    "\n"
   ]
  },
  {
   "cell_type": "code",
   "execution_count": 33,
   "metadata": {},
   "outputs": [
    {
     "name": "stdout",
     "output_type": "stream",
     "text": [
      "hali \n",
      "hali \n",
      "hali \n"
     ]
    }
   ],
   "source": [
    "function kiírN(s, n)\n",
    "    if n ≤ 0\n",
    "        return\n",
    "    end\n",
    "    println(s)\n",
    "    kiírN(s, n-1)\n",
    "end\n",
    "kiírN(\"hali \",3)"
   ]
  },
  {
   "cell_type": "markdown",
   "metadata": {},
   "source": [
    "## Végtelen rekurzió\n",
    "A rekurzív függvények tervezésénél nagyon fontos odafigyelni a rekurzió elzárására, azaz <br>\n",
    "olyan feltételeket beépíteni a függvénybe, melyek minden inputra garantálják hogy nem kerülünk <br>\n",
    "végtelen rekurzióba, ezt a feltételt bázis feltételnek nevezzük (ennek teljesülésekor <br>\n",
    "megszakad a rekurzív hívás-sorozat)."
   ]
  },
  {
   "cell_type": "code",
   "execution_count": 34,
   "metadata": {},
   "outputs": [
    {
     "ename": "StackOverflowError",
     "evalue": "StackOverflowError:",
     "output_type": "error",
     "traceback": [
      "StackOverflowError:",
      "",
      "Stacktrace:",
      " [1] ∞Rekurzió() at ./In[34]:2 (repeats 80000 times)"
     ]
    }
   ],
   "source": [
    "function ∞Rekurzió()\n",
    "    ∞Rekurzió()\n",
    "end\n",
    "∞Rekurzió()"
   ]
  },
  {
   "cell_type": "markdown",
   "metadata": {},
   "source": [
    "Szerencsére mindig van hardveres korlátja is a végtelen rekurziónak,<br> \n",
    "de gyakran nem könnyű lenyomozni hol kerül a programunk végtelen rekurzióba.<br>\n",
    "A fenti példa arról ad tájékoztatást, hogy $80000$ mélységű rekurzió után a futás megszakadt."
   ]
  },
  {
   "cell_type": "markdown",
   "metadata": {},
   "source": [
    "## Adat-bevitel\n",
    "\n",
    "Julia-ban a ```readline``` függvénnyel olvashatunk a billenytyűzetről, a sztenderd inputról karaktereket.\n"
   ]
  },
  {
   "cell_type": "code",
   "execution_count": null,
   "metadata": {},
   "outputs": [],
   "source": [
    "s=readline()\n",
    "println(\"ezt adtad: \", s)"
   ]
  },
  {
   "cell_type": "markdown",
   "metadata": {},
   "source": [
    "Az olvasást összekapcsolhatjuk kiírással is:"
   ]
  },
  {
   "cell_type": "code",
   "execution_count": null,
   "metadata": {},
   "outputs": [],
   "source": [
    "s = (println(\"hány éves vagy?\"); readline())\n",
    "println( if mod(parse(Int,s),2)==0 \"páros sok éves vagy\" else \"páratlan sok éves vagy\" end )"
   ]
  },
  {
   "cell_type": "markdown",
   "metadata": {},
   "source": [
    "A pontosvesszővel elválasztott kifejezések kiértékelődnek. A zárójel egy kifejezéssé alakítja őket.<br>\n",
    "A végső kifejezés értéke az utoljára kiértékelt kifejezés, a ```readline()```. A beolvasott <br>\n",
    "sztringet a ```parse``` segítségével alakíthatjuk egésszé.\n"
   ]
  },
  {
   "cell_type": "markdown",
   "metadata": {},
   "source": [
    "## Feladatok"
   ]
  },
  {
   "cell_type": "markdown",
   "metadata": {},
   "source": [
    "### 1. Próbáljuk megfejteni az alábbi függvény működését:\n",
    "```julia\n",
    "function recurse(n, s)\n",
    "    if n == 0\n",
    "        println(s)\n",
    "    else\n",
    "        recurse(n-1, n+s)\n",
    "    end\n",
    "end\n",
    "```\n",
    "\n",
    "### 2. Írjunk egy \n",
    "```julia\n",
    "function checkFermat(a,b,c,n)\n",
    "end\n",
    "```\n",
    "alakú függvényt, mely ellenőrzi hogy a híres [Fermat](https://hu.wikipedia.org/wiki/Nagy_Fermat-t%C3%A9tel)-féle $a^n+b^n=c^n$ egyenlőség teljesül-e vagy sem. (```true,false```)\n",
    "\n",
    "### 3. Írjunk egy\n",
    "```julia\n",
    "function checkTriangle(a,b,c)\n",
    "end\n",
    "```\n",
    "alakú függvényt, mely ellenőrzi hogy az adott számokból szerkeszthető-e háromszög. (```true,false```)\n",
    "\n"
   ]
  }
 ],
 "metadata": {
  "@webio": {
   "lastCommId": "db6c10c96c2c43e08d3c68d11e5c9651",
   "lastKernelId": "a0aed512-940f-48b6-9a1d-1dab7d054575"
  },
  "kernelspec": {
   "display_name": "Julia 1.0.3",
   "language": "julia",
   "name": "julia-1.0"
  },
  "language_info": {
   "file_extension": ".jl",
   "mimetype": "application/julia",
   "name": "julia",
   "version": "1.0.3"
  }
 },
 "nbformat": 4,
 "nbformat_minor": 2
}
